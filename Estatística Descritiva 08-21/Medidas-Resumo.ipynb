{
 "cells": [
  {
   "cell_type": "markdown",
   "id": "b9e2c88a",
   "metadata": {},
   "source": [
    "# Medidas Resumo"
   ]
  },
  {
   "cell_type": "markdown",
   "id": "4694e16b",
   "metadata": {},
   "source": [
    "Características importantes de qualquer conjunto de dados"
   ]
  },
  {
   "cell_type": "markdown",
   "id": "1c1ca37b",
   "metadata": {},
   "source": [
    "* Centro\n",
    "* Variacão\n",
    "* Distribuição\n",
    "* Valores atípicos"
   ]
  },
  {
   "cell_type": "markdown",
   "id": "bc776f27",
   "metadata": {},
   "source": [
    "### 1. Medidas de Posição ou Localização"
   ]
  },
  {
   "cell_type": "markdown",
   "id": "51d64d85",
   "metadata": {},
   "source": [
    "* Média - Ponto de equilíbrio\n",
    "* Mediana - Centro dos dados\n",
    "* Moda - Ponto de concentração\n",
    "* Quantis - Caracterização da distribuição dod dados"
   ]
  },
  {
   "cell_type": "markdown",
   "id": "69d17983",
   "metadata": {},
   "source": [
    "#### 1.1 Média"
   ]
  },
  {
   "cell_type": "markdown",
   "id": "92634698",
   "metadata": {},
   "source": [
    "Seja $X_1$ .... $X_n$ uma amostra e $x_1$ .... $x_n$ os valores observados de cada x."
   ]
  },
  {
   "cell_type": "markdown",
   "id": "11c72572",
   "metadata": {},
   "source": [
    "A **média** amostral é definida como:"
   ]
  },
  {
   "cell_type": "markdown",
   "id": "7910aa9b",
   "metadata": {},
   "source": [
    "$$\\bar{x} = \\frac{\\sum_{i=1}^n x_i}{n}$$"
   ]
  },
  {
   "cell_type": "markdown",
   "id": "6c59bf8e",
   "metadata": {},
   "source": [
    "#### Vantagens"
   ]
  },
  {
   "cell_type": "markdown",
   "id": "57ca1b43",
   "metadata": {},
   "source": [
    "* Tem boas propiedades estadísticas\n",
    "* Facilidade de cálculo e compreensão\n",
    "\n",
    "#### Desvantagens\n",
    "* Influenciada por valores atípicos\n",
    "* Bastante afetada por distribuicões assimétricas\n",
    "* Só pode ser calculada para dados quantitativos"
   ]
  },
  {
   "cell_type": "markdown",
   "id": "e2d0a376",
   "metadata": {},
   "source": [
    "#### 1.2 Mediana"
   ]
  },
  {
   "cell_type": "markdown",
   "id": "89abcfc6",
   "metadata": {},
   "source": [
    "Considere a amostra ordenada $x_{(1)}$ .... $x_{(n)}$, ou seja $x_{(1)}$ = min($x_{(1)}$ .... $x_{(n)}$) e $x_{(n)}$ = max($x_{(1)}$ .... $x_{(n)}$)"
   ]
  },
  {
   "cell_type": "markdown",
   "id": "26714ac3",
   "metadata": {},
   "source": [
    "Qual é a posição dos dados?\n",
    "* Se n é ímpar, a posição central é p = (n+1)/2.\n",
    "* Se n é par, as posições centrais são p = n/2 e p+1 = n/2 + 1"
   ]
  },
  {
   "cell_type": "markdown",
   "id": "77c50a2f",
   "metadata": {},
   "source": [
    "A mediana é definida como"
   ]
  },
  {
   "cell_type": "markdown",
   "id": "6e6e6e49",
   "metadata": {},
   "source": [
    "$$\n",
    "Md = \\left\\{\n",
    "    \\begin{array}\\\\\n",
    "        \\frac{x_{(p)} + x_{(p+1)}}{2} & \\mbox{se n é par}\\\\\n",
    "        x_{(p)} & \\mbox{se n é ímpar}\\\\\n",
    "    \\end{array}\n",
    "\\right.\n",
    "$$"
   ]
  },
  {
   "cell_type": "markdown",
   "id": "9a6da3b7",
   "metadata": {},
   "source": [
    "#### Vantajens\n",
    "* Mais resistente a valores atípicos\n",
    "* Pouco afetada pro distribuições asimétricas\n",
    "\n",
    "#### Desvantagens\n",
    "* Menos conhecida que a média\n",
    "* Não tem boas propiedades estadísticas"
   ]
  },
  {
   "cell_type": "markdown",
   "id": "a926ca43",
   "metadata": {},
   "source": [
    "#### 1.3 Moda"
   ]
  },
  {
   "cell_type": "markdown",
   "id": "5a18ed15",
   "metadata": {},
   "source": [
    "A **moda** é o valor mais frequente da amostra. Uma amostra pode ser uma moda, mais de uma moda, ou a moda pode não existir"
   ]
  },
  {
   "cell_type": "markdown",
   "id": "71dd63c8",
   "metadata": {},
   "source": [
    "#### Vantagens\n",
    "* Não exige cálculo, apenas contagem.\n",
    "* Pode ser determinada também para variáveis qualitativas\n",
    "\n",
    "#### Desvantagens\n",
    "* Deixa sem representação todos os valores do conjunto de dados que não forem iguais a ela.\n",
    "* Não tem boas propiedades estadísticas."
   ]
  },
  {
   "cell_type": "markdown",
   "id": "cad833b7",
   "metadata": {},
   "source": [
    "#### 1.4 Medidas de Assimetria\n",
    "* **Distribuição simétrica**: média = mediana = moda\n",
    "* **Distribuição assimétrica á direita**: moda < mediana < média\n",
    "* **Distribuição assimétrica á esquerda**: média < mediana < moda"
   ]
  },
  {
   "cell_type": "markdown",
   "id": "09b9da52",
   "metadata": {},
   "source": [
    "Quando usar a média, mediana ou moda?\n",
    "* **Média**: Maior eficiência quanto mais simétrica for a distribuição\n",
    "* **Mediana**: Mesmo com valores assimétricos en torno da média, ele será o centro da distribuição.\n",
    "* **Moda**: Quando o interesse é conhecer o(s) valor(es) que aparece(m) com maior frequencia."
   ]
  },
  {
   "cell_type": "markdown",
   "id": "b089c8fb",
   "metadata": {},
   "source": [
    "#### 1.4 Quantis ou Separatizes"
   ]
  },
  {
   "cell_type": "markdown",
   "id": "3a26fef5",
   "metadata": {},
   "source": [
    "Indicam limites para proporções de observações em um conjunto.\n",
    "* **Quartis** - dividem o conjunto de dados em 4 partes iguais.\n",
    "* **Decis** - dividem o conunto de dados em 10 partes iguais\n",
    "* **Percentis** - dividem o conunto de dados em 100 partes iguais"
   ]
  },
  {
   "cell_type": "markdown",
   "id": "0f83360c",
   "metadata": {},
   "source": [
    "### 2. Medidas de Dispersão"
   ]
  },
  {
   "cell_type": "markdown",
   "id": "366073b3",
   "metadata": {},
   "source": [
    "Indicam o quanto os valores diferem entre si ou quanto eles se afastam da média.\n",
    "* **Amplitude**\n",
    "* **Desvio-padrão**\n",
    "* **Variância**\n",
    "* **Coeficiente de variação**"
   ]
  },
  {
   "cell_type": "markdown",
   "id": "3e5bb4f9",
   "metadata": {},
   "source": [
    "#### 2.1 Amplitude\n",
    "É representada por"
   ]
  },
  {
   "cell_type": "markdown",
   "id": "fb1e4302",
   "metadata": {},
   "source": [
    "$$A = x_{(n)} - x_{(1)}$$"
   ]
  },
  {
   "cell_type": "markdown",
   "id": "e1fe98d7",
   "metadata": {},
   "source": [
    "#### Desvantagens\n",
    "* É pouco precisa\n",
    "* Extremamente influenciada por valores discrepantes"
   ]
  },
  {
   "cell_type": "markdown",
   "id": "af271a95",
   "metadata": {},
   "source": [
    "#### 2.2 Variância amostral"
   ]
  },
  {
   "cell_type": "markdown",
   "id": "0a5f4048",
   "metadata": {},
   "source": [
    "$$s^2 = \\frac{\\sum_{i=1}^n (x_i - \\bar{x})^2}{n - 1}$$"
   ]
  },
  {
   "cell_type": "markdown",
   "id": "6e951e78",
   "metadata": {},
   "source": [
    "#### Vantagens\n",
    "* Facilidade de compreensão\n",
    "* Propiedades estadísticas importantes para inferência\n",
    "* Considera o desvio = ($x_i - hat{x}$), que mede o quanto cada valor desvia da média.\n",
    "\n",
    "#### Desvantagens\n",
    "* Calculada a partir da média, medida pouco resistente, ou seja, muito influenciada por valores atípico.\n",
    "* Interpretação difícil, pois o valor da variância é a unidade de medida da variável ao quadrado. Ou seja, se a variável y é a altura em $cm$ dos estudantes, então a variância será $cm^2$"
   ]
  },
  {
   "cell_type": "markdown",
   "id": "e9fe58e6",
   "metadata": {},
   "source": [
    "#### 2.3 Desvio-padrão amostral\n",
    "Surge para solucionar o problema de interpretação da variância."
   ]
  },
  {
   "cell_type": "markdown",
   "id": "ba88da9b",
   "metadata": {},
   "source": [
    "$$s = \\sqrt{\\frac{\\sum_{i=1}^n (x_i - \\bar{x})^2}{n - 1}}$$"
   ]
  },
  {
   "cell_type": "markdown",
   "id": "639c80a7",
   "metadata": {},
   "source": [
    "**Significado**: Variação média em torno da média aritmética."
   ]
  },
  {
   "cell_type": "markdown",
   "id": "69e4a5cf",
   "metadata": {},
   "source": [
    "#### 2.4 Coeficiente de variação (CV)\n",
    "O **coeficiente de variação** (amostral) é represntado por:"
   ]
  },
  {
   "cell_type": "markdown",
   "id": "63d19551",
   "metadata": {},
   "source": [
    "$$CV = 100 . \\frac{s}{\\bar{x}}$$"
   ]
  },
  {
   "cell_type": "markdown",
   "id": "0904bb55",
   "metadata": {},
   "source": [
    "* Medida de variabilidade relativa á média\n",
    "* É uma medida adimensional, e geralmente apresentada na forma de porcentagem.\n",
    "* É ideal para comparar a variabilidade de variáveis com unidade de medidas diferentes."
   ]
  },
  {
   "cell_type": "markdown",
   "id": "7fa1cae1",
   "metadata": {},
   "source": [
    "**Exemplo:**"
   ]
  },
  {
   "cell_type": "markdown",
   "id": "685f8704",
   "metadata": {},
   "source": [
    "1. Consideremos conjunto de valores referentes a produção diária de leite (em litros)\n",
    "* Raça 1: $\\bar{x}$ = 25 l; s = 4,2 l;  **CV = 16,8%**\n",
    "* Raça 2: $\\bar{x}$ = 13 l; s = 9 l;  **CV = 26,2%**"
   ]
  },
  {
   "cell_type": "markdown",
   "id": "30d54926",
   "metadata": {},
   "source": [
    "2. Consideremos conjunto de valores referentes a altura (em cm) e os pesos (em kg), de um grupo de estudantes.\n",
    "* Raça 1: $\\bar{x}$ = 165cm; s = 30 cm;  **CV = 18,2%**\n",
    "* Raça 2: $\\bar{x}$ = 58 kg; s = 9 kg;  **CV = 15,5%**"
   ]
  },
  {
   "cell_type": "markdown",
   "id": "3f7de994",
   "metadata": {},
   "source": [
    "Alguns autores consideram as seguintes regras:\n",
    "* **Baixa Dispersão:** CV < 15%\n",
    "* **Dispersão Média:** CV < 30%\n",
    "* **Dispersão Alta:** CV >= 30%"
   ]
  },
  {
   "cell_type": "markdown",
   "id": "c888917d",
   "metadata": {},
   "source": [
    "### 3. Medidas de Associação"
   ]
  },
  {
   "cell_type": "markdown",
   "id": "2b28453b",
   "metadata": {},
   "source": [
    "Quando o interesse é avaliar o comportamento conjunto de de duas variáveis.\n",
    "* Qual o tipo de relacionamento entre elas?\n",
    "* Qual a intensidade da relação?"
   ]
  },
  {
   "cell_type": "markdown",
   "id": "2d639b05",
   "metadata": {},
   "source": [
    "**Exemplos:**\n",
    "* Relação entre a altura dos pais (X) e altura dos filhos (Y).\n",
    "* Relação entre renda familiar (X) e nũmero de filhos (Y)."
   ]
  },
  {
   "cell_type": "markdown",
   "id": "6a8cd772",
   "metadata": {},
   "source": [
    "#### 3.1 Covariância"
   ]
  },
  {
   "cell_type": "markdown",
   "id": "d9cf9afe",
   "metadata": {},
   "source": [
    "$$Cov(X,Y) = \\sum_{i=1}^n (x_i - \\bar{x})(y_i - \\bar{y}) $$"
   ]
  },
  {
   "cell_type": "markdown",
   "id": "5706f5ec",
   "metadata": {},
   "source": [
    "Representa o quanto X e Y estão variando em conjunto.\n",
    "* **Covariância Positiva:** Relação entre X e Y na mesma direção.\n",
    "* **Covariância Negativa:** Relação X e Y na direção contrária."
   ]
  },
  {
   "cell_type": "markdown",
   "id": "2cd9c56c",
   "metadata": {},
   "source": [
    "#### 3.2 Coeficiente de Correlação de Pearson"
   ]
  },
  {
   "cell_type": "markdown",
   "id": "9620ae45",
   "metadata": {},
   "source": [
    "$$r = \\frac{Cov(X,Y)}{S_xS_y}$$"
   ]
  },
  {
   "cell_type": "markdown",
   "id": "70b19412",
   "metadata": {},
   "source": [
    "Deve ser calculado quando existe uma relação linear entre X e Y.\n",
    "\n",
    "Interpretação:\n",
    "* **r positivo:**\n",
    "* **r negativo:**\n",
    "    * **Ausência de correlação (não implica em independência):** r = 0\n",
    "    * **Fraca:** 0 **<** r **=<** 0,4\n",
    "    * **Regular:** 0,4 **<** r **=<** 0,6\n",
    "    * **Boa:** 0,6 **<** r **=<** 0,8\n",
    "    * **Alta:** r **>** 0,8\n",
    "    * **Perfeita:** r **=** 1"
   ]
  },
  {
   "cell_type": "markdown",
   "id": "3709a25b",
   "metadata": {},
   "source": [
    "Correlação não implica em Casualidade\n",
    "* O coeficiente de correlação não mede a relação de causa e efeito entre as variáveis, mas essa relação pode está presente.\n",
    "* **Exemplo:** forte relação positiva entre as vendas anuais de chicletes e a taxa de criminalidade nos EUA.\n",
    "\n",
    "#### Desvantagem:\n",
    "* Por ser em função de média é altamente afetado por valores atípicos."
   ]
  },
  {
   "cell_type": "markdown",
   "id": "e5d6ba64",
   "metadata": {},
   "source": [
    "#### 3.3 Coeficiente de Correlação de Spearman\n",
    "É igual ao Coeficiente de Pearson aplicado aos valores da ordem de duas variáveis."
   ]
  },
  {
   "cell_type": "code",
   "execution_count": null,
   "id": "37f5e0d4",
   "metadata": {},
   "outputs": [],
   "source": []
  },
  {
   "cell_type": "markdown",
   "id": "22eecee9",
   "metadata": {},
   "source": [
    "**Exemplo:** Se x={7,2,5,9}, então rx={3,1,2,4}.\n",
    "\n",
    "**Vantagens**\n",
    "* Não é sensível a assimetria e nem a valores atípicos\n",
    "* Mede relações lineares e não-lineares\n",
    "\n",
    "**Desvantagens**\n",
    "* Quando temos muitas observações com a mesma orden (Coeficiente de Correlação de Kendall)."
   ]
  },
  {
   "cell_type": "markdown",
   "id": "9f9ca85f",
   "metadata": {},
   "source": [
    "### 4. Regra geral para escolha da medida mais adequada\n",
    "* Qual o objetivo de análise?\n",
    "* A medida é intuitiva e fácil de interpretar?\n",
    "* Existem valores que possam afetá-la?\n",
    "* A análise é meramente descritiva ou pretende-se fazer inferência?"
   ]
  },
  {
   "cell_type": "markdown",
   "id": "7a833343",
   "metadata": {},
   "source": [
    "# Práctica Medida-Resumo"
   ]
  },
  {
   "cell_type": "code",
   "execution_count": 90,
   "id": "cd5f20ff",
   "metadata": {},
   "outputs": [],
   "source": [
    "import statistics\n",
    "import numpy as np\n",
    "import pandas as pd\n",
    "import matplotlib.pyplot as plt\n",
    "from termcolor import colored"
   ]
  },
  {
   "cell_type": "markdown",
   "id": "8fef68ad",
   "metadata": {},
   "source": [
    "### 1. Média e mediana"
   ]
  },
  {
   "cell_type": "markdown",
   "id": "224d3a42",
   "metadata": {},
   "source": [
    "#### 1.1 Média"
   ]
  },
  {
   "cell_type": "code",
   "execution_count": 35,
   "id": "5d173a82",
   "metadata": {},
   "outputs": [],
   "source": [
    "dados = [28, 12, 2.5, 4, 1]\n",
    "dados_sem_outlier_1 = [12, 2.5, 4, 1]\n",
    "dados_sem_outlier_2 = [2.5, 4, 1]"
   ]
  },
  {
   "cell_type": "code",
   "execution_count": 107,
   "id": "7b4dd8d1",
   "metadata": {},
   "outputs": [
    {
     "name": "stdout",
     "output_type": "stream",
     "text": [
      "Média:  \u001b[32m9.5\u001b[0m\n",
      "Média sem outlier 1:  \u001b[32m4.875\u001b[0m\n",
      "Média sem outlier 2:  \u001b[32m2.5\u001b[0m\n"
     ]
    }
   ],
   "source": [
    "# Cálculo da média\n",
    "dados_mean = statistics.mean(dados)\n",
    "mean_sem_outlier_1 = statistics.mean(dados_sem_outlier_1)\n",
    "mean_sem_outlier_2 = statistics.mean(dados_sem_outlier_2)\n",
    "print(\"Média: \", colored(\"{}\".format(dados_mean), 'green'))\n",
    "print(\"Média sem outlier 1: \", colored(\"{}\".format(mean_sem_outlier_1), 'green'))\n",
    "print(\"Média sem outlier 2: \", colored(\"{}\".format(mean_sem_outlier_2), 'green'))"
   ]
  },
  {
   "cell_type": "code",
   "execution_count": 73,
   "id": "4bc50afb",
   "metadata": {},
   "outputs": [
    {
     "data": {
      "image/png": "[encoded data removed]",
      "text/plain": [
       "<Figure size 432x720 with 3 Axes>"
      ]
     },
     "metadata": {
      "needs_background": "light"
     },
     "output_type": "display_data"
    }
   ],
   "source": [
    "# Representação gráfica das médias\n",
    "fig, (ax1, ax2, ax3) = plt.subplots(3, figsize = (6,10))\n",
    "fig.tight_layout(pad=4)\n",
    "ax1.scatter(dados, [\"A\", \"A\", \"A\", \"A\", \"A\"], s=200.0, c = \"#d0cfd0\", label='Dados')\n",
    "ax1.set_title(\"Ponto de dados\")\n",
    "ax1.scatter(dados_mean, [\"A\"], s=200.0, c = \"#6C6CFF\", label='Média')\n",
    "ax1.legend()\n",
    "ax2.scatter(dados_sem_outlier_1, [\"A\", \"A\", \"A\", \"A\"], s=200.0, c = \"#d0cfd0\", label='Dados')\n",
    "ax2.set_title(\"Ponto de dados sem outlier 1\")\n",
    "ax2.scatter(mean_sem_outlier_1, [\"A\"], s=200.0, c = \"#6C6CFF\", label='Média')\n",
    "ax2.legend()\n",
    "ax2.set_xlim(0, 30)\n",
    "ax3.scatter(dados_sem_outlier_2, [\"A\", \"A\", \"A\"], s=200.0, c = \"#d0cfd0\", label='Dados')\n",
    "ax3.set_title(\"Ponto de dados sem outlier 2\")\n",
    "ax3.scatter(mean_sem_outlier_2, [\"A\"], s=200.0, c = \"#6C6CFF\", label='Média')\n",
    "ax3.legend()\n",
    "ax3.set_xlim(0, 30);"
   ]
  },
  {
   "cell_type": "markdown",
   "id": "6ac55c2f",
   "metadata": {},
   "source": [
    "#### 1.2 Mediana"
   ]
  },
  {
   "cell_type": "code",
   "execution_count": 105,
   "id": "58f06bb4",
   "metadata": {},
   "outputs": [
    {
     "name": "stdout",
     "output_type": "stream",
     "text": [
      "Mediana:  \u001b[32m4\u001b[0m\n",
      "Mediana sem outlier 1:  \u001b[32m3.25\u001b[0m\n",
      "Mediana sem outlier 2:  \u001b[32m2.5\u001b[0m\n"
     ]
    }
   ],
   "source": [
    "# Cálculo da mediana\n",
    "dados_med = statistics.median(dados)\n",
    "med_sem_outlier_1 = statistics.median(dados_sem_outlier_1)\n",
    "med_sem_outlier_2 = statistics.median(dados_sem_outlier_2)\n",
    "print(\"Mediana: \", colored(\"{}\".format(dados_med), 'green'))\n",
    "print(\"Mediana sem outlier 1: \", colored(\"{}\".format(med_sem_outlier_1), 'green'))\n",
    "print(\"Mediana sem outlier 2: \", colored(\"{}\".format(med_sem_outlier_2), 'green'))"
   ]
  },
  {
   "cell_type": "code",
   "execution_count": 76,
   "id": "8937ca9d",
   "metadata": {},
   "outputs": [
    {
     "data": {
      "image/png": "[encoded data removed]",
      "text/plain": [
       "<Figure size 432x720 with 3 Axes>"
      ]
     },
     "metadata": {
      "needs_background": "light"
     },
     "output_type": "display_data"
    }
   ],
   "source": [
    "# Representação gráfica das medianas\n",
    "fig, (ax1, ax2, ax3) = plt.subplots(3, figsize = (6,10))\n",
    "fig.tight_layout(pad=4)\n",
    "ax1.scatter(dados, [\"A\", \"A\", \"A\", \"A\", \"A\"], s=200.0, c = \"#d0cfd0\", label='Dados')\n",
    "ax1.set_title(\"Ponto de dados\")\n",
    "ax1.scatter(dados_med, [\"A\"], s=200.0, c = \"#6C6CFF\", label='Mediana')\n",
    "ax1.legend()\n",
    "ax2.scatter(dados_sem_outlier_1, [\"A\", \"A\", \"A\", \"A\"], s=200.0, c = \"#d0cfd0\", label='Dados')\n",
    "ax2.set_title(\"Ponto de dados sem outlier 1\")\n",
    "ax2.scatter(med_sem_outlier_1, [\"A\"], s=200.0, c = \"#6C6CFF\", label='Mediana')\n",
    "ax2.legend()\n",
    "ax2.set_xlim(0, 30)\n",
    "ax3.scatter(dados_sem_outlier_2, [\"A\", \"A\", \"A\"], s=200.0, c = \"#d0cfd0\", label='Dados')\n",
    "ax3.set_title(\"Ponto de dados sem outlier 2\")\n",
    "ax3.scatter(med_sem_outlier_2, [\"A\"], s=200.0, c = \"#6C6CFF\", label='Mediana')\n",
    "ax3.legend()\n",
    "ax3.set_xlim(0, 30);"
   ]
  },
  {
   "cell_type": "markdown",
   "id": "9c274c13",
   "metadata": {},
   "source": [
    "### 2. Variância"
   ]
  },
  {
   "cell_type": "markdown",
   "id": "3b1df0da",
   "metadata": {},
   "source": [
    "#### 2.1 Variância"
   ]
  },
  {
   "cell_type": "code",
   "execution_count": 102,
   "id": "803ea8ae",
   "metadata": {},
   "outputs": [
    {
     "name": "stdout",
     "output_type": "stream",
     "text": [
      "Variância:  \u001b[32m125.00\u001b[0m\n",
      "Variância sem outlier 1:  \u001b[32m24.06\u001b[0m\n",
      "Variância sem outlier 2:  \u001b[32m2.25\u001b[0m\n"
     ]
    }
   ],
   "source": [
    "# Cálculo da variância amostral\n",
    "dados_var = statistics.variance(dados)\n",
    "var_sem_outlier_1 = statistics.variance(dados_sem_outlier_1)\n",
    "var_sem_outlier_2 = statistics.variance(dados_sem_outlier_2)\n",
    "print(\"Variância: \", colored(\"{d:.2f}\".format(d = dados_var), 'green'))\n",
    "print(\"Variância sem outlier 1: \", colored(\"{d:.2f}\".format(d = var_sem_outlier_1), 'green'))\n",
    "print(\"Variância sem outlier 2: \", colored(\"{d:.2f}\".format(d = var_sem_outlier_2), 'green'))"
   ]
  },
  {
   "cell_type": "code",
   "execution_count": 100,
   "id": "9f270e97",
   "metadata": {},
   "outputs": [
    {
     "name": "stdout",
     "output_type": "stream",
     "text": [
      "Variância:  \u001b[32m100.00\u001b[0m\n",
      "Variância sem outlier 1:  \u001b[32m18.05\u001b[0m\n",
      "Variância sem outlier 2:  \u001b[32m1.50\u001b[0m\n"
     ]
    }
   ],
   "source": [
    "# Cálculo da variância populacional\n",
    "dados_varp = statistics.pvariance(dados)\n",
    "varp_sem_outlier_1 = statistics.pvariance(dados_sem_outlier_1)\n",
    "varp_sem_outlier_2 = statistics.pvariance(dados_sem_outlier_2)\n",
    "print(\"Variância: \", colored(\"{d:.2f}\".format(d = dados_varp), 'green'))\n",
    "print(\"Variância sem outlier 1: \", colored(\"{d:.2f}\".format(d = varp_sem_outlier_1), 'green'))\n",
    "print(\"Variância sem outlier 2: \", colored(\"{d:.2f}\".format(d = varp_sem_outlier_2), 'green'))"
   ]
  },
  {
   "cell_type": "markdown",
   "id": "8fb07422",
   "metadata": {},
   "source": [
    "#### 2.2 Desvio padrão"
   ]
  },
  {
   "cell_type": "code",
   "execution_count": 96,
   "id": "8690f13e",
   "metadata": {},
   "outputs": [
    {
     "name": "stdout",
     "output_type": "stream",
     "text": [
      "Desvio padrão:  \u001b[32m11.18\u001b[0m\n",
      "Desvio padrão sem outlier 1:  \u001b[32m4.91\u001b[0m\n",
      "Desvio padrão sem outlier 2:  \u001b[32m1.50\u001b[0m\n"
     ]
    }
   ],
   "source": [
    "# Cálculo do desvio padrão amostral\n",
    "dados_std = statistics.stdev(dados)\n",
    "std_sem_outlier_1 = statistics.stdev(dados_sem_outlier_1)\n",
    "std_sem_outlier_2 = statistics.stdev(dados_sem_outlier_2)\n",
    "print(\"Desvio padrão: \", colored(\"{d:.2f}\".format(d = dados_std), 'green'))\n",
    "print(\"Desvio padrão sem outlier 1: \", colored(\"{d:.2f}\".format(d = std_sem_outlier_1),'green'))\n",
    "print(\"Desvio padrão sem outlier 2: \", colored(\"{d:.2f}\".format(d = std_sem_outlier_2),'green'))"
   ]
  },
  {
   "cell_type": "code",
   "execution_count": 97,
   "id": "b8c2b021",
   "metadata": {},
   "outputs": [
    {
     "name": "stdout",
     "output_type": "stream",
     "text": [
      "Desvio padrão:  \u001b[32m10.00\u001b[0m\n",
      "Desvio padrão sem outlier 1:  \u001b[32m4.25\u001b[0m\n",
      "Desvio padrão sem outlier 2:  \u001b[32m1.22\u001b[0m\n"
     ]
    }
   ],
   "source": [
    "# Cálculo do desvio padrão populacional\n",
    "dados_stdp = statistics.pstdev(dados)\n",
    "stdp_sem_outlier_1 = statistics.pstdev(dados_sem_outlier_1)\n",
    "stdp_sem_outlier_2 = statistics.pstdev(dados_sem_outlier_2)\n",
    "print(\"Desvio padrão: \", colored(\"{d:.2f}\".format(d = dados_stdp), 'green'))\n",
    "print(\"Desvio padrão sem outlier 1: \", colored(\"{d:.2f}\".format(d = stdp_sem_outlier_1),'green'))\n",
    "print(\"Desvio padrão sem outlier 2: \", colored(\"{d:.2f}\".format(d = stdp_sem_outlier_2),'green'))"
   ]
  },
  {
   "cell_type": "markdown",
   "id": "84e462e1",
   "metadata": {},
   "source": [
    "### 3. Moda"
   ]
  },
  {
   "cell_type": "code",
   "execution_count": 111,
   "id": "eb504bf3",
   "metadata": {},
   "outputs": [
    {
     "name": "stdout",
     "output_type": "stream",
     "text": [
      "Moda 1:  \u001b[32m1\u001b[0m\n",
      "Moda 2:  \u001b[32m[1, 2, 12]\u001b[0m\n"
     ]
    }
   ],
   "source": [
    "# Mode vs Multimode\n",
    "v = [1, 4, 2, 2, 8, 12, 1, 3, 12]\n",
    "moda_1 = statistics.mode(v) # primeiro elemento do multimode\n",
    "moda_2 = statistics.multimode(v)\n",
    "print(\"Moda 1: \", colored(\"{}\".format(moda_1), 'green'))\n",
    "print(\"Moda 2: \", colored(\"{}\".format(moda_2),'green'))"
   ]
  },
  {
   "cell_type": "markdown",
   "id": "d2bfa6ea",
   "metadata": {},
   "source": [
    "### 4. Quantis"
   ]
  },
  {
   "cell_type": "code",
   "execution_count": 112,
   "id": "c4473900",
   "metadata": {},
   "outputs": [
    {
     "name": "stdout",
     "output_type": "stream",
     "text": [
      "Decis:  \u001b[32m[-1.8800000000000001, -0.38, 0.86, 3.2, 8.0, 11.84, 17.72, 22.919999999999998, 28.839999999999996]\u001b[0m\n",
      "Quartis:  \u001b[32m[0.1, 8.0, 21.0]\u001b[0m\n"
     ]
    }
   ],
   "source": [
    "x = [-5.0, -1.1, 0.1, 2.0, 8.0, 12.8, 21.0, 25.8, 41.0]\n",
    "di = statistics.quantiles(x, n=10, method=\"inclusive\")\n",
    "qi = statistics.quantiles(x, n=4, method=\"inclusive\")\n",
    "\n",
    "print(\"Decis: \", colored(\"{}\".format(di), 'green'))\n",
    "print(\"Quartis: \", colored(\"{}\".format(qi), 'green'))"
   ]
  },
  {
   "cell_type": "markdown",
   "id": "807bacae",
   "metadata": {},
   "source": [
    "### 5. Matriz de Covariância"
   ]
  },
  {
   "cell_type": "code",
   "execution_count": 120,
   "id": "93bf2cbd",
   "metadata": {},
   "outputs": [],
   "source": [
    "x = list(range(-10, 11))\n",
    "y = [0, 2, 2, 2, 2, 3, 3, 6, 7, 4, 7, 6, 6, 9, 4, 5, 5, 10, 11, 12, 14]\n",
    "x_, y_ = np.array(x), np.array(y)\n",
    "x__, y__ = pd.Series(x_), pd.Series(y_)"
   ]
  },
  {
   "cell_type": "code",
   "execution_count": 122,
   "id": "2e2f1aa4",
   "metadata": {},
   "outputs": [
    {
     "data": {
      "text/plain": [
       "array([[38.5       , 19.95      ],\n",
       "       [19.95      , 13.91428571]])"
      ]
     },
     "execution_count": 122,
     "metadata": {},
     "output_type": "execute_result"
    }
   ],
   "source": [
    "cov_matrix = np.cov(x_, y_)\n",
    "cov_matrix"
   ]
  },
  {
   "cell_type": "code",
   "execution_count": 124,
   "id": "4bed94cd",
   "metadata": {},
   "outputs": [
    {
     "name": "stdout",
     "output_type": "stream",
     "text": [
      "Variancia de x:  \u001b[32m38.50\u001b[0m\n",
      "Variância de y:  \u001b[32m13.91\u001b[0m\n",
      "Covariância x e y:  \u001b[32m19.95\u001b[0m\n"
     ]
    }
   ],
   "source": [
    "# Elementos da matriz\n",
    "var_x = cov_matrix[0, 0]\n",
    "var_y = cov_matrix[1, 1]\n",
    "cov_xy = cov_matrix[0, 1]\n",
    "print(\"Variancia de x: \", colored(\"{d:.2f}\".format(d=var_x), 'green'))\n",
    "print(\"Variância de y: \", colored(\"{d:.2f}\".format(d=var_y), 'green'))\n",
    "print(\"Covariância x e y: \", colored(\"{d:.2f}\".format(d=cov_xy), 'green'))"
   ]
  },
  {
   "cell_type": "code",
   "execution_count": 126,
   "id": "f8e032c2",
   "metadata": {},
   "outputs": [
    {
     "name": "stdout",
     "output_type": "stream",
     "text": [
      "Covariancia de x e y:  \u001b[32m19.95\u001b[0m\n",
      "Covariancia de x e y:  \u001b[32m19.95\u001b[0m\n"
     ]
    }
   ],
   "source": [
    "# Dados em série\n",
    "cov_xy_1 = x__.cov(y__)\n",
    "cov_xy_2 = y__.cov(x__)\n",
    "print(\"Covariancia de x e y: \", colored(\"{d:.2f}\".format(d=cov_xy_1), 'green'))\n",
    "print(\"Covariancia de x e y: \", colored(\"{d:.2f}\".format(d=cov_xy_2), 'green'))"
   ]
  },
  {
   "cell_type": "markdown",
   "id": "8756da6e",
   "metadata": {},
   "source": [
    "### 6. Matriz de correlação"
   ]
  },
  {
   "cell_type": "code",
   "execution_count": 127,
   "id": "68c67077",
   "metadata": {},
   "outputs": [
    {
     "data": {
      "text/plain": [
       "array([[1.        , 0.86195001],\n",
       "       [0.86195001, 1.        ]])"
      ]
     },
     "execution_count": 127,
     "metadata": {},
     "output_type": "execute_result"
    }
   ],
   "source": [
    "corr_matrix = np.corrcoef(x_, y_)\n",
    "corr_matrix"
   ]
  },
  {
   "cell_type": "code",
   "execution_count": 130,
   "id": "deaac511",
   "metadata": {},
   "outputs": [
    {
     "name": "stdout",
     "output_type": "stream",
     "text": [
      "Correlação entre x e y:  \u001b[32m0.86\u001b[0m\n"
     ]
    }
   ],
   "source": [
    "# Elementos da matriz\n",
    "print(\"Correlação entre x e y: \", colored(\"{d:.2f}\".format(d=corr_matrix[0, 1]), 'green'))"
   ]
  },
  {
   "cell_type": "code",
   "execution_count": 131,
   "id": "973c475e",
   "metadata": {},
   "outputs": [
    {
     "name": "stdout",
     "output_type": "stream",
     "text": [
      "Correlação entre x e y:  \u001b[32m0.86\u001b[0m\n",
      "Correlação entre x e y:  \u001b[32m0.86\u001b[0m\n"
     ]
    }
   ],
   "source": [
    "# Dados em série\n",
    "r_1 = x__.corr(y__)\n",
    "r_2 = y__.corr(x__)\n",
    "print(\"Correlação entre x e y: \", colored(\"{d:.2f}\".format(d=r_1), 'green'))\n",
    "print(\"Correlação entre x e y: \", colored(\"{d:.2f}\".format(d=r_2), 'green'))"
   ]
  },
  {
   "cell_type": "markdown",
   "id": "3353a7ac",
   "metadata": {},
   "source": [
    "### 7. Coeficiente de Variação"
   ]
  },
  {
   "cell_type": "markdown",
   "id": "4a9bdc15",
   "metadata": {},
   "source": [
    "Deseja-se analisar a idade (anos) e altura (metros) de um grupo de pessoas de uma determinada região. Suponha que o interesse seja verificar a característica mais homogênea, ou seja, a variável que possui menor dispersão en torno da média"
   ]
  },
  {
   "cell_type": "markdown",
   "id": "b82e0569",
   "metadata": {},
   "source": [
    "**Idade das pessoas:** Média = 41,6 e Desvio Padrão = 0,82\n",
    "\n",
    "**Altura das pessoas:** Média = 1,67 e Desvio Padrão = 0,2"
   ]
  },
  {
   "cell_type": "code",
   "execution_count": 133,
   "id": "ef6a22d4",
   "metadata": {},
   "outputs": [
    {
     "name": "stdout",
     "output_type": "stream",
     "text": [
      "Coeficiente de Variação de idade:  \u001b[32m1.97%\u001b[0m\n",
      "Coeficiente de Variação de altura:  \u001b[32m11.98%\u001b[0m\n"
     ]
    }
   ],
   "source": [
    "CV_idade = (0.82/41.6) * 100\n",
    "CV_altura = (0.2/1.67) * 100\n",
    "print(\"Coeficiente de Variação de idade: \", colored(\"{d:.2f}%\".format(d=CV_idade), 'green'))\n",
    "print(\"Coeficiente de Variação de altura: \", colored(\"{d:.2f}%\".format(d=CV_altura), 'green'))"
   ]
  },
  {
   "cell_type": "code",
   "execution_count": null,
   "id": "518cbb17",
   "metadata": {},
   "outputs": [],
   "source": []
  }
 ],
 "metadata": {
  "kernelspec": {
   "display_name": "Python 3 (ipykernel)",
   "language": "python",
   "name": "python3"
  },
  "language_info": {
   "codemirror_mode": {
    "name": "ipython",
    "version": 3
   },
   "file_extension": ".py",
   "mimetype": "text/x-python",
   "name": "python",
   "nbconvert_exporter": "python",
   "pygments_lexer": "ipython3",
   "version": "3.9.7"
  }
 },
 "nbformat": 4,
 "nbformat_minor": 5
}
