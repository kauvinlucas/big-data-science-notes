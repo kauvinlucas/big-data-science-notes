{
 "cells": [
  {
   "cell_type": "markdown",
   "metadata": {},
   "source": [
    "## Exercícios pré-processamento e modelos clássicos"
   ]
  },
  {
   "cell_type": "markdown",
   "metadata": {},
   "source": [
    "**Autor**: Filipe Theodoro\n",
    "\n",
    "**Modificado por**: Kauvin Lucas"
   ]
  },
  {
   "cell_type": "markdown",
   "metadata": {},
   "source": [
    "## Expressão Regular"
   ]
  },
  {
   "cell_type": "code",
   "execution_count": 1,
   "metadata": {},
   "outputs": [],
   "source": [
    "import re"
   ]
  },
  {
   "cell_type": "code",
   "execution_count": 2,
   "metadata": {},
   "outputs": [],
   "source": [
    "texto = \"Me chamo Filipe_Theodoro, tenho 25 anos e nasci em 09/11/1921\""
   ]
  },
  {
   "cell_type": "markdown",
   "metadata": {},
   "source": [
    "#### Encontrar números"
   ]
  },
  {
   "cell_type": "code",
   "execution_count": 18,
   "metadata": {},
   "outputs": [
    {
     "data": {
      "text/plain": [
       "['2', '5', '0', '9', '1', '1', '1', '9', '2', '1']"
      ]
     },
     "execution_count": 18,
     "metadata": {},
     "output_type": "execute_result"
    }
   ],
   "source": [
    "# Encontrar todos os dígitos do texto\n",
    "re.findall(r'[0-9]', texto)"
   ]
  },
  {
   "cell_type": "code",
   "execution_count": 19,
   "metadata": {},
   "outputs": [
    {
     "data": {
      "text/plain": [
       "['1921']"
      ]
     },
     "execution_count": 19,
     "metadata": {},
     "output_type": "execute_result"
    }
   ],
   "source": [
    "# Encontrar dígitos de 4 ou más dígitos do texto com um quantificador\n",
    "re.findall(r'[0-9]{4,}', texto)"
   ]
  },
  {
   "cell_type": "code",
   "execution_count": 20,
   "metadata": {},
   "outputs": [
    {
     "data": {
      "text/plain": [
       "['25', '09', '11', '1921']"
      ]
     },
     "execution_count": 20,
     "metadata": {},
     "output_type": "execute_result"
    }
   ],
   "source": [
    "# Encontrar todos os números do texto com um dígito ou mais\n",
    "re.findall(r'[0-9]+', texto)"
   ]
  },
  {
   "cell_type": "code",
   "execution_count": 21,
   "metadata": {},
   "outputs": [
    {
     "data": {
      "text/plain": [
       "['25', '09', '11', '1921']"
      ]
     },
     "execution_count": 21,
     "metadata": {},
     "output_type": "execute_result"
    }
   ],
   "source": [
    "# Encontrar todos os números do texto com um dígito ou mais\n",
    "re.findall(r'\\d+', texto)"
   ]
  },
  {
   "cell_type": "markdown",
   "metadata": {},
   "source": [
    "#### Encontrar letras"
   ]
  },
  {
   "cell_type": "code",
   "execution_count": 3,
   "metadata": {},
   "outputs": [
    {
     "data": {
      "text/plain": [
       "'Me chamo Filipe_Theodoro, tenho 25 anos e nasci em 09/11/1921'"
      ]
     },
     "execution_count": 3,
     "metadata": {},
     "output_type": "execute_result"
    }
   ],
   "source": [
    "texto"
   ]
  },
  {
   "cell_type": "code",
   "execution_count": 4,
   "metadata": {},
   "outputs": [
    {
     "data": {
      "text/plain": [
       "['Me', 'chamo', 'Filipe', 'Theodoro', 'tenho', 'anos', 'e', 'nasci', 'em']"
      ]
     },
     "execution_count": 4,
     "metadata": {},
     "output_type": "execute_result"
    }
   ],
   "source": [
    "# Encontrar todas as palavras com letras minúsculas e maiúsculas\n",
    "re.findall(r'[a-zA-Z]+', texto)"
   ]
  },
  {
   "cell_type": "code",
   "execution_count": 23,
   "metadata": {},
   "outputs": [
    {
     "data": {
      "text/plain": [
       "['Me',\n",
       " 'chamo',\n",
       " 'Filipe',\n",
       " 'tenho',\n",
       " '25',\n",
       " 'anos',\n",
       " 'e',\n",
       " 'nasci',\n",
       " 'em',\n",
       " '09',\n",
       " '11',\n",
       " '1921']"
      ]
     },
     "execution_count": 23,
     "metadata": {},
     "output_type": "execute_result"
    }
   ],
   "source": [
    "# Encontrar todos os termos separados por: não caracteres, números e sublinhados\n",
    "re.findall(r'\\w+', texto)"
   ]
  },
  {
   "cell_type": "code",
   "execution_count": 24,
   "metadata": {},
   "outputs": [
    {
     "data": {
      "text/plain": [
       "[' ', ' ', ', \\n', ' ', ' ', ' ', ' ', ' ', ' ', '/', '/']"
      ]
     },
     "execution_count": 24,
     "metadata": {},
     "output_type": "execute_result"
    }
   ],
   "source": [
    "re.findall(r'\\W+', texto)"
   ]
  },
  {
   "cell_type": "markdown",
   "metadata": {},
   "source": [
    "#### Encontrar espaços em branco"
   ]
  },
  {
   "cell_type": "code",
   "execution_count": 25,
   "metadata": {},
   "outputs": [],
   "source": [
    "texto = \"Me chamo Filipe, \\ntenho 25 anos e nasci em 09/11/1921\""
   ]
  },
  {
   "cell_type": "code",
   "execution_count": 26,
   "metadata": {},
   "outputs": [
    {
     "name": "stdout",
     "output_type": "stream",
     "text": [
      "Me chamo Filipe, \n",
      "tenho 25 anos e nasci em 09/11/1921\n"
     ]
    }
   ],
   "source": [
    "print(texto)"
   ]
  },
  {
   "cell_type": "code",
   "execution_count": 27,
   "metadata": {},
   "outputs": [
    {
     "data": {
      "text/plain": [
       "[' ', ' ', ' ', '\\n', ' ', ' ', ' ', ' ', ' ', ' ']"
      ]
     },
     "execution_count": 27,
     "metadata": {},
     "output_type": "execute_result"
    }
   ],
   "source": [
    "# Encontrar todos os espaços em branco ou caracteres ocultos\n",
    "re.findall(r'\\s', texto)"
   ]
  },
  {
   "cell_type": "markdown",
   "metadata": {},
   "source": [
    "#### Buscar padrões"
   ]
  },
  {
   "cell_type": "markdown",
   "metadata": {},
   "source": [
    "Por exemplo, buscar o formato de data DD/MM/AAAA"
   ]
  },
  {
   "cell_type": "code",
   "execution_count": 28,
   "metadata": {},
   "outputs": [
    {
     "data": {
      "text/plain": [
       "[('09', '11', '1921')]"
      ]
     },
     "execution_count": 28,
     "metadata": {},
     "output_type": "execute_result"
    }
   ],
   "source": [
    "# Buscar todas datas do texto e returnar lista de tuplas\n",
    "re.findall(r'(\\d+)/(\\d+)/(\\d+)', texto)"
   ]
  },
  {
   "cell_type": "code",
   "execution_count": 29,
   "metadata": {},
   "outputs": [
    {
     "data": {
      "text/plain": [
       "['09/11/1921']"
      ]
     },
     "execution_count": 29,
     "metadata": {},
     "output_type": "execute_result"
    }
   ],
   "source": [
    "# # Buscar as datas do texto e returnar lista de strings\n",
    "re.findall(r'(\\d+/\\d+/\\d+)', texto)"
   ]
  },
  {
   "cell_type": "code",
   "execution_count": 30,
   "metadata": {
    "scrolled": true
   },
   "outputs": [
    {
     "name": "stdout",
     "output_type": "stream",
     "text": [
      "Me chamo Filipe, \n",
      "tenho 25 anos e nasci em 09/11/1921\n"
     ]
    }
   ],
   "source": [
    "print(texto)"
   ]
  },
  {
   "cell_type": "code",
   "execution_count": 36,
   "metadata": {},
   "outputs": [
    {
     "data": {
      "text/plain": [
       "['25']"
      ]
     },
     "execution_count": 36,
     "metadata": {},
     "output_type": "execute_result"
    }
   ],
   "source": [
    "# Exemplo 1 -  encontrar número de um ou mais dígitos que for seguido por 'anos'\n",
    "re.findall(r'([0-9]+).{0,}anos', texto)"
   ]
  },
  {
   "cell_type": "code",
   "execution_count": 38,
   "metadata": {},
   "outputs": [
    {
     "data": {
      "text/plain": [
       "['25']"
      ]
     },
     "execution_count": 38,
     "metadata": {},
     "output_type": "execute_result"
    }
   ],
   "source": [
    "# Exemplo 2 - encontrar número de um ou mais dígitos que for seguido por 'anos'\n",
    "re.findall(r'(\\d+).{0,}anos', texto)"
   ]
  },
  {
   "cell_type": "code",
   "execution_count": 74,
   "metadata": {},
   "outputs": [],
   "source": [
    "texto = \"Meu nome é Filipe e o meu site é https://www.semantix.com.br e moro em Belo Horizonte.\""
   ]
  },
  {
   "cell_type": "code",
   "execution_count": 58,
   "metadata": {
    "scrolled": true
   },
   "outputs": [
    {
     "data": {
      "text/plain": [
       "['https://www.semantix.com.br']"
      ]
     },
     "execution_count": 58,
     "metadata": {},
     "output_type": "execute_result"
    }
   ],
   "source": [
    "# Encontrar um termo que começe com um determinado texto e termine no espaço em branco\n",
    "re.findall(r'http[^\\s]+', texto)"
   ]
  },
  {
   "cell_type": "code",
   "execution_count": 59,
   "metadata": {},
   "outputs": [
    {
     "data": {
      "text/plain": [
       "['Filipe', 'Belo', 'Horizonte']"
      ]
     },
     "execution_count": 59,
     "metadata": {},
     "output_type": "execute_result"
    }
   ],
   "source": [
    "# Exemplo com lookback - Encontrar palavras que começam  com letra maiúscula e que são precedidos por um \\s\n",
    "re.findall(r'(?<=\\s)[A-Z][a-z]+', texto)"
   ]
  },
  {
   "cell_type": "code",
   "execution_count": 76,
   "metadata": {},
   "outputs": [
    {
     "data": {
      "text/plain": [
       "['Meu', 'Filipe', 'Belo', 'Horizonte.']"
      ]
     },
     "execution_count": 76,
     "metadata": {},
     "output_type": "execute_result"
    }
   ],
   "source": [
    "# Exemplo com lookback - Encontrar palavras que começam  com letra maiúscula e que são seguidos de um \\s\n",
    "re.findall(r'[A-Z][a-z][^\\s]+', texto)"
   ]
  },
  {
   "cell_type": "code",
   "execution_count": 77,
   "metadata": {},
   "outputs": [],
   "source": [
    "example_html = \"\"\"\n",
    "<html>\n",
    "  <head>\n",
    "    <title>HTML Exemplo Expressão Regular</title>\n",
    "  </head>\n",
    "  <body>\n",
    "    <h1>HTML Exemplo Expressão!! Regular 09/88,1354</h1>\n",
    "    <p>\n",
    "      <a href=\"https://www.semantix.com.br\">Página inicial da semantix</a>\n",
    "    </p>\n",
    "  </body>\n",
    "</html>\n",
    "\"\"\""
   ]
  },
  {
   "cell_type": "code",
   "execution_count": 79,
   "metadata": {},
   "outputs": [
    {
     "data": {
      "text/plain": [
       "['HTML Exemplo Expressão!! Regular 09/88,1354']"
      ]
     },
     "execution_count": 79,
     "metadata": {},
     "output_type": "execute_result"
    }
   ],
   "source": [
    "# Achar texto dentro do tag h1\n",
    "re.findall(r'<h1>(.+)</h1>', example_html)"
   ]
  },
  {
   "cell_type": "code",
   "execution_count": 81,
   "metadata": {},
   "outputs": [
    {
     "data": {
      "text/plain": [
       "['Página inicial da semantix']"
      ]
     },
     "execution_count": 81,
     "metadata": {},
     "output_type": "execute_result"
    }
   ],
   "source": [
    "# Achar texto dentro do tag a\n",
    "re.findall(r'<a.+>(.+)</a>', example_html)"
   ]
  },
  {
   "cell_type": "code",
   "execution_count": 82,
   "metadata": {
    "scrolled": true
   },
   "outputs": [
    {
     "data": {
      "text/plain": [
       "['https://www.semantix.com.br']"
      ]
     },
     "execution_count": 82,
     "metadata": {},
     "output_type": "execute_result"
    }
   ],
   "source": [
    "# Achar link do tag h1\n",
    "re.findall(r'http[\\w\\./:]+', example_html)"
   ]
  },
  {
   "cell_type": "markdown",
   "metadata": {},
   "source": [
    "#### Substituir texto"
   ]
  },
  {
   "cell_type": "code",
   "execution_count": 83,
   "metadata": {},
   "outputs": [],
   "source": [
    "texto = \"#i5gornascimento @i5gornascimento http://www.globo.com Corpo de bombeiros resgata vaca em cima do telhado\""
   ]
  },
  {
   "cell_type": "code",
   "execution_count": 84,
   "metadata": {},
   "outputs": [
    {
     "data": {
      "text/plain": [
       "'#i5gornascimento @i5gornascimento URL_SITE Corpo de bombeiros resgata vaca em cima do telhado'"
      ]
     },
     "execution_count": 84,
     "metadata": {},
     "output_type": "execute_result"
    }
   ],
   "source": [
    "# Encontrar e substituir as urls por URL_SITE\n",
    "re.sub(r'http[^\\s]+', 'URL_SITE', texto)"
   ]
  },
  {
   "cell_type": "code",
   "execution_count": 85,
   "metadata": {},
   "outputs": [
    {
     "data": {
      "text/plain": [
       "' i5gornascimento i5gornascimento http www globo com Corpo de bombeiros resgata vaca em cima do telhado'"
      ]
     },
     "execution_count": 85,
     "metadata": {},
     "output_type": "execute_result"
    }
   ],
   "source": [
    "# Substituir os que não forem caracteres por espaços em branco\n",
    "re.sub(r'[^\\w]+', ' ', texto)"
   ]
  },
  {
   "cell_type": "code",
   "execution_count": 98,
   "metadata": {},
   "outputs": [
    {
     "data": {
      "text/plain": [
       "' @i5gornascimento http://www.globo.com Corpo de bombeiros resgata vaca em cima do telhado'"
      ]
     },
     "execution_count": 98,
     "metadata": {},
     "output_type": "execute_result"
    }
   ],
   "source": [
    "# Substituir os termos que começem com hash symbol (hashtag) por espaço em branco\n",
    "re.sub(r'#\\w+', '', texto)"
   ]
  },
  {
   "cell_type": "code",
   "execution_count": 88,
   "metadata": {},
   "outputs": [
    {
     "name": "stdout",
     "output_type": "stream",
     "text": [
      "#i5gornascimento @i5gornascimento http://www.globo.com Corpo de bombeiros resgata vaca em cima do telhado\n"
     ]
    }
   ],
   "source": [
    "print(texto)"
   ]
  },
  {
   "cell_type": "code",
   "execution_count": 92,
   "metadata": {},
   "outputs": [],
   "source": [
    "# Eliminar hashtags ou mentions, links e pontuações ou símbolos do texto\n",
    "texto1 = re.sub(r\"[#|@]\\w+\"\n",
    "       \"|[^\\w\\s]\"\n",
    "       \"|http[^\\s]+\", '', texto)"
   ]
  },
  {
   "cell_type": "code",
   "execution_count": 93,
   "metadata": {},
   "outputs": [
    {
     "data": {
      "text/plain": [
       "'   Corpo de bombeiros resgata vaca em cima do telhado'"
      ]
     },
     "execution_count": 93,
     "metadata": {},
     "output_type": "execute_result"
    }
   ],
   "source": [
    "texto1"
   ]
  },
  {
   "cell_type": "code",
   "execution_count": 96,
   "metadata": {},
   "outputs": [
    {
     "data": {
      "text/plain": [
       "'Corpo de bombeiros resgata vaca em cima do telhado'"
      ]
     },
     "execution_count": 96,
     "metadata": {},
     "output_type": "execute_result"
    }
   ],
   "source": [
    "# Eliminar todos os caracteres do inicio até o primeiro caracter\n",
    "re.sub(r'^[^\\w]+', '', texto1)"
   ]
  },
  {
   "cell_type": "code",
   "execution_count": 99,
   "metadata": {},
   "outputs": [],
   "source": [
    "# Guardar a expressão para que seja usada depois por re.findall, re.sub, entre outros.\n",
    "regex = re.compile(r'#[^\\s]+'\n",
    "                  '|@[^\\s]+'\n",
    "                  '|http[^\\s]+')"
   ]
  },
  {
   "cell_type": "code",
   "execution_count": 102,
   "metadata": {},
   "outputs": [
    {
     "data": {
      "text/plain": [
       "['#i5gornascimento', '@i5gornascimento', 'http://www.globo.com']"
      ]
     },
     "execution_count": 102,
     "metadata": {},
     "output_type": "execute_result"
    }
   ],
   "source": [
    "# Encontrar os termos de acordo com as expressões guardadas\n",
    "regex.findall(texto)"
   ]
  },
  {
   "cell_type": "code",
   "execution_count": 103,
   "metadata": {},
   "outputs": [
    {
     "data": {
      "text/plain": [
       "'LIXO LIXO LIXO Corpo de bombeiros resgata vaca em cima do telhado'"
      ]
     },
     "execution_count": 103,
     "metadata": {},
     "output_type": "execute_result"
    }
   ],
   "source": [
    "# Substituir os termos de acordo com as expressões guardadas por \"LIXO\"\n",
    "regex.sub('LIXO', texto)"
   ]
  },
  {
   "cell_type": "markdown",
   "metadata": {},
   "source": [
    "## Part-of-Speech Tagging"
   ]
  },
  {
   "cell_type": "markdown",
   "metadata": {},
   "source": [
    "O Part-of-Speech Tagging (POS) é o processo de convertir palavras em tuplas da forma **(palavra, tag)**, onde o **tag** classifica a respectiva palavra em substantivo, adjetivo, verbo, etc."
   ]
  },
  {
   "cell_type": "code",
   "execution_count": 105,
   "metadata": {},
   "outputs": [
    {
     "name": "stdout",
     "output_type": "stream",
     "text": [
      "Defaulting to user installation because normal site-packages is not writeable\n",
      "Collecting nltk\n",
      "  Downloading nltk-3.6.5-py3-none-any.whl (1.5 MB)\n",
      "\u001b[K     |████████████████████████████████| 1.5 MB 800 kB/s eta 0:00:01\n",
      "\u001b[?25hRequirement already satisfied: joblib in /home/kauvin/.local/lib/python3.9/site-packages (from nltk) (1.0.1)\n",
      "Requirement already satisfied: regex>=2021.8.3 in /home/kauvin/.local/lib/python3.9/site-packages (from nltk) (2021.8.28)\n",
      "Collecting click\n",
      "  Downloading click-8.0.3-py3-none-any.whl (97 kB)\n",
      "\u001b[K     |████████████████████████████████| 97 kB 776 kB/s eta 0:00:01\n",
      "\u001b[?25hRequirement already satisfied: tqdm in /home/kauvin/.local/lib/python3.9/site-packages (from nltk) (4.62.2)\n",
      "Installing collected packages: click, nltk\n",
      "Successfully installed click-8.0.3 nltk-3.6.5\n"
     ]
    }
   ],
   "source": [
    "!pip install nltk"
   ]
  },
  {
   "cell_type": "code",
   "execution_count": 109,
   "metadata": {},
   "outputs": [
    {
     "name": "stderr",
     "output_type": "stream",
     "text": [
      "[nltk_data] Downloading package floresta to /home/kauvin/nltk_data...\n",
      "[nltk_data]   Unzipping corpora/floresta.zip.\n"
     ]
    },
    {
     "data": {
      "text/plain": [
       "True"
      ]
     },
     "execution_count": 109,
     "metadata": {},
     "output_type": "execute_result"
    }
   ],
   "source": [
    "import nltk\n",
    "nltk.download('floresta')"
   ]
  },
  {
   "cell_type": "code",
   "execution_count": 112,
   "metadata": {},
   "outputs": [],
   "source": [
    "from nltk import DefaultTagger, UnigramTagger, BigramTagger, TrigramTagger\n",
    "from nltk.corpus import floresta\n",
    "import re"
   ]
  },
  {
   "cell_type": "code",
   "execution_count": 113,
   "metadata": {},
   "outputs": [],
   "source": [
    "def process_tag(t):\n",
    "    processed_tag = re.findall(r'\\+(.+)', t)\n",
    "    if processed_tag:\n",
    "         return processed_tag[0]\n",
    "    else:\n",
    "         return "
   ]
  },
  {
   "cell_type": "code",
   "execution_count": 114,
   "metadata": {},
   "outputs": [],
   "source": [
    "tsents = floresta.tagged_sents()"
   ]
  },
  {
   "cell_type": "code",
   "execution_count": 115,
   "metadata": {},
   "outputs": [
    {
     "data": {
      "text/plain": [
       "[('E', 'CO+conj-c'),\n",
       " ('assim', 'ADVL+adv'),\n",
       " (',', ','),\n",
       " ('a', 'H+prp'),\n",
       " ('os', '>N+art'),\n",
       " ('2,5', '>N+num'),\n",
       " ('milhões', 'H+n'),\n",
       " ('que', 'ACC+pron-indp'),\n",
       " ('o', '>N+art'),\n",
       " ('Ministério_do_Planeamento_e_Administração_do_Território', 'H+prop'),\n",
       " ('já', 'ADVL+adv'),\n",
       " ('gasta', 'P+v-fin'),\n",
       " ('em', 'H+prp'),\n",
       " ('o', '>N+art'),\n",
       " ('pagamento', 'H+n'),\n",
       " ('de', 'H+prp'),\n",
       " ('o', '>N+art'),\n",
       " ('pessoal', 'H+n'),\n",
       " ('afecto', 'P+v-pcp'),\n",
       " ('a', 'H+prp'),\n",
       " ('estes', '>N+pron-det'),\n",
       " ('organismos', 'H+n'),\n",
       " (',', ','),\n",
       " ('vêm', 'P+v-fin'),\n",
       " ('juntar-', 'P+v-inf'),\n",
       " ('se', 'ACC+pron-pers'),\n",
       " ('os', '>N+art'),\n",
       " ('montantes', 'H+n'),\n",
       " ('de', 'H+prp'),\n",
       " ('as', '>N+art'),\n",
       " ('obras', 'H+n'),\n",
       " ('propriamente', '>A+adv'),\n",
       " ('ditas', 'H+adj'),\n",
       " (',', ','),\n",
       " ('que', 'ACC+pron-indp'),\n",
       " ('os', '>N+art'),\n",
       " ('municípios', 'H+n'),\n",
       " (',', ','),\n",
       " ('já', '>A+adv'),\n",
       " ('com', 'H+prp'),\n",
       " ('projectos', 'H+n'),\n",
       " ('em', 'H+prp'),\n",
       " ('a', '>N+art'),\n",
       " ('mão', 'H+n'),\n",
       " (',', ','),\n",
       " ('vêm', 'AUX+v-fin'),\n",
       " ('reivindicar', 'MV+v-inf'),\n",
       " ('junto', 'H+adv'),\n",
       " ('de', 'H+prp'),\n",
       " ('o', '>N+art'),\n",
       " ('Executivo', 'H+n'),\n",
       " (',', ','),\n",
       " ('como', 'H+prp'),\n",
       " ('salienta', 'P+v-fin'),\n",
       " ('aquele', '>N+pron-det'),\n",
       " ('membro', 'H+n'),\n",
       " ('de', 'H+prp'),\n",
       " ('o', '>N+art'),\n",
       " ('Governo', 'H+prop'),\n",
       " ('.', '.')]"
      ]
     },
     "execution_count": 115,
     "metadata": {},
     "output_type": "execute_result"
    }
   ],
   "source": [
    "tsents[5]"
   ]
  },
  {
   "cell_type": "code",
   "execution_count": 116,
   "metadata": {
    "scrolled": true
   },
   "outputs": [],
   "source": [
    "# Extrair a segunda parte de todas as tags\n",
    "tsents = [[(w.lower(), process_tag(t)) for (w,t) in sent] for sent in tsents if sent]"
   ]
  },
  {
   "cell_type": "code",
   "execution_count": 117,
   "metadata": {},
   "outputs": [
    {
     "data": {
      "text/plain": [
       "[('e', 'conj-c'),\n",
       " ('assim', 'adv'),\n",
       " (',', None),\n",
       " ('a', 'prp'),\n",
       " ('os', 'art'),\n",
       " ('2,5', 'num'),\n",
       " ('milhões', 'n'),\n",
       " ('que', 'pron-indp'),\n",
       " ('o', 'art'),\n",
       " ('ministério_do_planeamento_e_administração_do_território', 'prop'),\n",
       " ('já', 'adv'),\n",
       " ('gasta', 'v-fin'),\n",
       " ('em', 'prp'),\n",
       " ('o', 'art'),\n",
       " ('pagamento', 'n'),\n",
       " ('de', 'prp'),\n",
       " ('o', 'art'),\n",
       " ('pessoal', 'n'),\n",
       " ('afecto', 'v-pcp'),\n",
       " ('a', 'prp'),\n",
       " ('estes', 'pron-det'),\n",
       " ('organismos', 'n'),\n",
       " (',', None),\n",
       " ('vêm', 'v-fin'),\n",
       " ('juntar-', 'v-inf'),\n",
       " ('se', 'pron-pers'),\n",
       " ('os', 'art'),\n",
       " ('montantes', 'n'),\n",
       " ('de', 'prp'),\n",
       " ('as', 'art'),\n",
       " ('obras', 'n'),\n",
       " ('propriamente', 'adv'),\n",
       " ('ditas', 'adj'),\n",
       " (',', None),\n",
       " ('que', 'pron-indp'),\n",
       " ('os', 'art'),\n",
       " ('municípios', 'n'),\n",
       " (',', None),\n",
       " ('já', 'adv'),\n",
       " ('com', 'prp'),\n",
       " ('projectos', 'n'),\n",
       " ('em', 'prp'),\n",
       " ('a', 'art'),\n",
       " ('mão', 'n'),\n",
       " (',', None),\n",
       " ('vêm', 'v-fin'),\n",
       " ('reivindicar', 'v-inf'),\n",
       " ('junto', 'adv'),\n",
       " ('de', 'prp'),\n",
       " ('o', 'art'),\n",
       " ('executivo', 'n'),\n",
       " (',', None),\n",
       " ('como', 'prp'),\n",
       " ('salienta', 'v-fin'),\n",
       " ('aquele', 'pron-det'),\n",
       " ('membro', 'n'),\n",
       " ('de', 'prp'),\n",
       " ('o', 'art'),\n",
       " ('governo', 'prop'),\n",
       " ('.', None)]"
      ]
     },
     "execution_count": 117,
     "metadata": {},
     "output_type": "execute_result"
    }
   ],
   "source": [
    "tsents[5]"
   ]
  },
  {
   "cell_type": "code",
   "execution_count": 119,
   "metadata": {},
   "outputs": [
    {
     "data": {
      "text/plain": [
       "9266"
      ]
     },
     "execution_count": 119,
     "metadata": {},
     "output_type": "execute_result"
    }
   ],
   "source": [
    "# Imprimir a cantidade de frases\n",
    "len(tsents)"
   ]
  },
  {
   "cell_type": "code",
   "execution_count": 120,
   "metadata": {},
   "outputs": [],
   "source": [
    "train = tsents[:8000]\n",
    "test = tsents[8000:]"
   ]
  },
  {
   "cell_type": "code",
   "execution_count": 121,
   "metadata": {},
   "outputs": [],
   "source": [
    "# Inicia o DefaultTagger para impor um determinado tag em cada palavra de um documento\n",
    "tagger0 = DefaultTagger('n')"
   ]
  },
  {
   "cell_type": "code",
   "execution_count": 123,
   "metadata": {},
   "outputs": [
    {
     "data": {
      "text/plain": [
       "0.1992697360137659"
      ]
     },
     "execution_count": 123,
     "metadata": {},
     "output_type": "execute_result"
    }
   ],
   "source": [
    "# Evaluar a precisão do modelo\n",
    "tagger0.evaluate(test)"
   ]
  },
  {
   "cell_type": "code",
   "execution_count": 124,
   "metadata": {},
   "outputs": [],
   "source": [
    "# Inicia o UnigramTagger para determinar o POS para uma simples palavra.\n",
    "tagger1 = UnigramTagger(train, backoff=tagger0)"
   ]
  },
  {
   "cell_type": "code",
   "execution_count": 125,
   "metadata": {},
   "outputs": [
    {
     "data": {
      "text/plain": [
       "0.7485205858899567"
      ]
     },
     "execution_count": 125,
     "metadata": {},
     "output_type": "execute_result"
    }
   ],
   "source": [
    "tagger1.evaluate(test)"
   ]
  },
  {
   "cell_type": "code",
   "execution_count": 129,
   "metadata": {},
   "outputs": [],
   "source": [
    "# Inicia o BigramTagger para determinar o POS para pares de palavras baseando-se no modelo de Unigram\n",
    "tagger2 = BigramTagger(train, backoff=tagger1)"
   ]
  },
  {
   "cell_type": "code",
   "execution_count": 130,
   "metadata": {},
   "outputs": [
    {
     "data": {
      "text/plain": [
       "0.760188021991858"
      ]
     },
     "execution_count": 130,
     "metadata": {},
     "output_type": "execute_result"
    }
   ],
   "source": [
    "tagger2.evaluate(test)"
   ]
  },
  {
   "cell_type": "code",
   "execution_count": 131,
   "metadata": {},
   "outputs": [],
   "source": [
    "# Inicia o TrigramTagger para determinar o POS para grupos de 3 palavras baseando-se no modelo de Bigram\n",
    "tagger3 = TrigramTagger(train, backoff=tagger2)"
   ]
  },
  {
   "cell_type": "code",
   "execution_count": 132,
   "metadata": {},
   "outputs": [
    {
     "data": {
      "text/plain": [
       "0.7589289461535234"
      ]
     },
     "execution_count": 132,
     "metadata": {},
     "output_type": "execute_result"
    }
   ],
   "source": [
    "tagger3.evaluate(test)"
   ]
  },
  {
   "cell_type": "code",
   "execution_count": 133,
   "metadata": {},
   "outputs": [
    {
     "data": {
      "text/plain": [
       "'#i5gornascimento @i5gornascimento http://www.globo.com Corpo de bombeiros resgata vaca em cima do telhado'"
      ]
     },
     "execution_count": 133,
     "metadata": {},
     "output_type": "execute_result"
    }
   ],
   "source": [
    "texto"
   ]
  },
  {
   "cell_type": "code",
   "execution_count": 135,
   "metadata": {},
   "outputs": [
    {
     "data": {
      "text/plain": [
       "[('#i5gornascimento', 'n'),\n",
       " ('@i5gornascimento', 'n'),\n",
       " ('http://www.globo.com', 'n'),\n",
       " ('Corpo', 'n'),\n",
       " ('de', 'prp'),\n",
       " ('bombeiros', 'n'),\n",
       " ('resgata', 'n'),\n",
       " ('vaca', 'n'),\n",
       " ('em', 'prp'),\n",
       " ('cima', 'n'),\n",
       " ('do', 'n'),\n",
       " ('telhado', 'n')]"
      ]
     },
     "execution_count": 135,
     "metadata": {},
     "output_type": "execute_result"
    }
   ],
   "source": [
    "# Utilizar o modelo de Bigram para determinar o POS de cada palavra do texto\n",
    "tagger2.tag(texto.split())"
   ]
  },
  {
   "cell_type": "markdown",
   "metadata": {},
   "source": [
    "## Tokenizar texto"
   ]
  },
  {
   "cell_type": "code",
   "execution_count": 143,
   "metadata": {},
   "outputs": [
    {
     "name": "stderr",
     "output_type": "stream",
     "text": [
      "[nltk_data] Downloading package punkt to /home/kauvin/nltk_data...\n",
      "[nltk_data]   Unzipping tokenizers/punkt.zip.\n"
     ]
    },
    {
     "data": {
      "text/plain": [
       "True"
      ]
     },
     "execution_count": 143,
     "metadata": {},
     "output_type": "execute_result"
    }
   ],
   "source": [
    "nltk.download('punkt')"
   ]
  },
  {
   "cell_type": "code",
   "execution_count": 144,
   "metadata": {},
   "outputs": [],
   "source": [
    "from nltk import word_tokenize"
   ]
  },
  {
   "cell_type": "code",
   "execution_count": 145,
   "metadata": {},
   "outputs": [
    {
     "data": {
      "text/plain": [
       "'#i5gornascimento @i5gornascimento http://www.globo.com Corpo de bombeiros resgata vaca em cima do telhado'"
      ]
     },
     "execution_count": 145,
     "metadata": {},
     "output_type": "execute_result"
    }
   ],
   "source": [
    "texto"
   ]
  },
  {
   "cell_type": "code",
   "execution_count": 146,
   "metadata": {},
   "outputs": [
    {
     "name": "stdout",
     "output_type": "stream",
     "text": [
      "['#i5gornascimento', '@i5gornascimento', 'http://www.globo.com', 'Corpo', 'de', 'bombeiros', 'resgata', 'vaca', 'em', 'cima', 'do', 'telhado']\n"
     ]
    }
   ],
   "source": [
    "print(texto.split())"
   ]
  },
  {
   "cell_type": "code",
   "execution_count": 147,
   "metadata": {},
   "outputs": [
    {
     "name": "stdout",
     "output_type": "stream",
     "text": [
      "['#', 'i5gornascimento', '@', 'i5gornascimento', 'http', ':', '//www.globo.com', 'Corpo', 'de', 'bombeiros', 'resgata', 'vaca', 'em', 'cima', 'do', 'telhado']\n"
     ]
    }
   ],
   "source": [
    "print(word_tokenize(texto, language='portuguese'))"
   ]
  },
  {
   "cell_type": "code",
   "execution_count": 148,
   "metadata": {},
   "outputs": [
    {
     "data": {
      "text/plain": [
       "['#i5gornascimento',\n",
       " '@i5gornascimento',\n",
       " 'http://www.globo.com',\n",
       " 'Corpo',\n",
       " 'de',\n",
       " 'bombeiros',\n",
       " 'resgata',\n",
       " 'vaca',\n",
       " 'em',\n",
       " 'cima',\n",
       " 'do',\n",
       " 'telhado']"
      ]
     },
     "execution_count": 148,
     "metadata": {},
     "output_type": "execute_result"
    }
   ],
   "source": [
    "re.split(r'[\\s]', texto)"
   ]
  },
  {
   "cell_type": "code",
   "execution_count": 149,
   "metadata": {},
   "outputs": [
    {
     "data": {
      "text/plain": [
       "['i5gornascimento',\n",
       " 'i5gornascimento',\n",
       " 'http',\n",
       " 'www',\n",
       " 'globo',\n",
       " 'com',\n",
       " 'Corpo',\n",
       " 'de',\n",
       " 'bombeiros',\n",
       " 'resgata',\n",
       " 'vaca',\n",
       " 'em',\n",
       " 'cima',\n",
       " 'do',\n",
       " 'telhado']"
      ]
     },
     "execution_count": 149,
     "metadata": {},
     "output_type": "execute_result"
    }
   ],
   "source": [
    "re.findall(r'[\\w]+', texto)"
   ]
  },
  {
   "cell_type": "markdown",
   "metadata": {},
   "source": [
    "## Normalizar dados"
   ]
  },
  {
   "cell_type": "code",
   "execution_count": 150,
   "metadata": {},
   "outputs": [],
   "source": [
    "from unicodedata import normalize"
   ]
  },
  {
   "cell_type": "code",
   "execution_count": 151,
   "metadata": {},
   "outputs": [
    {
     "data": {
      "text/plain": [
       "'Acao'"
      ]
     },
     "execution_count": 151,
     "metadata": {},
     "output_type": "execute_result"
    }
   ],
   "source": [
    "normalize('NFKD', \"Ação\").encode('latin-1','ignore').decode('latin-1')"
   ]
  },
  {
   "cell_type": "code",
   "execution_count": 152,
   "metadata": {},
   "outputs": [
    {
     "data": {
      "text/plain": [
       "'áção'"
      ]
     },
     "execution_count": 152,
     "metadata": {},
     "output_type": "execute_result"
    }
   ],
   "source": [
    "\"Áção\".lower()"
   ]
  },
  {
   "cell_type": "code",
   "execution_count": 153,
   "metadata": {},
   "outputs": [
    {
     "data": {
      "text/plain": [
       "'AÇÃO'"
      ]
     },
     "execution_count": 153,
     "metadata": {},
     "output_type": "execute_result"
    }
   ],
   "source": [
    "\"ação\".upper()"
   ]
  },
  {
   "cell_type": "code",
   "execution_count": 154,
   "metadata": {},
   "outputs": [
    {
     "data": {
      "text/plain": [
       "[65, 231, 227, 111]"
      ]
     },
     "execution_count": 154,
     "metadata": {},
     "output_type": "execute_result"
    }
   ],
   "source": [
    "[ord(character) for character in \"Ação\"]"
   ]
  },
  {
   "cell_type": "code",
   "execution_count": 155,
   "metadata": {},
   "outputs": [
    {
     "data": {
      "text/plain": [
       "[65, 99, 97, 111]"
      ]
     },
     "execution_count": 155,
     "metadata": {},
     "output_type": "execute_result"
    }
   ],
   "source": [
    "[ord(character) for character in \"Acao\"]"
   ]
  },
  {
   "cell_type": "markdown",
   "metadata": {},
   "source": [
    "## Limpeza de dados"
   ]
  },
  {
   "cell_type": "code",
   "execution_count": 157,
   "metadata": {},
   "outputs": [],
   "source": [
    "regex = re.compile(r'#[^\\s]+'\n",
    "                  '|@[^\\s]+'\n",
    "                  '|http[^\\s]+')"
   ]
  },
  {
   "cell_type": "code",
   "execution_count": 158,
   "metadata": {},
   "outputs": [
    {
     "data": {
      "text/plain": [
       "'  g1  Corpo'"
      ]
     },
     "execution_count": 158,
     "metadata": {},
     "output_type": "execute_result"
    }
   ],
   "source": [
    "regex.sub('', \"#i5gornascimento @i5gornascimento g1 http://www.globo.com Corpo\")"
   ]
  },
  {
   "cell_type": "markdown",
   "metadata": {},
   "source": [
    "## Remover Stop words"
   ]
  },
  {
   "cell_type": "code",
   "execution_count": 161,
   "metadata": {},
   "outputs": [
    {
     "name": "stderr",
     "output_type": "stream",
     "text": [
      "[nltk_data] Downloading package stopwords to /home/kauvin/nltk_data...\n",
      "[nltk_data]   Unzipping corpora/stopwords.zip.\n"
     ]
    }
   ],
   "source": [
    "nltk.download('stopwords')\n",
    "from nltk.corpus import stopwords"
   ]
  },
  {
   "cell_type": "code",
   "execution_count": 162,
   "metadata": {},
   "outputs": [
    {
     "name": "stdout",
     "output_type": "stream",
     "text": [
      "['de', 'a', 'o', 'que', 'e', 'é', 'do', 'da', 'em', 'um', 'para', 'com', 'não', 'uma', 'os', 'no', 'se', 'na', 'por', 'mais', 'as', 'dos', 'como', 'mas', 'ao', 'ele', 'das', 'à', 'seu', 'sua', 'ou', 'quando', 'muito', 'nos', 'já', 'eu', 'também', 'só', 'pelo', 'pela', 'até', 'isso', 'ela', 'entre', 'depois', 'sem', 'mesmo', 'aos', 'seus', 'quem', 'nas', 'me', 'esse', 'eles', 'você', 'essa', 'num', 'nem', 'suas', 'meu', 'às', 'minha', 'numa', 'pelos', 'elas', 'qual', 'nós', 'lhe', 'deles', 'essas', 'esses', 'pelas', 'este', 'dele', 'tu', 'te', 'vocês', 'vos', 'lhes', 'meus', 'minhas', 'teu', 'tua', 'teus', 'tuas', 'nosso', 'nossa', 'nossos', 'nossas', 'dela', 'delas', 'esta', 'estes', 'estas', 'aquele', 'aquela', 'aqueles', 'aquelas', 'isto', 'aquilo', 'estou', 'está', 'estamos', 'estão', 'estive', 'esteve', 'estivemos', 'estiveram', 'estava', 'estávamos', 'estavam', 'estivera', 'estivéramos', 'esteja', 'estejamos', 'estejam', 'estivesse', 'estivéssemos', 'estivessem', 'estiver', 'estivermos', 'estiverem', 'hei', 'há', 'havemos', 'hão', 'houve', 'houvemos', 'houveram', 'houvera', 'houvéramos', 'haja', 'hajamos', 'hajam', 'houvesse', 'houvéssemos', 'houvessem', 'houver', 'houvermos', 'houverem', 'houverei', 'houverá', 'houveremos', 'houverão', 'houveria', 'houveríamos', 'houveriam', 'sou', 'somos', 'são', 'era', 'éramos', 'eram', 'fui', 'foi', 'fomos', 'foram', 'fora', 'fôramos', 'seja', 'sejamos', 'sejam', 'fosse', 'fôssemos', 'fossem', 'for', 'formos', 'forem', 'serei', 'será', 'seremos', 'serão', 'seria', 'seríamos', 'seriam', 'tenho', 'tem', 'temos', 'tém', 'tinha', 'tínhamos', 'tinham', 'tive', 'teve', 'tivemos', 'tiveram', 'tivera', 'tivéramos', 'tenha', 'tenhamos', 'tenham', 'tivesse', 'tivéssemos', 'tivessem', 'tiver', 'tivermos', 'tiverem', 'terei', 'terá', 'teremos', 'terão', 'teria', 'teríamos', 'teriam']\n"
     ]
    }
   ],
   "source": [
    "# Listar stopwords em portugues\n",
    "print(stopwords.words('portuguese'))"
   ]
  },
  {
   "cell_type": "code",
   "execution_count": 163,
   "metadata": {},
   "outputs": [],
   "source": [
    "# Definir função para remover stopwords\n",
    "def remover_stopwords(texto):\n",
    "    return [x for x in texto.split() if x not in stopwords.words('portuguese')]"
   ]
  },
  {
   "cell_type": "code",
   "execution_count": 164,
   "metadata": {},
   "outputs": [
    {
     "data": {
      "text/plain": [
       "'#i5gornascimento @i5gornascimento http://www.globo.com Corpo de bombeiros resgata vaca em cima do telhado'"
      ]
     },
     "execution_count": 164,
     "metadata": {},
     "output_type": "execute_result"
    }
   ],
   "source": [
    "texto"
   ]
  },
  {
   "cell_type": "code",
   "execution_count": 165,
   "metadata": {},
   "outputs": [
    {
     "data": {
      "text/plain": [
       "['#i5gornascimento',\n",
       " '@i5gornascimento',\n",
       " 'http://www.globo.com',\n",
       " 'Corpo',\n",
       " 'bombeiros',\n",
       " 'resgata',\n",
       " 'vaca',\n",
       " 'cima',\n",
       " 'telhado']"
      ]
     },
     "execution_count": 165,
     "metadata": {},
     "output_type": "execute_result"
    }
   ],
   "source": [
    "remover_stopwords(texto)"
   ]
  },
  {
   "cell_type": "markdown",
   "metadata": {},
   "source": [
    "## Modelos Clássicos"
   ]
  },
  {
   "cell_type": "code",
   "execution_count": 166,
   "metadata": {},
   "outputs": [],
   "source": [
    "import pandas\n",
    "# import re\n",
    "import numpy\n",
    "\n",
    "# from unicodedata import normalize\n",
    "\n",
    "# from nltk import DefaultTagger, UnigramTagger, BigramTagger, TrigramTagger, word_tokenize\n",
    "# from nltk.corpus import floresta, stopwords\n",
    "from nltk.stem import RSLPStemmer\n",
    "\n",
    "from sklearn.naive_bayes import MultinomialNB\n",
    "from sklearn import metrics\n",
    "from sklearn.model_selection import cross_val_predict\n",
    "from sklearn.decomposition import LatentDirichletAllocation, TruncatedSVD\n",
    "from sklearn.feature_extraction.text import TfidfVectorizer, CountVectorizer\n",
    "\n",
    "numpy.set_printoptions(threshold=numpy.inf)"
   ]
  },
  {
   "cell_type": "code",
   "execution_count": 167,
   "metadata": {},
   "outputs": [],
   "source": [
    "url = 'https://raw.githubusercontent.com/stacktecnologias/stack-repo/master/Tweets_Mg.csv'"
   ]
  },
  {
   "cell_type": "code",
   "execution_count": 168,
   "metadata": {},
   "outputs": [],
   "source": [
    "df = pandas.read_csv(url, usecols=['Text', 'Classificacao'])"
   ]
  },
  {
   "cell_type": "code",
   "execution_count": 169,
   "metadata": {},
   "outputs": [
    {
     "data": {
      "text/html": [
       "<div>\n",
       "<style scoped>\n",
       "    .dataframe tbody tr th:only-of-type {\n",
       "        vertical-align: middle;\n",
       "    }\n",
       "\n",
       "    .dataframe tbody tr th {\n",
       "        vertical-align: top;\n",
       "    }\n",
       "\n",
       "    .dataframe thead th {\n",
       "        text-align: right;\n",
       "    }\n",
       "</style>\n",
       "<table border=\"1\" class=\"dataframe\">\n",
       "  <thead>\n",
       "    <tr style=\"text-align: right;\">\n",
       "      <th></th>\n",
       "      <th>Text</th>\n",
       "      <th>Classificacao</th>\n",
       "    </tr>\n",
       "  </thead>\n",
       "  <tbody>\n",
       "    <tr>\n",
       "      <th>0</th>\n",
       "      <td>���⛪ @ Catedral de Santo Antônio - Governador ...</td>\n",
       "      <td>Neutro</td>\n",
       "    </tr>\n",
       "    <tr>\n",
       "      <th>1</th>\n",
       "      <td>� @ Governador Valadares, Minas Gerais https:/...</td>\n",
       "      <td>Neutro</td>\n",
       "    </tr>\n",
       "    <tr>\n",
       "      <th>2</th>\n",
       "      <td>�� @ Governador Valadares, Minas Gerais https:...</td>\n",
       "      <td>Neutro</td>\n",
       "    </tr>\n",
       "    <tr>\n",
       "      <th>3</th>\n",
       "      <td>��� https://t.co/BnDsO34qK0</td>\n",
       "      <td>Neutro</td>\n",
       "    </tr>\n",
       "    <tr>\n",
       "      <th>4</th>\n",
       "      <td>��� PSOL vai questionar aumento de vereadores ...</td>\n",
       "      <td>Negativo</td>\n",
       "    </tr>\n",
       "  </tbody>\n",
       "</table>\n",
       "</div>"
      ],
      "text/plain": [
       "                                                Text Classificacao\n",
       "0  ���⛪ @ Catedral de Santo Antônio - Governador ...        Neutro\n",
       "1  � @ Governador Valadares, Minas Gerais https:/...        Neutro\n",
       "2  �� @ Governador Valadares, Minas Gerais https:...        Neutro\n",
       "3                        ��� https://t.co/BnDsO34qK0        Neutro\n",
       "4  ��� PSOL vai questionar aumento de vereadores ...      Negativo"
      ]
     },
     "execution_count": 169,
     "metadata": {},
     "output_type": "execute_result"
    }
   ],
   "source": [
    "df.head()"
   ]
  },
  {
   "cell_type": "code",
   "execution_count": 170,
   "metadata": {},
   "outputs": [],
   "source": [
    "df.drop_duplicates(subset=['Text'], inplace=True)"
   ]
  },
  {
   "cell_type": "code",
   "execution_count": 171,
   "metadata": {},
   "outputs": [
    {
     "data": {
      "text/plain": [
       "(5765, 2)"
      ]
     },
     "execution_count": 171,
     "metadata": {},
     "output_type": "execute_result"
    }
   ],
   "source": [
    "df.shape"
   ]
  },
  {
   "cell_type": "code",
   "execution_count": 172,
   "metadata": {},
   "outputs": [
    {
     "data": {
      "text/plain": [
       "Positivo    2840\n",
       "Neutro      1974\n",
       "Negativo     951\n",
       "Name: Classificacao, dtype: int64"
      ]
     },
     "execution_count": 172,
     "metadata": {},
     "output_type": "execute_result"
    }
   ],
   "source": [
    "df.Classificacao.value_counts()"
   ]
  },
  {
   "cell_type": "code",
   "execution_count": 173,
   "metadata": {},
   "outputs": [
    {
     "data": {
      "text/plain": [
       "'Trio suspeito de roubo de cargas é preso em Santa Luzia (MG) https://t.co/0INgJcMtZb #R7MG #RecordTVMinas'"
      ]
     },
     "execution_count": 173,
     "metadata": {},
     "output_type": "execute_result"
    }
   ],
   "source": [
    "df.Text.values[-1]"
   ]
  },
  {
   "cell_type": "code",
   "execution_count": 174,
   "metadata": {},
   "outputs": [
    {
     "data": {
      "text/plain": [
       "'Neutro'"
      ]
     },
     "execution_count": 174,
     "metadata": {},
     "output_type": "execute_result"
    }
   ],
   "source": [
    "df.Classificacao.values[0]"
   ]
  },
  {
   "cell_type": "code",
   "execution_count": 175,
   "metadata": {},
   "outputs": [],
   "source": [
    "texto = df.Text.values[-1]"
   ]
  },
  {
   "cell_type": "code",
   "execution_count": 176,
   "metadata": {},
   "outputs": [],
   "source": [
    "df['perfis'] = df['Text'].apply(lambda x: re.findall(r'@[^\\s]+', x))"
   ]
  },
  {
   "cell_type": "code",
   "execution_count": 177,
   "metadata": {},
   "outputs": [
    {
     "data": {
      "text/html": [
       "<div>\n",
       "<style scoped>\n",
       "    .dataframe tbody tr th:only-of-type {\n",
       "        vertical-align: middle;\n",
       "    }\n",
       "\n",
       "    .dataframe tbody tr th {\n",
       "        vertical-align: top;\n",
       "    }\n",
       "\n",
       "    .dataframe thead th {\n",
       "        text-align: right;\n",
       "    }\n",
       "</style>\n",
       "<table border=\"1\" class=\"dataframe\">\n",
       "  <thead>\n",
       "    <tr style=\"text-align: right;\">\n",
       "      <th></th>\n",
       "      <th>Text</th>\n",
       "      <th>Classificacao</th>\n",
       "      <th>perfis</th>\n",
       "    </tr>\n",
       "  </thead>\n",
       "  <tbody>\n",
       "    <tr>\n",
       "      <th>70</th>\n",
       "      <td>#i5gornascimento @i5gornascimento @cristiano U...</td>\n",
       "      <td>Neutro</td>\n",
       "      <td>[@i5gornascimento, @cristiano]</td>\n",
       "    </tr>\n",
       "    <tr>\n",
       "      <th>71</th>\n",
       "      <td>#i5gornascimento @i5gornascimento g1 Corpo em ...</td>\n",
       "      <td>Neutro</td>\n",
       "      <td>[@i5gornascimento]</td>\n",
       "    </tr>\n",
       "    <tr>\n",
       "      <th>72</th>\n",
       "      <td>#i5gornascimento @i5gornascimento g1 Prefeito ...</td>\n",
       "      <td>Negativo</td>\n",
       "      <td>[@i5gornascimento]</td>\n",
       "    </tr>\n",
       "    <tr>\n",
       "      <th>73</th>\n",
       "      <td>#i5gornascimento @i5gornascimento g1 Vereadore...</td>\n",
       "      <td>Neutro</td>\n",
       "      <td>[@i5gornascimento]</td>\n",
       "    </tr>\n",
       "    <tr>\n",
       "      <th>74</th>\n",
       "      <td>#i5gornascimento @i5gornascimento Governador V...</td>\n",
       "      <td>Neutro</td>\n",
       "      <td>[@i5gornascimento]</td>\n",
       "    </tr>\n",
       "  </tbody>\n",
       "</table>\n",
       "</div>"
      ],
      "text/plain": [
       "                                                 Text Classificacao  \\\n",
       "70  #i5gornascimento @i5gornascimento @cristiano U...        Neutro   \n",
       "71  #i5gornascimento @i5gornascimento g1 Corpo em ...        Neutro   \n",
       "72  #i5gornascimento @i5gornascimento g1 Prefeito ...      Negativo   \n",
       "73  #i5gornascimento @i5gornascimento g1 Vereadore...        Neutro   \n",
       "74  #i5gornascimento @i5gornascimento Governador V...        Neutro   \n",
       "\n",
       "                            perfis  \n",
       "70  [@i5gornascimento, @cristiano]  \n",
       "71              [@i5gornascimento]  \n",
       "72              [@i5gornascimento]  \n",
       "73              [@i5gornascimento]  \n",
       "74              [@i5gornascimento]  "
      ]
     },
     "execution_count": 177,
     "metadata": {},
     "output_type": "execute_result"
    }
   ],
   "source": [
    "df[df['perfis'].apply(lambda x: len(x)>0)].head()"
   ]
  },
  {
   "cell_type": "code",
   "execution_count": 178,
   "metadata": {},
   "outputs": [],
   "source": [
    "df['hashtags'] = df['Text'].apply(lambda x: re.findall(r'#[^\\s]+', x))"
   ]
  },
  {
   "cell_type": "code",
   "execution_count": 179,
   "metadata": {},
   "outputs": [
    {
     "data": {
      "text/html": [
       "<div>\n",
       "<style scoped>\n",
       "    .dataframe tbody tr th:only-of-type {\n",
       "        vertical-align: middle;\n",
       "    }\n",
       "\n",
       "    .dataframe tbody tr th {\n",
       "        vertical-align: top;\n",
       "    }\n",
       "\n",
       "    .dataframe thead th {\n",
       "        text-align: right;\n",
       "    }\n",
       "</style>\n",
       "<table border=\"1\" class=\"dataframe\">\n",
       "  <thead>\n",
       "    <tr style=\"text-align: right;\">\n",
       "      <th></th>\n",
       "      <th>Text</th>\n",
       "      <th>Classificacao</th>\n",
       "      <th>perfis</th>\n",
       "      <th>hashtags</th>\n",
       "    </tr>\n",
       "  </thead>\n",
       "  <tbody>\n",
       "    <tr>\n",
       "      <th>11</th>\n",
       "      <td>\"É bonita e é bonita...\" \\n#latergram #ibituru...</td>\n",
       "      <td>Neutro</td>\n",
       "      <td>[]</td>\n",
       "      <td>[#latergram, #ibituruna, #home]</td>\n",
       "    </tr>\n",
       "    <tr>\n",
       "      <th>16</th>\n",
       "      <td>\"Mesmo sem muito dinheiro no caixa o governo d...</td>\n",
       "      <td>Negativo</td>\n",
       "      <td>[]</td>\n",
       "      <td>[#2017]</td>\n",
       "    </tr>\n",
       "    <tr>\n",
       "      <th>27</th>\n",
       "      <td>#ACORDAMINAS!!!\\n\\nO governador Fernando Pimen...</td>\n",
       "      <td>Neutro</td>\n",
       "      <td>[]</td>\n",
       "      <td>[#ACORDAMINAS!!!]</td>\n",
       "    </tr>\n",
       "    <tr>\n",
       "      <th>28</th>\n",
       "      <td>#ACORDAMINAS!!!!\\n\\nO povo mineiro tem que da ...</td>\n",
       "      <td>Neutro</td>\n",
       "      <td>[]</td>\n",
       "      <td>[#ACORDAMINAS!!!!]</td>\n",
       "    </tr>\n",
       "    <tr>\n",
       "      <th>29</th>\n",
       "      <td>#Alerta - Nome da CEEE é utilizado em golpe no...</td>\n",
       "      <td>Negativo</td>\n",
       "      <td>[]</td>\n",
       "      <td>[#Alerta]</td>\n",
       "    </tr>\n",
       "  </tbody>\n",
       "</table>\n",
       "</div>"
      ],
      "text/plain": [
       "                                                 Text Classificacao perfis  \\\n",
       "11  \"É bonita e é bonita...\" \\n#latergram #ibituru...        Neutro     []   \n",
       "16  \"Mesmo sem muito dinheiro no caixa o governo d...      Negativo     []   \n",
       "27  #ACORDAMINAS!!!\\n\\nO governador Fernando Pimen...        Neutro     []   \n",
       "28  #ACORDAMINAS!!!!\\n\\nO povo mineiro tem que da ...        Neutro     []   \n",
       "29  #Alerta - Nome da CEEE é utilizado em golpe no...      Negativo     []   \n",
       "\n",
       "                           hashtags  \n",
       "11  [#latergram, #ibituruna, #home]  \n",
       "16                          [#2017]  \n",
       "27                [#ACORDAMINAS!!!]  \n",
       "28               [#ACORDAMINAS!!!!]  \n",
       "29                        [#Alerta]  "
      ]
     },
     "execution_count": 179,
     "metadata": {},
     "output_type": "execute_result"
    }
   ],
   "source": [
    "df[df['hashtags'].apply(lambda x: len(x)>0)].head()"
   ]
  },
  {
   "cell_type": "code",
   "execution_count": 180,
   "metadata": {},
   "outputs": [],
   "source": [
    "class Preprocessador:\n",
    "    def __init__(self, \n",
    "            remove_stopwords = False, \n",
    "            apply_limpeza = False):\n",
    "        \n",
    "        print(\"Iniciando preprocessador\")\n",
    "        self.stopwords = stopwords.words('portuguese')\n",
    "        \n",
    "        self.regex_limpeza = re.compile(r'#[^\\s]+'\n",
    "                  '|@[^\\s]+'\n",
    "                  '|http[^\\s]+')\n",
    "        \n",
    "        self.remove_stopwords = remove_stopwords\n",
    "        self.apply_limpeza = apply_limpeza\n",
    "        \n",
    "    def tokenizador(self, texto: str) -> list:\n",
    "        return re.findall(r'[\\w]+', texto)\n",
    "    \n",
    "    def limpeza(self, texto:str) -> str:\n",
    "        texto = self.regex_limpeza.sub('', texto)\n",
    "        return texto\n",
    "    \n",
    "    def normalizador(self, texto: str) -> str:\n",
    "        texto = texto.lower()\n",
    "        return normalize('NFKD', texto).encode('latin-1','ignore').decode('latin-1')\n",
    "    \n",
    "    def remover_stopwords(self, texto_tokenizado: list) -> list:\n",
    "        return [t for t in texto_tokenizado if t not in self.stopwords]\n",
    "        \n",
    "    def run(self, texto: str) -> str:\n",
    "        \n",
    "#         print(texto)\n",
    "        \n",
    "        if self.apply_limpeza:\n",
    "            texto = self.limpeza(texto)\n",
    "#             print(texto)\n",
    "            \n",
    "        texto = texto.lower()\n",
    "        \n",
    "        texto_tokenizado = self.tokenizador(texto)\n",
    "#         print(texto_tokenizado)\n",
    "        if self.remove_stopwords:\n",
    "            texto_tokenizado = self.remover_stopwords(texto_tokenizado)\n",
    "#             print(texto_tokenizado)\n",
    "        \n",
    "        texto = \" \".join(texto_tokenizado)\n",
    "#         print(texto)\n",
    "\n",
    "        texto = self.normalizador(texto)\n",
    "#         print(texto)\n",
    "        \n",
    "        return texto"
   ]
  },
  {
   "cell_type": "code",
   "execution_count": 181,
   "metadata": {},
   "outputs": [
    {
     "name": "stdout",
     "output_type": "stream",
     "text": [
      "Iniciando preprocessador\n"
     ]
    }
   ],
   "source": [
    "prep = Preprocessador()"
   ]
  },
  {
   "cell_type": "code",
   "execution_count": 182,
   "metadata": {},
   "outputs": [],
   "source": [
    "prep.apply_limpeza = True\n",
    "prep.remove_stopwords = True"
   ]
  },
  {
   "cell_type": "code",
   "execution_count": 183,
   "metadata": {},
   "outputs": [
    {
     "data": {
      "text/plain": [
       "'oi nome goku siga perfil'"
      ]
     },
     "execution_count": 183,
     "metadata": {},
     "output_type": "execute_result"
    }
   ],
   "source": [
    "prep.run(\"Oi meu nome é Goku me siga no perfil #goku_oficial\")"
   ]
  },
  {
   "cell_type": "markdown",
   "metadata": {},
   "source": [
    "## Aplicar preprocessamento na base"
   ]
  },
  {
   "cell_type": "code",
   "execution_count": 184,
   "metadata": {
    "scrolled": true
   },
   "outputs": [],
   "source": [
    "df['Text tratado'] = df['Text'].apply(prep.run)"
   ]
  },
  {
   "cell_type": "code",
   "execution_count": 185,
   "metadata": {},
   "outputs": [
    {
     "data": {
      "text/plain": [
       "(5765, 5)"
      ]
     },
     "execution_count": 185,
     "metadata": {},
     "output_type": "execute_result"
    }
   ],
   "source": [
    "df.shape"
   ]
  },
  {
   "cell_type": "code",
   "execution_count": 186,
   "metadata": {},
   "outputs": [
    {
     "data": {
      "text/html": [
       "<div>\n",
       "<style scoped>\n",
       "    .dataframe tbody tr th:only-of-type {\n",
       "        vertical-align: middle;\n",
       "    }\n",
       "\n",
       "    .dataframe tbody tr th {\n",
       "        vertical-align: top;\n",
       "    }\n",
       "\n",
       "    .dataframe thead th {\n",
       "        text-align: right;\n",
       "    }\n",
       "</style>\n",
       "<table border=\"1\" class=\"dataframe\">\n",
       "  <thead>\n",
       "    <tr style=\"text-align: right;\">\n",
       "      <th></th>\n",
       "      <th>Text</th>\n",
       "      <th>Classificacao</th>\n",
       "      <th>perfis</th>\n",
       "      <th>hashtags</th>\n",
       "      <th>Text tratado</th>\n",
       "    </tr>\n",
       "  </thead>\n",
       "  <tbody>\n",
       "    <tr>\n",
       "      <th>0</th>\n",
       "      <td>���⛪ @ Catedral de Santo Antônio - Governador ...</td>\n",
       "      <td>Neutro</td>\n",
       "      <td>[]</td>\n",
       "      <td>[]</td>\n",
       "      <td>catedral santo antonio governador valadares mg</td>\n",
       "    </tr>\n",
       "    <tr>\n",
       "      <th>1</th>\n",
       "      <td>� @ Governador Valadares, Minas Gerais https:/...</td>\n",
       "      <td>Neutro</td>\n",
       "      <td>[]</td>\n",
       "      <td>[]</td>\n",
       "      <td>governador valadares minas gerais</td>\n",
       "    </tr>\n",
       "    <tr>\n",
       "      <th>2</th>\n",
       "      <td>�� @ Governador Valadares, Minas Gerais https:...</td>\n",
       "      <td>Neutro</td>\n",
       "      <td>[]</td>\n",
       "      <td>[]</td>\n",
       "      <td>governador valadares minas gerais</td>\n",
       "    </tr>\n",
       "    <tr>\n",
       "      <th>3</th>\n",
       "      <td>��� https://t.co/BnDsO34qK0</td>\n",
       "      <td>Neutro</td>\n",
       "      <td>[]</td>\n",
       "      <td>[]</td>\n",
       "      <td></td>\n",
       "    </tr>\n",
       "    <tr>\n",
       "      <th>4</th>\n",
       "      <td>��� PSOL vai questionar aumento de vereadores ...</td>\n",
       "      <td>Negativo</td>\n",
       "      <td>[]</td>\n",
       "      <td>[]</td>\n",
       "      <td>psol vai questionar aumento vereadores prefeit...</td>\n",
       "    </tr>\n",
       "  </tbody>\n",
       "</table>\n",
       "</div>"
      ],
      "text/plain": [
       "                                                Text Classificacao perfis  \\\n",
       "0  ���⛪ @ Catedral de Santo Antônio - Governador ...        Neutro     []   \n",
       "1  � @ Governador Valadares, Minas Gerais https:/...        Neutro     []   \n",
       "2  �� @ Governador Valadares, Minas Gerais https:...        Neutro     []   \n",
       "3                        ��� https://t.co/BnDsO34qK0        Neutro     []   \n",
       "4  ��� PSOL vai questionar aumento de vereadores ...      Negativo     []   \n",
       "\n",
       "  hashtags                                       Text tratado  \n",
       "0       []     catedral santo antonio governador valadares mg  \n",
       "1       []                  governador valadares minas gerais  \n",
       "2       []                  governador valadares minas gerais  \n",
       "3       []                                                     \n",
       "4       []  psol vai questionar aumento vereadores prefeit...  "
      ]
     },
     "execution_count": 186,
     "metadata": {},
     "output_type": "execute_result"
    }
   ],
   "source": [
    "df.head()"
   ]
  },
  {
   "cell_type": "code",
   "execution_count": 187,
   "metadata": {},
   "outputs": [],
   "source": [
    "df = df[df['Text tratado'].apply(lambda x: len(x)>1)]"
   ]
  },
  {
   "cell_type": "code",
   "execution_count": 188,
   "metadata": {},
   "outputs": [
    {
     "data": {
      "text/plain": [
       "(5749, 5)"
      ]
     },
     "execution_count": 188,
     "metadata": {},
     "output_type": "execute_result"
    }
   ],
   "source": [
    "df.shape"
   ]
  },
  {
   "cell_type": "code",
   "execution_count": 189,
   "metadata": {},
   "outputs": [
    {
     "data": {
      "text/html": [
       "<div>\n",
       "<style scoped>\n",
       "    .dataframe tbody tr th:only-of-type {\n",
       "        vertical-align: middle;\n",
       "    }\n",
       "\n",
       "    .dataframe tbody tr th {\n",
       "        vertical-align: top;\n",
       "    }\n",
       "\n",
       "    .dataframe thead th {\n",
       "        text-align: right;\n",
       "    }\n",
       "</style>\n",
       "<table border=\"1\" class=\"dataframe\">\n",
       "  <thead>\n",
       "    <tr style=\"text-align: right;\">\n",
       "      <th></th>\n",
       "      <th>Text</th>\n",
       "      <th>Classificacao</th>\n",
       "      <th>perfis</th>\n",
       "      <th>hashtags</th>\n",
       "      <th>Text tratado</th>\n",
       "    </tr>\n",
       "  </thead>\n",
       "  <tbody>\n",
       "    <tr>\n",
       "      <th>0</th>\n",
       "      <td>���⛪ @ Catedral de Santo Antônio - Governador ...</td>\n",
       "      <td>Neutro</td>\n",
       "      <td>[]</td>\n",
       "      <td>[]</td>\n",
       "      <td>catedral santo antonio governador valadares mg</td>\n",
       "    </tr>\n",
       "    <tr>\n",
       "      <th>1</th>\n",
       "      <td>� @ Governador Valadares, Minas Gerais https:/...</td>\n",
       "      <td>Neutro</td>\n",
       "      <td>[]</td>\n",
       "      <td>[]</td>\n",
       "      <td>governador valadares minas gerais</td>\n",
       "    </tr>\n",
       "    <tr>\n",
       "      <th>2</th>\n",
       "      <td>�� @ Governador Valadares, Minas Gerais https:...</td>\n",
       "      <td>Neutro</td>\n",
       "      <td>[]</td>\n",
       "      <td>[]</td>\n",
       "      <td>governador valadares minas gerais</td>\n",
       "    </tr>\n",
       "    <tr>\n",
       "      <th>4</th>\n",
       "      <td>��� PSOL vai questionar aumento de vereadores ...</td>\n",
       "      <td>Negativo</td>\n",
       "      <td>[]</td>\n",
       "      <td>[]</td>\n",
       "      <td>psol vai questionar aumento vereadores prefeit...</td>\n",
       "    </tr>\n",
       "    <tr>\n",
       "      <th>5</th>\n",
       "      <td>\" bom é bandido morto\"\\nDeputado Cabo Júlio é ...</td>\n",
       "      <td>Neutro</td>\n",
       "      <td>[]</td>\n",
       "      <td>[]</td>\n",
       "      <td>bom bandido morto deputado cabo julio condenad...</td>\n",
       "    </tr>\n",
       "  </tbody>\n",
       "</table>\n",
       "</div>"
      ],
      "text/plain": [
       "                                                Text Classificacao perfis  \\\n",
       "0  ���⛪ @ Catedral de Santo Antônio - Governador ...        Neutro     []   \n",
       "1  � @ Governador Valadares, Minas Gerais https:/...        Neutro     []   \n",
       "2  �� @ Governador Valadares, Minas Gerais https:...        Neutro     []   \n",
       "4  ��� PSOL vai questionar aumento de vereadores ...      Negativo     []   \n",
       "5  \" bom é bandido morto\"\\nDeputado Cabo Júlio é ...        Neutro     []   \n",
       "\n",
       "  hashtags                                       Text tratado  \n",
       "0       []     catedral santo antonio governador valadares mg  \n",
       "1       []                  governador valadares minas gerais  \n",
       "2       []                  governador valadares minas gerais  \n",
       "4       []  psol vai questionar aumento vereadores prefeit...  \n",
       "5       []  bom bandido morto deputado cabo julio condenad...  "
      ]
     },
     "execution_count": 189,
     "metadata": {},
     "output_type": "execute_result"
    }
   ],
   "source": [
    "df.head()"
   ]
  },
  {
   "cell_type": "code",
   "execution_count": 190,
   "metadata": {},
   "outputs": [],
   "source": [
    "df_tratado = df.drop_duplicates(subset=['Text tratado'])"
   ]
  },
  {
   "cell_type": "code",
   "execution_count": 191,
   "metadata": {},
   "outputs": [
    {
     "data": {
      "text/plain": [
       "(3055, 5)"
      ]
     },
     "execution_count": 191,
     "metadata": {},
     "output_type": "execute_result"
    }
   ],
   "source": [
    "df_tratado.shape"
   ]
  },
  {
   "cell_type": "code",
   "execution_count": 192,
   "metadata": {},
   "outputs": [
    {
     "data": {
      "text/html": [
       "<div>\n",
       "<style scoped>\n",
       "    .dataframe tbody tr th:only-of-type {\n",
       "        vertical-align: middle;\n",
       "    }\n",
       "\n",
       "    .dataframe tbody tr th {\n",
       "        vertical-align: top;\n",
       "    }\n",
       "\n",
       "    .dataframe thead th {\n",
       "        text-align: right;\n",
       "    }\n",
       "</style>\n",
       "<table border=\"1\" class=\"dataframe\">\n",
       "  <thead>\n",
       "    <tr style=\"text-align: right;\">\n",
       "      <th></th>\n",
       "      <th>Text</th>\n",
       "      <th>Classificacao</th>\n",
       "      <th>perfis</th>\n",
       "      <th>hashtags</th>\n",
       "      <th>Text tratado</th>\n",
       "    </tr>\n",
       "  </thead>\n",
       "  <tbody>\n",
       "    <tr>\n",
       "      <th>0</th>\n",
       "      <td>���⛪ @ Catedral de Santo Antônio - Governador ...</td>\n",
       "      <td>Neutro</td>\n",
       "      <td>[]</td>\n",
       "      <td>[]</td>\n",
       "      <td>catedral santo antonio governador valadares mg</td>\n",
       "    </tr>\n",
       "    <tr>\n",
       "      <th>1</th>\n",
       "      <td>� @ Governador Valadares, Minas Gerais https:/...</td>\n",
       "      <td>Neutro</td>\n",
       "      <td>[]</td>\n",
       "      <td>[]</td>\n",
       "      <td>governador valadares minas gerais</td>\n",
       "    </tr>\n",
       "    <tr>\n",
       "      <th>4</th>\n",
       "      <td>��� PSOL vai questionar aumento de vereadores ...</td>\n",
       "      <td>Negativo</td>\n",
       "      <td>[]</td>\n",
       "      <td>[]</td>\n",
       "      <td>psol vai questionar aumento vereadores prefeit...</td>\n",
       "    </tr>\n",
       "    <tr>\n",
       "      <th>5</th>\n",
       "      <td>\" bom é bandido morto\"\\nDeputado Cabo Júlio é ...</td>\n",
       "      <td>Neutro</td>\n",
       "      <td>[]</td>\n",
       "      <td>[]</td>\n",
       "      <td>bom bandido morto deputado cabo julio condenad...</td>\n",
       "    </tr>\n",
       "    <tr>\n",
       "      <th>6</th>\n",
       "      <td>\"..E 25% dos mineiros dizem não torcer para ti...</td>\n",
       "      <td>Neutro</td>\n",
       "      <td>[]</td>\n",
       "      <td>[]</td>\n",
       "      <td>25 mineiros dizem torcer time nenhum dentro es...</td>\n",
       "    </tr>\n",
       "  </tbody>\n",
       "</table>\n",
       "</div>"
      ],
      "text/plain": [
       "                                                Text Classificacao perfis  \\\n",
       "0  ���⛪ @ Catedral de Santo Antônio - Governador ...        Neutro     []   \n",
       "1  � @ Governador Valadares, Minas Gerais https:/...        Neutro     []   \n",
       "4  ��� PSOL vai questionar aumento de vereadores ...      Negativo     []   \n",
       "5  \" bom é bandido morto\"\\nDeputado Cabo Júlio é ...        Neutro     []   \n",
       "6  \"..E 25% dos mineiros dizem não torcer para ti...        Neutro     []   \n",
       "\n",
       "  hashtags                                       Text tratado  \n",
       "0       []     catedral santo antonio governador valadares mg  \n",
       "1       []                  governador valadares minas gerais  \n",
       "4       []  psol vai questionar aumento vereadores prefeit...  \n",
       "5       []  bom bandido morto deputado cabo julio condenad...  \n",
       "6       []  25 mineiros dizem torcer time nenhum dentro es...  "
      ]
     },
     "execution_count": 192,
     "metadata": {},
     "output_type": "execute_result"
    }
   ],
   "source": [
    "df_tratado.head()"
   ]
  },
  {
   "cell_type": "code",
   "execution_count": 193,
   "metadata": {},
   "outputs": [
    {
     "data": {
      "text/plain": [
       "Neutro      1419\n",
       "Positivo    1142\n",
       "Negativo     494\n",
       "Name: Classificacao, dtype: int64"
      ]
     },
     "execution_count": 193,
     "metadata": {},
     "output_type": "execute_result"
    }
   ],
   "source": [
    "df_tratado.Classificacao.value_counts()"
   ]
  },
  {
   "cell_type": "markdown",
   "metadata": {},
   "source": [
    "Agora a nossa base já esta pronta para ir para modelagem."
   ]
  },
  {
   "cell_type": "markdown",
   "metadata": {},
   "source": [
    "## Bag of Words"
   ]
  },
  {
   "cell_type": "markdown",
   "metadata": {},
   "source": [
    "A Bag of Words (BoW) ou vectorização é uma técnica de simplificação de documentos e consiste em transformar cada texto em um vector de tamanho fixo representando quantas veces cada palavra aparece no documento.\n",
    "\n",
    "**Vantagems**:\n",
    "* Modelo básico e leve de representação de palavras.\n",
    "* Útil quando o contexto e posição da palavra não são relevantes.\n",
    "\n",
    "**Desvantagems**:\n",
    "* A informação contextual é perdida.\n",
    "* Não diz *onde* uma determinada palavra ocorre no texto.\n",
    "* É ineficiente quando há um número muito grande de diferentes palavras."
   ]
  },
  {
   "cell_type": "code",
   "execution_count": 202,
   "metadata": {},
   "outputs": [],
   "source": [
    "from sklearn.feature_extraction.text import CountVectorizer"
   ]
  },
  {
   "cell_type": "code",
   "execution_count": 195,
   "metadata": {},
   "outputs": [],
   "source": [
    "class BagOfWords:\n",
    "    def __init__(self, documentos, ngram=1):\n",
    "        self.vectorizer = CountVectorizer(analyzer=\"word\", tokenizer=prep.tokenizador, ngram_range=(ngram, ngram))\n",
    "        self.corpus = self.vectorizer.fit_transform(documentos)\n",
    "        self.word_freq = None\n",
    "        \n",
    "    def get_topn(self, topn=100):\n",
    "        if not self.word_freq:\n",
    "            result = {}\n",
    "            for palavra, total in zip(self.vectorizer.get_feature_names(), sum(self.corpus.toarray())):\n",
    "                result[palavra] = total\n",
    "        else:\n",
    "            result = self.word_freq\n",
    "        return sorted(result.items(), key=lambda x: x[1], reverse=True)\n",
    "    \n",
    "    def transform(self, texto):\n",
    "        if type(texto) is str:\n",
    "            return self.vectorizer.transform([texto])\n",
    "        elif type(texto) is list:\n",
    "            return self.vectorizer.transform(texto)"
   ]
  },
  {
   "cell_type": "code",
   "execution_count": 196,
   "metadata": {},
   "outputs": [],
   "source": [
    "# Tomar uma muestra de documentos e construir uma Bag of Words\n",
    "bow_negativa = BagOfWords(df_tratado[df_tratado['Classificacao'] == 'Negativo']['Text tratado'].values, ngram=1)"
   ]
  },
  {
   "cell_type": "code",
   "execution_count": 197,
   "metadata": {
    "scrolled": true
   },
   "outputs": [
    {
     "data": {
      "text/plain": [
       "[('minas', 255),\n",
       " ('governo', 222),\n",
       " ('mg', 188),\n",
       " ('rt', 179),\n",
       " ('helicopteros', 126),\n",
       " ('pimentel', 126),\n",
       " ('estado', 122),\n",
       " ('governador', 115),\n",
       " ('gerais', 88),\n",
       " ('calamidade', 87),\n",
       " ('compra', 79),\n",
       " ('financeira', 77),\n",
       " ('dois', 70),\n",
       " ('helicoptero', 68),\n",
       " ('r', 61),\n",
       " ('filho', 48),\n",
       " ('justica', 47),\n",
       " ('pt', 47),\n",
       " ('fernando', 46),\n",
       " ('recursos', 46),\n",
       " ('via', 46),\n",
       " ('bb', 45),\n",
       " ('judiciais', 43),\n",
       " ('conta', 40),\n",
       " ('avisa', 39),\n",
       " ('depositos', 38),\n",
       " ('brasil', 35),\n",
       " ('judicial', 32),\n",
       " ('2', 27),\n",
       " ('8', 26),\n",
       " ('milhoes', 26),\n",
       " ('dinheiro', 25),\n",
       " ('buscar', 24),\n",
       " ('cobra', 24),\n",
       " ('banco', 23),\n",
       " ('1', 22),\n",
       " ('50', 22),\n",
       " ('5', 21),\n",
       " ('bilhao', 20),\n",
       " ('festa', 19),\n",
       " ('politica', 19),\n",
       " ('ser', 19),\n",
       " ('ainda', 17),\n",
       " ('q', 17),\n",
       " ('sobre', 17),\n",
       " ('petista', 16),\n",
       " ('vai', 16),\n",
       " ('gasta', 15),\n",
       " ('cara', 14),\n",
       " ('povo', 14),\n",
       " ('pra', 14),\n",
       " ('usa', 14),\n",
       " ('decreta', 13),\n",
       " ('uso', 13),\n",
       " ('by', 12),\n",
       " ('p', 12),\n",
       " ('voos', 12),\n",
       " ('comprar', 11),\n",
       " ('vergonha', 11),\n",
       " ('reveillon', 10),\n",
       " ('corrupto', 9),\n",
       " ('crise', 9),\n",
       " ('dados', 9),\n",
       " ('decretou', 9),\n",
       " ('mineiros', 9),\n",
       " ('poe', 9),\n",
       " ('s', 9),\n",
       " ('sigilo', 9),\n",
       " ('usou', 9),\n",
       " ('assim', 8),\n",
       " ('comprou', 8),\n",
       " ('contas', 8),\n",
       " ('contra', 8),\n",
       " ('desse', 8),\n",
       " ('pau', 8),\n",
       " ('paulo', 8),\n",
       " ('pilantrel', 8),\n",
       " ('prefeito', 8),\n",
       " ('todo', 8),\n",
       " ('21', 7),\n",
       " ('balada', 7),\n",
       " ('busca', 7),\n",
       " ('deveria', 7),\n",
       " ('emergencia', 7),\n",
       " ('gente', 7),\n",
       " ('gov', 7),\n",
       " ('paga', 7),\n",
       " ('polemica', 7),\n",
       " ('preso', 7),\n",
       " ('quebrado', 7),\n",
       " ('ta', 7),\n",
       " ('2017', 6),\n",
       " ('absurdo', 6),\n",
       " ('apos', 6),\n",
       " ('aqui', 6),\n",
       " ('d', 6),\n",
       " ('decretar', 6),\n",
       " ('disputa', 6),\n",
       " ('estar', 6),\n",
       " ('folha', 6),\n",
       " ('meio', 6),\n",
       " ('mil', 6),\n",
       " ('n', 6),\n",
       " ('oficial', 6),\n",
       " ('olha', 6),\n",
       " ('pode', 6),\n",
       " ('prefeitura', 6),\n",
       " ('presidente', 6),\n",
       " ('quebrou', 6),\n",
       " ('travam', 6),\n",
       " ('tudo', 6),\n",
       " ('uberlandia', 6),\n",
       " ('3', 5),\n",
       " ('agora', 5),\n",
       " ('bh', 5),\n",
       " ('escarnio', 5),\n",
       " ('faccoes', 5),\n",
       " ('falida', 5),\n",
       " ('falido', 5),\n",
       " ('istoe', 5),\n",
       " ('mao', 5),\n",
       " ('mi', 5),\n",
       " ('mineiro', 5),\n",
       " ('nada', 5),\n",
       " ('pagamento', 5),\n",
       " ('presidios', 5),\n",
       " ('restituicao', 5),\n",
       " ('stf', 5),\n",
       " ('ter', 5),\n",
       " ('vcs', 5),\n",
       " ('ver', 5),\n",
       " ('500', 4),\n",
       " ('abusa', 4),\n",
       " ('administrativa', 4),\n",
       " ('aecio', 4),\n",
       " ('aeronaves', 4),\n",
       " ('afirma', 4),\n",
       " ('aimores', 4),\n",
       " ('anos', 4),\n",
       " ('apoia', 4),\n",
       " ('aproximadamente', 4),\n",
       " ('atrasa', 4),\n",
       " ('bando', 4),\n",
       " ('bebado', 4),\n",
       " ('bolsa', 4),\n",
       " ('chega', 4),\n",
       " ('comprando', 4),\n",
       " ('criou', 4),\n",
       " ('custaram', 4),\n",
       " ('dando', 4),\n",
       " ('declarou', 4),\n",
       " ('deve', 4),\n",
       " ('exemplo', 4),\n",
       " ('favor', 4),\n",
       " ('fdp', 4),\n",
       " ('filhinho', 4),\n",
       " ('fundos', 4),\n",
       " ('gasto', 4),\n",
       " ('historia', 4),\n",
       " ('imprensa', 4),\n",
       " ('instituicao', 4),\n",
       " ('julio', 4),\n",
       " ('legal', 4),\n",
       " ('merda', 4),\n",
       " ('merece', 4),\n",
       " ('mordomias', 4),\n",
       " ('neves', 4),\n",
       " ('new', 4),\n",
       " ('noticias', 4),\n",
       " ('onde', 4),\n",
       " ('onibus', 4),\n",
       " ('pagar', 4),\n",
       " ('pais', 4),\n",
       " ('papai', 4),\n",
       " ('parte', 4),\n",
       " ('poder', 4),\n",
       " ('policia', 4),\n",
       " ('post', 4),\n",
       " ('preve', 4),\n",
       " ('psdb', 4),\n",
       " ('publico', 4),\n",
       " ('receber', 4),\n",
       " ('resgates', 4),\n",
       " ('salarios', 4),\n",
       " ('secretario', 4),\n",
       " ('sendo', 4),\n",
       " ('sobrando', 4),\n",
       " ('vagabundo', 4),\n",
       " ('video', 4),\n",
       " ('000', 3),\n",
       " ('2016', 3),\n",
       " ('acha', 3),\n",
       " ('acronimo', 3),\n",
       " ('afinal', 3),\n",
       " ('ai', 3),\n",
       " ('amigos', 3),\n",
       " ('artificio', 3),\n",
       " ('aumento', 3),\n",
       " ('b', 3),\n",
       " ('bandido', 3),\n",
       " ('bandidos', 3),\n",
       " ('basta', 3),\n",
       " ('buscando', 3),\n",
       " ('c', 3),\n",
       " ('caixa', 3),\n",
       " ('caratinga', 3),\n",
       " ('condenado', 3),\n",
       " ('da', 3),\n",
       " ('defende', 3),\n",
       " ('desgovernado', 3),\n",
       " ('deu', 3),\n",
       " ('enquanto', 3),\n",
       " ('envolvendo', 3),\n",
       " ('familia', 3),\n",
       " ('fato', 3),\n",
       " ('federal', 3),\n",
       " ('flagrado', 3),\n",
       " ('gastara', 3),\n",
       " ('golpista', 3),\n",
       " ('governa', 3),\n",
       " ('gpa', 3),\n",
       " ('investigacao', 3),\n",
       " ('ja', 3),\n",
       " ('juridica', 3),\n",
       " ('levar', 3),\n",
       " ('licitacao', 3),\n",
       " ('maior', 3),\n",
       " ('manguaca', 3),\n",
       " ('mensais', 3),\n",
       " ('nao', 3),\n",
       " ('ne', 3),\n",
       " ('onda', 3),\n",
       " ('pai', 3),\n",
       " ('passando', 3),\n",
       " ('pedir', 3),\n",
       " ('petralha', 3),\n",
       " ('pior', 3),\n",
       " ('po', 3),\n",
       " ('porque', 3),\n",
       " ('pq', 3),\n",
       " ('preocupante', 3),\n",
       " ('quer', 3),\n",
       " ('rio', 3),\n",
       " ('rj', 3),\n",
       " ('safado', 3),\n",
       " ('servidores', 3),\n",
       " ('sim', 3),\n",
       " ('situacao', 3),\n",
       " ('solto', 3),\n",
       " ('sumiram', 3),\n",
       " ('torrando', 3),\n",
       " ('transportar', 3),\n",
       " ('uol', 3),\n",
       " ('utilizar', 3),\n",
       " ('valores', 3),\n",
       " ('vc', 3),\n",
       " ('vereador', 3),\n",
       " ('01', 2),\n",
       " ('04', 2),\n",
       " ('05', 2),\n",
       " ('08', 2),\n",
       " ('10', 2),\n",
       " ('14', 2),\n",
       " ('2014', 2),\n",
       " ('390', 2),\n",
       " ('4', 2),\n",
       " ('6', 2),\n",
       " ('80', 2),\n",
       " ('9', 2),\n",
       " ('abre', 2),\n",
       " ('acabam', 2),\n",
       " ('acabou', 2),\n",
       " ('acima', 2),\n",
       " ('acoes', 2),\n",
       " ('aeronave', 2),\n",
       " ('afastado', 2),\n",
       " ('afonso', 2),\n",
       " ('age', 2),\n",
       " ('aguentem', 2),\n",
       " ('ajudar', 2),\n",
       " ('ajude', 2),\n",
       " ('alexandre', 2),\n",
       " ('alguma', 2),\n",
       " ('alias', 2),\n",
       " ('alo', 2),\n",
       " ('amazonas', 2),\n",
       " ('amontoado', 2),\n",
       " ('anda', 2),\n",
       " ('anel', 2),\n",
       " ('ano', 2),\n",
       " ('antes', 2),\n",
       " ('apresente', 2),\n",
       " ('apropriando', 2),\n",
       " ('arroz', 2),\n",
       " ('assunto', 2),\n",
       " ('autoriza', 2),\n",
       " ('bancar', 2),\n",
       " ('bebaco', 2),\n",
       " ('beber', 2),\n",
       " ('beneficio', 2),\n",
       " ('blog', 2),\n",
       " ('boa', 2),\n",
       " ('bora', 2),\n",
       " ('bosta', 2),\n",
       " ('brasilia', 2),\n",
       " ('bruno', 2),\n",
       " ('cabide', 2),\n",
       " ('cabo', 2),\n",
       " ('cade', 2),\n",
       " ('cadeia', 2),\n",
       " ('canalhice', 2),\n",
       " ('candidato', 2),\n",
       " ('carece', 2),\n",
       " ('carro', 2),\n",
       " ('caso', 2),\n",
       " ('causou', 2),\n",
       " ('cerrada', 2),\n",
       " ('chamou', 2),\n",
       " ('civil', 2),\n",
       " ('claro', 2),\n",
       " ('classe', 2),\n",
       " ('co', 2),\n",
       " ('cobram', 2),\n",
       " ('coerencia', 2),\n",
       " ('cofres', 2),\n",
       " ('coleciona', 2),\n",
       " ('comando', 2),\n",
       " ('comocao', 2),\n",
       " ('comprovem', 2),\n",
       " ('comunista', 2),\n",
       " ('comunos', 2),\n",
       " ('confirma', 2),\n",
       " ('continua', 2),\n",
       " ('correntes', 2),\n",
       " ('corrupcao', 2),\n",
       " ('criticas', 2),\n",
       " ('curte', 2),\n",
       " ('dar', 2),\n",
       " ('decisoes', 2),\n",
       " ('decreto', 2),\n",
       " ('deixa', 2),\n",
       " ('deixar', 2),\n",
       " ('demais', 2),\n",
       " ('democracia', 2),\n",
       " ('deputado', 2),\n",
       " ('desgraca', 2),\n",
       " ('despesas', 2),\n",
       " ('devassa', 2),\n",
       " ('deveriam', 2),\n",
       " ('devidos', 2),\n",
       " ('divida', 2),\n",
       " ('dividas', 2),\n",
       " ('diz', 2),\n",
       " ('documento', 2),\n",
       " ('documentos', 2),\n",
       " ('doenca', 2),\n",
       " ('duvida', 2),\n",
       " ('eleito', 2),\n",
       " ('elemento', 2),\n",
       " ('empregos', 2),\n",
       " ('emprestado', 2),\n",
       " ('endividando', 2),\n",
       " ('entregar', 2),\n",
       " ('envergonha', 2),\n",
       " ('escroto', 2),\n",
       " ('esgotado', 2),\n",
       " ('esnoba', 2),\n",
       " ('esposa', 2),\n",
       " ('esquecer', 2),\n",
       " ('esquerda', 2),\n",
       " ('estados', 2),\n",
       " ('estadual', 2),\n",
       " ('estagiarios', 2),\n",
       " ('estagio', 2),\n",
       " ('ex', 2),\n",
       " ('extravagancias', 2),\n",
       " ('fala', 2),\n",
       " ('falencia', 2),\n",
       " ('falta', 2),\n",
       " ('faz', 2),\n",
       " ('fazer', 2),\n",
       " ('feriados', 2),\n",
       " ('festas', 2),\n",
       " ('fica', 2),\n",
       " ('ficar', 2),\n",
       " ('filhao', 2),\n",
       " ('fim', 2),\n",
       " ('formula', 2),\n",
       " ('fracasso', 2),\n",
       " ('funcao', 2),\n",
       " ('gastando', 2),\n",
       " ('gastos', 2),\n",
       " ('golpe', 2),\n",
       " ('governadores', 2),\n",
       " ('governar', 2),\n",
       " ('herois', 2),\n",
       " ('hipocrisia', 2),\n",
       " ('hoje', 2),\n",
       " ('htt', 2),\n",
       " ('ilegalmente', 2),\n",
       " ('imbecil', 2),\n",
       " ('independente', 2),\n",
       " ('inelegivel', 2),\n",
       " ('infelizmente', 2),\n",
       " ('ipva', 2),\n",
       " ('jose', 2),\n",
       " ('la', 2),\n",
       " ('linda', 2),\n",
       " ('lixo', 2),\n",
       " ('logo', 2),\n",
       " ('lugar', 2),\n",
       " ('lula', 2),\n",
       " ('mae', 2),\n",
       " ('maiores', 2),\n",
       " ('mal', 2),\n",
       " ('manchete', 2),\n",
       " ('mandou', 2),\n",
       " ('manobra', 2),\n",
       " ('marcacao', 2),\n",
       " ('melhor', 2),\n",
       " ('menos', 2),\n",
       " ('mercado', 2),\n",
       " ('metro', 2),\n",
       " ('mg_', 2),\n",
       " ('militar', 2),\n",
       " ('mim', 2),\n",
       " ('mineira', 2),\n",
       " ('mineiras', 2),\n",
       " ('minuto', 2),\n",
       " ('moralidade', 2),\n",
       " ('motiva', 2),\n",
       " ('msm', 2),\n",
       " ('mtos', 2),\n",
       " ('nacional', 2),\n",
       " ('negociatas', 2),\n",
       " ('ninguem', 2),\n",
       " ('nome', 2),\n",
       " ('noticia', 2),\n",
       " ('nova', 2),\n",
       " ('novos', 2),\n",
       " ('o', 2),\n",
       " ('obrigada', 2),\n",
       " ('outro', 2),\n",
       " ('outros', 2),\n",
       " ('pagara', 2),\n",
       " ('palhaco', 2),\n",
       " ('palmares', 2),\n",
       " ('partes', 2),\n",
       " ('passa', 2),\n",
       " ('passagem', 2),\n",
       " ('pe', 2),\n",
       " ('pegando', 2),\n",
       " ('pensei', 2),\n",
       " ('pergunta', 2),\n",
       " ('pertencem', 2),\n",
       " ('pessoas', 2),\n",
       " ('pilantra', 2),\n",
       " ('piores', 2),\n",
       " ('pizza', 2),\n",
       " ('pm', 2),\n",
       " ('pmdb', 2),\n",
       " ('pmu', 2),\n",
       " ('podemos', 2),\n",
       " ('politicos', 2),\n",
       " ('porra', 2),\n",
       " ('pouco', 2),\n",
       " ('precisa', 2),\n",
       " ('prender', 2),\n",
       " ('pressao', 2),\n",
       " ('prisao', 2),\n",
       " ('problema', 2),\n",
       " ('problemas', 2),\n",
       " ('processos', 2),\n",
       " ('proprio', 2),\n",
       " ('protesto', 2),\n",
       " ('psol', 2),\n",
       " ('ptista', 2),\n",
       " ('publica', 2),\n",
       " ('puderam', 2),\n",
       " ('qualquer', 2),\n",
       " ('quase', 2),\n",
       " ('quebram', 2),\n",
       " ('querer', 2),\n",
       " ('quero', 2),\n",
       " ('rale', 2),\n",
       " ('ratos', 2),\n",
       " ('reage', 2),\n",
       " ('recado', 2),\n",
       " ('recheada', 2),\n",
       " ('redes', 2),\n",
       " ('relativos', 2),\n",
       " ('repor', 2),\n",
       " ('republiqueta', 2),\n",
       " ('resgatar', 2),\n",
       " ('ressaca', 2),\n",
       " ('reu', 2),\n",
       " ('ribeirao', 2),\n",
       " ('rico', 2),\n",
       " ('risco', 2),\n",
       " ('roendo', 2),\n",
       " ('role', 2),\n",
       " ('rota', 2),\n",
       " ('roubado', 2),\n",
       " ('sabe', 2),\n",
       " ('salario', 2),\n",
       " ('segura', 2),\n",
       " ('segurando', 2),\n",
       " ('sei', 2),\n",
       " ('senado', 2),\n",
       " ('senhor', 2),\n",
       " ('serio', 2),\n",
       " ('servidor', 2),\n",
       " ('simbolismo', 2),\n",
       " ('site', 2),\n",
       " ('sociais', 2),\n",
       " ('some', 2),\n",
       " ('stela', 2),\n",
       " ('sujeito', 2),\n",
       " ('superlotacao', 2),\n",
       " ('tao', 2),\n",
       " ('temer', 2),\n",
       " ('terceira', 2),\n",
       " ('terrorista', 2),\n",
       " ('tirarem', 2),\n",
       " ('todos', 2),\n",
       " ('tomaz', 2),\n",
       " ('torrou', 2),\n",
       " ('trabalhar', 2),\n",
       " ('transformou', 2),\n",
       " ('tres', 2),\n",
       " ('turma', 2),\n",
       " ('umanizzare', 2),\n",
       " ('usado', 2),\n",
       " ('usar', 2),\n",
       " ('usaram', 2),\n",
       " ('utilizou', 2),\n",
       " ('vejam', 2),\n",
       " ('velho', 2),\n",
       " ('vendo', 2),\n",
       " ('verbas', 2),\n",
       " ('verdade', 2),\n",
       " ('verdadeira', 2),\n",
       " ('vereadores', 2),\n",
       " ('vezes', 2),\n",
       " ('vida', 2),\n",
       " ('virou', 2),\n",
       " ('viu', 2),\n",
       " ('voa', 2),\n",
       " ('vooooaaaaa', 2),\n",
       " ('votaram', 2),\n",
       " ('votou', 2),\n",
       " ('x', 2),\n",
       " ('ze', 2),\n",
       " ('zero', 2),\n",
       " ('00', 1),\n",
       " ('028', 1),\n",
       " ('06', 1),\n",
       " ('123', 1),\n",
       " ('124', 1),\n",
       " ('127', 1),\n",
       " ('13', 1),\n",
       " ('150', 1),\n",
       " ('20', 1),\n",
       " ('2003', 1),\n",
       " ('2005', 1),\n",
       " ('2010', 1),\n",
       " ('21mi', 1),\n",
       " ('23', 1),\n",
       " ('24', 1),\n",
       " ('2a', 1),\n",
       " ('300', 1),\n",
       " ('400', 1),\n",
       " ('44', 1),\n",
       " ('60', 1),\n",
       " ('7', 1),\n",
       " ('75', 1),\n",
       " ('_', 1),\n",
       " ('absolutista', 1),\n",
       " ('abuso', 1),\n",
       " ('acabando', 1),\n",
       " ('acaso', 1),\n",
       " ('acesse', 1),\n",
       " ('acesso', 1),\n",
       " ('achou', 1),\n",
       " ('aconteceu', 1),\n",
       " ('acreditei', 1),\n",
       " ('adicionei', 1),\n",
       " ('administracao', 1),\n",
       " ('admite', 1),\n",
       " ('adquire', 1),\n",
       " ('aeroporto', 1),\n",
       " ('afastar', 1),\n",
       " ('agem', 1),\n",
       " ('agrava', 1),\n",
       " ('ajuda', 1),\n",
       " ('alckmin', 1),\n",
       " ('algemado', 1),\n",
       " ('aliados', 1),\n",
       " ('alvo', 1),\n",
       " ('amarela', 1),\n",
       " ('amigas', 1),\n",
       " ('amor', 1),\n",
       " ('amplia', 1),\n",
       " ('anac', 1),\n",
       " ('andar', 1),\n",
       " ('anta', 1),\n",
       " ('anuncia', 1),\n",
       " ('apesar', 1),\n",
       " ('apoiam', 1),\n",
       " ('aprontando', 1),\n",
       " ('apropriam', 1),\n",
       " ('aprovam', 1),\n",
       " ('argumentando', 1),\n",
       " ('arnaldo', 1),\n",
       " ('arrebentado', 1),\n",
       " ('artif', 1),\n",
       " ('aspirador', 1),\n",
       " ('assalto', 1),\n",
       " ('assemleia', 1),\n",
       " ('assinou', 1),\n",
       " ('assista', 1),\n",
       " ('assumiu', 1),\n",
       " ('ativistas', 1),\n",
       " ('ato', 1),\n",
       " ('atoleiro', 1),\n",
       " ('atrasando', 1),\n",
       " ('atraves', 1),\n",
       " ('atribuiu', 1),\n",
       " ('atual', 1),\n",
       " ('aumenta', 1),\n",
       " ('aumentou', 1),\n",
       " ('autorizado', 1),\n",
       " ('auxilio', 1),\n",
       " ('avanca', 1),\n",
       " ('aviao', 1),\n",
       " ('babaca', 1),\n",
       " ('base', 1),\n",
       " ('bebados', 1),\n",
       " ('bebem', 1),\n",
       " ('bebidas', 1),\n",
       " ('bem', 1),\n",
       " ('bombeiros', 1),\n",
       " ('boquinha', 1),\n",
       " ('brasileira', 1),\n",
       " ('brasileiro', 1),\n",
       " ('brazil', 1),\n",
       " ('brinquedo', 1),\n",
       " ('cac', 1),\n",
       " ('cada', 1),\n",
       " ('cadeias', 1),\n",
       " ('cafageste', 1),\n",
       " ('caira', 1),\n",
       " ('calote', 1),\n",
       " ('caloteiro', 1),\n",
       " ('camara', 1),\n",
       " ('campanhas', 1),\n",
       " ('canalhas', 1),\n",
       " ('caotico', 1),\n",
       " ('capacidade', 1),\n",
       " ('capital', 1),\n",
       " ('carater', 1),\n",
       " ('carceraria', 1),\n",
       " ('cardoso', 1),\n",
       " ('cargo', 1),\n",
       " ('carona', 1),\n",
       " ('cartao', 1),\n",
       " ('casos', 1),\n",
       " ('cassado', 1),\n",
       " ('cecilia', 1),\n",
       " ('ceee', 1),\n",
       " ('cemig', 1),\n",
       " ('chamado', 1),\n",
       " ('chamar', 1),\n",
       " ('chave', 1),\n",
       " ('chegar', 1),\n",
       " ('cheiro', 1),\n",
       " ('chico', 1),\n",
       " ('chupaaa', 1),\n",
       " ('chutado', 1),\n",
       " ('cidade', 1),\n",
       " ('cima', 1),\n",
       " ('circo', 1),\n",
       " ('claudio', 1),\n",
       " ('clique', 1),\n",
       " ('cocaina', 1),\n",
       " ('coit', 1),\n",
       " ('coitada', 1),\n",
       " ('coloca', 1),\n",
       " ('comandante', 1),\n",
       " ('comecando', 1),\n",
       " ('comentou', 1),\n",
       " ('completa', 1),\n",
       " ('compor', 1),\n",
       " ('compre', 1),\n",
       " ('concordo', 1),\n",
       " ('concorrer', 1),\n",
       " ('condenar', 1),\n",
       " ('confira', 1),\n",
       " ('confortavel', 1),\n",
       " ('conhece', 1),\n",
       " ('consciencia', 1),\n",
       " ('conselho', 1),\n",
       " ('construcao', 1),\n",
       " ('consultando', 1),\n",
       " ('cont', 1),\n",
       " ('contabil', 1),\n",
       " ('contamos', 1),\n",
       " ('continuacao', 1),\n",
       " ('continuar', 1),\n",
       " ('continuidade', 1),\n",
       " ('contrato', 1),\n",
       " ('contribuinte', 1),\n",
       " ('coragem', 1),\n",
       " ('corruptos', 1),\n",
       " ('cospe', 1),\n",
       " ('covarde', 1),\n",
       " ('credito', 1),\n",
       " ('cresce', 1),\n",
       " ('crimes', 1),\n",
       " ('criminalidade', 1),\n",
       " ('criminosos', 1),\n",
       " ('custear', 1),\n",
       " ('dai', 1),\n",
       " ('dava', 1),\n",
       " ('db', 1),\n",
       " ('dedicado', 1),\n",
       " ('defender', 1),\n",
       " ('defendeu', 1),\n",
       " ('defesa', 1),\n",
       " ('dep', 1),\n",
       " ('deposit', 1),\n",
       " ('deputados', 1),\n",
       " ('derrotar', 1),\n",
       " ('descendente', 1),\n",
       " ('desconhecer', 1),\n",
       " ('desconhecido', 1),\n",
       " ('desculpa', 1),\n",
       " ('desembargadores', 1),\n",
       " ('desencargo', 1),\n",
       " ('desequilibrado', 1),\n",
       " ('desgovernador', 1),\n",
       " ('desleal', 1),\n",
       " ('desonesto', 1),\n",
       " ('dessa', 1),\n",
       " ('desses', 1),\n",
       " ('desta', 1),\n",
       " ('destas', 1),\n",
       " ('destruiu', 1),\n",
       " ('desvio', 1),\n",
       " ('detalhe', 1),\n",
       " ('detentos', 1),\n",
       " ('deus', 1),\n",
       " ('devasso', 1),\n",
       " ('devolve', 1),\n",
       " ('dezembro', 1),\n",
       " ('dia', 1),\n",
       " ('diario', 1),\n",
       " ('dificil', 1),\n",
       " ('dilma', 1),\n",
       " ('dilmes', 1),\n",
       " ('dinhe', 1),\n",
       " ('dirija', 1),\n",
       " ('disse', 1),\n",
       " ('distribuindo', 1),\n",
       " ('ditadura', 1),\n",
       " ('doente', 1),\n",
       " ('doi', 1),\n",
       " ('domingo', 1),\n",
       " ('dono', 1),\n",
       " ('donos', 1),\n",
       " ('dpois', 1),\n",
       " ('durante', 1),\n",
       " ('economica', 1),\n",
       " ('educacao', 1),\n",
       " ('elegeu', 1),\n",
       " ('eleicao', 1),\n",
       " ('eleitorais', 1),\n",
       " ('eleitores', 1),\n",
       " ('elicopteros', 1),\n",
       " ('elza', 1),\n",
       " ('embriagado', 1),\n",
       " ('empresariais', 1),\n",
       " ('empresarios', 1),\n",
       " ('encontra', 1),\n",
       " ('energetico', 1),\n",
       " ('enfrenta', 1),\n",
       " ('entao', 1),\n",
       " ('entrara', 1),\n",
       " ('entrevistas', 1),\n",
       " ('entrou', 1),\n",
       " ('equipamentos', 1),\n",
       " ('errado', 1),\n",
       " ('erro', 1),\n",
       " ('esbanja', 1),\n",
       " ('esbornia', 1),\n",
       " ('escarpas', 1),\n",
       " ('escola', 1),\n",
       " ('escolhido', 1),\n",
       " ('espanta', 1),\n",
       " ('esperavam', 1),\n",
       " ('espertos', 1),\n",
       " ('essencia', 1),\n",
       " ('estadao', 1),\n",
       " ('estaria', 1),\n",
       " ('estarrecedor', 1),\n",
       " ('estatal', 1),\n",
       " ('estilo', 1),\n",
       " ('estirpe', 1),\n",
       " ('estudando', 1),\n",
       " ('etc', 1),\n",
       " ('existem', 1),\n",
       " ('existencia', 1),\n",
       " ('explicacoes', 1),\n",
       " ('expulso', 1),\n",
       " ('f5', 1),\n",
       " ('facil', 1),\n",
       " ('falando', 1),\n",
       " ('falar', 1),\n",
       " ('falir', 1),\n",
       " ('faliu', 1),\n",
       " ('faltar', 1),\n",
       " ('faltou', 1),\n",
       " ('farragente', 1),\n",
       " ('fascista', 1),\n",
       " ('fazem', 1),\n",
       " ('fazenda', 1),\n",
       " ('fazendo', 1),\n",
       " ('fazia', 1),\n",
       " ('febre', 1),\n",
       " ('fecha', 1),\n",
       " ('feito', 1),\n",
       " ('ferragente', 1),\n",
       " ('ferramenta', 1),\n",
       " ('fianca', 1),\n",
       " ('fico', 1),\n",
       " ('filha', 1),\n",
       " ('filhote', 1),\n",
       " ('finalidade', 1),\n",
       " ('finalizou', 1),\n",
       " ('financas', 1),\n",
       " ('fingir', 1),\n",
       " ('fins', 1),\n",
       " ('fiquem', 1),\n",
       " ('fiscal', 1),\n",
       " ('fiscalizam', 1),\n",
       " ('fiuza', 1),\n",
       " ('fixacao', 1),\n",
       " ('fiz', 1),\n",
       " ('florianopolis', 1),\n",
       " ('foco', 1),\n",
       " ('focos', 1),\n",
       " ('fome', 1),\n",
       " ('fretadas', 1),\n",
       " ('funcionalismo', 1),\n",
       " ('funcionarios', 1),\n",
       " ('furnas', 1),\n",
       " ('g', 1),\n",
       " ('g1', 1),\n",
       " ('gandaia', 1),\n",
       " ('ganhar', 1),\n",
       " ('garantindo', 1),\n",
       " ('garcia', 1),\n",
       " ('gari', 1),\n",
       " ('gemeos', 1),\n",
       " ('genuino', 1),\n",
       " ('genuinos', 1),\n",
       " ('gera', 1),\n",
       " ('gerencia', 1),\n",
       " ('gerente', 1),\n",
       " ('go', 1),\n",
       " ('goias', 1),\n",
       " ('gostam', 1),\n",
       " ('gosto', 1),\n",
       " ('gracas', 1),\n",
       " ('guia', 1),\n",
       " ('h', 1),\n",
       " ('haahahha', 1),\n",
       " ('helicopero', 1),\n",
       " ('helicopter', 1),\n",
       " ('heranca', 1),\n",
       " ('herdou', 1),\n",
       " ('homem', 1),\n",
       " ('ht', 1),\n",
       " ('ia', 1),\n",
       " ('ignore', 1),\n",
       " ('igual', 1),\n",
       " ('iguarias', 1),\n",
       " ('ilegal', 1),\n",
       " ('imagem', 1),\n",
       " ('imagina', 1),\n",
       " ('imovel', 1),\n",
       " ('imperador', 1),\n",
       " ('impichar', 1),\n",
       " ('implantar', 1),\n",
       " ('importante', 1),\n",
       " ('impressionante', 1),\n",
       " ('inacre', 1),\n",
       " ('inacreditavel', 1),\n",
       " ('inconsequencia', 1),\n",
       " ('indicia', 1),\n",
       " ('indignados', 1),\n",
       " ('informou', 1),\n",
       " ('inocente', 1),\n",
       " ('instaurou', 1),\n",
       " ('interior', 1),\n",
       " ('investido', 1),\n",
       " ('investidos', 1),\n",
       " ('investigado', 1),\n",
       " ('investimentos', 1),\n",
       " ('ipatinga', 1),\n",
       " ('irene', 1),\n",
       " ('iv', 1),\n",
       " ('janeiro', 1),\n",
       " ('jeito', 1),\n",
       " ('joao', 1),\n",
       " ('judiciaisc', 1),\n",
       " ('judiciario', 1),\n",
       " ('juizes', 1),\n",
       " ('julgar', 1),\n",
       " ('junior', 1),\n",
       " ('junto', 1),\n",
       " ('ladrao', 1),\n",
       " ('lago', 1),\n",
       " ('larguem', 1),\n",
       " ('lazer', 1),\n",
       " ('legais', 1),\n",
       " ('legalidade', 1),\n",
       " ('legislativa', 1),\n",
       " ('lei', 1),\n",
       " ('licenciamento', 1),\n",
       " ('lista', 1),\n",
       " ('livres', 1),\n",
       " ('locacao', 1),\n",
       " ('lopes', 1),\n",
       " ('los', 1),\n",
       " ('lu', 1),\n",
       " ('m', 1),\n",
       " ('maconaria', 1),\n",
       " ('mai', 1),\n",
       " ('maldicao', 1),\n",
       " ('manaus', 1),\n",
       " ('manchetee', 1),\n",
       " ('mandar', 1),\n",
       " ('maneira', 1),\n",
       " ('manifestantes', 1),\n",
       " ('maraja', 1),\n",
       " ('massacres', 1),\n",
       " ('matematica', 1),\n",
       " ('mathias', 1),\n",
       " ('mato', 1),\n",
       " ('mau', 1),\n",
       " ('maus', 1),\n",
       " ('mbl', 1),\n",
       " ('media', 1),\n",
       " ('meliante', 1),\n",
       " ('menor', 1),\n",
       " ('mental', 1),\n",
       " ('mente', 1),\n",
       " ('mentirosa', 1),\n",
       " ('merdas', 1),\n",
       " ('mes', 1),\n",
       " ('mesma', 1),\n",
       " ('mierda', 1),\n",
       " ('min', 1),\n",
       " ('mina', 1),\n",
       " ('ministerio', 1),\n",
       " ('momento', 1),\n",
       " ('moradia', 1),\n",
       " ('moraes', 1),\n",
       " ('moral', 1),\n",
       " ('moralmente', 1),\n",
       " ('moro', 1),\n",
       " ('morreram', 1),\n",
       " ('mosquito', 1),\n",
       " ('mostra', 1),\n",
       " ('ms', 1),\n",
       " ('mto', 1),\n",
       " ('mumia', 1),\n",
       " ('mundo', 1),\n",
       " ('municipio', 1),\n",
       " ('namorar', 1),\n",
       " ('negocio', 1),\n",
       " ('nessa', 1),\n",
       " ('nesse', 1),\n",
       " ('neste', 1),\n",
       " ('news', 1),\n",
       " ('newton', 1),\n",
       " ('ningem', 1),\n",
       " ('nisso', 1),\n",
       " ('nocao', 1),\n",
       " ('noel', 1),\n",
       " ('nomeia', 1),\n",
       " ('nomes', 1),\n",
       " ('norte', 1),\n",
       " ('note', 1),\n",
       " ('novamente', 1),\n",
       " ('novo', 1),\n",
       " ('numero', 1),\n",
       " ('numerosa', 1),\n",
       " ('nunca', 1),\n",
       " ...]"
      ]
     },
     "execution_count": 197,
     "metadata": {},
     "output_type": "execute_result"
    }
   ],
   "source": [
    "bow_negativa.get_topn()"
   ]
  },
  {
   "cell_type": "code",
   "execution_count": 200,
   "metadata": {},
   "outputs": [],
   "source": [
    "# Construir uma Bag of Words\n",
    "bow = BagOfWords(df_tratado['Text tratado'].values, ngram=1)"
   ]
  },
  {
   "cell_type": "code",
   "execution_count": 199,
   "metadata": {
    "scrolled": true
   },
   "outputs": [
    {
     "data": {
      "text/plain": [
       "[('minas', 1386),\n",
       " ('estado', 1234),\n",
       " ('mg', 809),\n",
       " ('rt', 609),\n",
       " ('gerais', 476),\n",
       " ('governo', 454),\n",
       " ('drogas', 394),\n",
       " ('governador', 332),\n",
       " ('amarela', 174),\n",
       " ('febre', 174),\n",
       " ('pimentel', 169),\n",
       " ('pm', 164),\n",
       " ('trafico', 164),\n",
       " ('roubo', 160),\n",
       " ('policia', 149),\n",
       " ('valadares', 147),\n",
       " ('helicopteros', 140),\n",
       " ('y', 139),\n",
       " ('preso', 132),\n",
       " ('contra', 130),\n",
       " ('dois', 121),\n",
       " ('en', 118),\n",
       " ('politica', 118),\n",
       " ('in', 108),\n",
       " ('prende', 108),\n",
       " ('el', 106),\n",
       " ('r', 106),\n",
       " ('apreende', 105),\n",
       " ('apos', 103),\n",
       " ('calamidade', 100),\n",
       " ('presidio', 100),\n",
       " ('i', 96),\n",
       " ('m', 96),\n",
       " ('new', 93),\n",
       " ('post', 93),\n",
       " ('at', 92),\n",
       " ('via', 92),\n",
       " ('compra', 91),\n",
       " ('le', 91),\n",
       " ('financeira', 90),\n",
       " ('la', 89),\n",
       " ('presos', 87),\n",
       " ('brasil', 82),\n",
       " ('anos', 79),\n",
       " ('nacional', 77),\n",
       " ('un', 77),\n",
       " ('fernando', 73),\n",
       " ('helicoptero', 73),\n",
       " ('pt', 70),\n",
       " ('militar', 69),\n",
       " ('1', 68),\n",
       " ('justica', 67),\n",
       " ('mi', 67),\n",
       " ('2', 66),\n",
       " ('bh', 65),\n",
       " ('sobre', 65),\n",
       " ('q', 63),\n",
       " ('homem', 59),\n",
       " ('ser', 56),\n",
       " ('filho', 55),\n",
       " ('tres', 55),\n",
       " ('autores', 53),\n",
       " ('recursos', 53),\n",
       " ('secretaria', 53),\n",
       " ('juiz', 52),\n",
       " ('diz', 51),\n",
       " ('pra', 51),\n",
       " ('rio', 51),\n",
       " ('bb', 50),\n",
       " ('dia', 50),\n",
       " ('suspeito', 50),\n",
       " ('autor', 49),\n",
       " ('militares', 49),\n",
       " ('novo', 49),\n",
       " ('educacao', 48),\n",
       " ('judiciais', 48),\n",
       " ('civil', 47),\n",
       " ('temer', 47),\n",
       " ('2017', 46),\n",
       " ('armas', 46),\n",
       " ('bairro', 45),\n",
       " ('conta', 45),\n",
       " ('los', 45),\n",
       " ('vacinacao', 45),\n",
       " ('depositos', 44),\n",
       " ('suspeitos', 44),\n",
       " ('menor', 43),\n",
       " ('saude', 43),\n",
       " ('con', 42),\n",
       " ('vai', 42),\n",
       " ('avisa', 41),\n",
       " ('casos', 40),\n",
       " ('onibus', 40),\n",
       " ('50', 39),\n",
       " ('mil', 39),\n",
       " ('milhoes', 39),\n",
       " ('presidios', 39),\n",
       " ('arma', 38),\n",
       " ('belo', 38),\n",
       " ('del', 38),\n",
       " ('las', 38),\n",
       " ('municipios', 37),\n",
       " ('seguranca', 37),\n",
       " ('5', 36),\n",
       " ('8', 36),\n",
       " ('al', 36),\n",
       " ('apreensao', 36),\n",
       " ('es', 36),\n",
       " ('faz', 36),\n",
       " ('judicial', 36),\n",
       " ('economia', 35),\n",
       " ('horizonte', 35),\n",
       " ('crise', 34),\n",
       " ('furto', 34),\n",
       " ('lo', 34),\n",
       " ('banco', 33),\n",
       " ('prefeitura', 33),\n",
       " ('menos', 32),\n",
       " ('p', 32),\n",
       " ('presidente', 32),\n",
       " ('todo', 32),\n",
       " ('uberlandia', 32),\n",
       " ('bom', 31),\n",
       " ('dinheiro', 31),\n",
       " ('modelo', 31),\n",
       " ('bpm', 30),\n",
       " ('durante', 30),\n",
       " ('forca', 30),\n",
       " ('privado', 30),\n",
       " ('zona', 30),\n",
       " ('aqui', 29),\n",
       " ('claros', 29),\n",
       " ('montes', 29),\n",
       " ('nova', 29),\n",
       " ('recebe', 29),\n",
       " ('rural', 29),\n",
       " ('w', 29),\n",
       " ('cobra', 28),\n",
       " ('homens', 28),\n",
       " ('jovem', 28),\n",
       " ('melhor', 28),\n",
       " ('presa', 28),\n",
       " ('si', 28),\n",
       " ('3', 27),\n",
       " ('ainda', 27),\n",
       " ('fogo', 27),\n",
       " ('prisao', 27),\n",
       " ('4', 26),\n",
       " ('60', 26),\n",
       " ('anuncia', 26),\n",
       " ('entrega', 26),\n",
       " ('grande', 26),\n",
       " ('pais', 26),\n",
       " ('traficante', 26),\n",
       " ('tt', 26),\n",
       " ('2016', 25),\n",
       " ('buscar', 25),\n",
       " ('casa', 25),\n",
       " ('dias', 25),\n",
       " ('ex', 25),\n",
       " ('maior', 25),\n",
       " ('operacao', 25),\n",
       " ('ano', 24),\n",
       " ('cia', 24),\n",
       " ('g1', 24),\n",
       " ('manaus', 24),\n",
       " ('massacre', 24),\n",
       " ('povo', 24),\n",
       " ('rebelioes', 24),\n",
       " ('ter', 24),\n",
       " ('acoes', 23),\n",
       " ('bilhao', 23),\n",
       " ('petista', 23),\n",
       " ('processo', 23),\n",
       " ('una', 23),\n",
       " ('uso', 23),\n",
       " ('10', 22),\n",
       " ('paulo', 22),\n",
       " ('publico', 22),\n",
       " ('quer', 22),\n",
       " ('vacinas', 22),\n",
       " ('abre', 21),\n",
       " ('apreendem', 21),\n",
       " ('apreendido', 21),\n",
       " ('araxa', 21),\n",
       " ('divisa', 21),\n",
       " ('estados', 21),\n",
       " ('federal', 21),\n",
       " ('janeiro', 21),\n",
       " ('mata', 21),\n",
       " ('rj', 21),\n",
       " ('secretario', 21),\n",
       " ('su', 21),\n",
       " ('ta', 21),\n",
       " ('uol', 21),\n",
       " ('ver', 21),\n",
       " ('21', 20),\n",
       " ('adota', 20),\n",
       " ('afirma', 20),\n",
       " ('d', 20),\n",
       " ('doses', 20),\n",
       " ('festa', 20),\n",
       " ('fica', 20),\n",
       " ('ipatinga', 20),\n",
       " ('norte', 20),\n",
       " ('vacina', 20),\n",
       " ('agora', 19),\n",
       " ('ajuda', 19),\n",
       " ('apresenta', 19),\n",
       " ('consegue', 19),\n",
       " ('detido', 19),\n",
       " ('envolvimento', 19),\n",
       " ('hoje', 19),\n",
       " ('internacional', 19),\n",
       " ('mal', 19),\n",
       " ('municoes', 19),\n",
       " ('novos', 19),\n",
       " ('pessoas', 19),\n",
       " ('policiais', 19),\n",
       " ('prevencao', 19),\n",
       " ('recuperar', 19),\n",
       " ('surto', 19),\n",
       " ('todos', 19),\n",
       " ('vao', 19),\n",
       " ('aecio', 18),\n",
       " ('bloqueio', 18),\n",
       " ('cara', 18),\n",
       " ('dio', 18),\n",
       " ('dupla', 18),\n",
       " ('ese', 18),\n",
       " ('gente', 18),\n",
       " ('interior', 18),\n",
       " ('maconha', 18),\n",
       " ('mas', 18),\n",
       " ('n', 18),\n",
       " ('neves', 18),\n",
       " ('ouro', 18),\n",
       " ('pode', 18),\n",
       " ('prendem', 18),\n",
       " ('realiza', 18),\n",
       " ('sul', 18),\n",
       " ('tentativa', 18),\n",
       " ('veiculo', 18),\n",
       " ('contas', 17),\n",
       " ('jornal', 17),\n",
       " ('mortos', 17),\n",
       " ('prefeito', 17),\n",
       " ('publica', 17),\n",
       " ('reis', 17),\n",
       " ('santa', 17),\n",
       " ('servidores', 17),\n",
       " ('sete', 17),\n",
       " ('suspeita', 17),\n",
       " ('tudo', 17),\n",
       " ('video', 17),\n",
       " ('acao', 16),\n",
       " ('assim', 16),\n",
       " ('camara', 16),\n",
       " ('cidade', 16),\n",
       " ('jovens', 16),\n",
       " ('maia', 16),\n",
       " ('mulher', 16),\n",
       " ('numero', 16),\n",
       " ('patos', 16),\n",
       " ('porque', 16),\n",
       " ('reveillon', 16),\n",
       " ('saiba', 16),\n",
       " ('sp', 16),\n",
       " ('violencia', 16),\n",
       " ('500', 15),\n",
       " ('cadeia', 15),\n",
       " ('contagem', 15),\n",
       " ('decreta', 15),\n",
       " ('deixa', 15),\n",
       " ('escola', 15),\n",
       " ('foto', 15),\n",
       " ('gasta', 15),\n",
       " ('investiga', 15),\n",
       " ('joao', 15),\n",
       " ('outro', 15),\n",
       " ('patrimonio', 15),\n",
       " ('roraima', 15),\n",
       " ('stf', 15),\n",
       " ('usa', 15),\n",
       " ('bem', 14),\n",
       " ('boa', 14),\n",
       " ('by', 14),\n",
       " ('da', 14),\n",
       " ('divinopolis', 14),\n",
       " ('imaterial', 14),\n",
       " ('intensificada', 14),\n",
       " ('maduro', 14),\n",
       " ('mariana', 14),\n",
       " ('morte', 14),\n",
       " ('mortes', 14),\n",
       " ('nomeia', 14),\n",
       " ('professores', 14),\n",
       " ('regiao', 14),\n",
       " ('transito', 14),\n",
       " ('vagas', 14),\n",
       " ('vc', 14),\n",
       " ('vergonha', 14),\n",
       " ('voos', 14),\n",
       " ('100', 13),\n",
       " ('apreendidos', 13),\n",
       " ('atencao', 13),\n",
       " ('c', 13),\n",
       " ('capa', 13),\n",
       " ('centro', 13),\n",
       " ('comprar', 13),\n",
       " ('corrupcao', 13),\n",
       " ('detidos', 13),\n",
       " ('estacionamento', 13),\n",
       " ('expulsa', 13),\n",
       " ('faccoes', 13),\n",
       " ('familia', 13),\n",
       " ('feira', 13),\n",
       " ('ha', 13),\n",
       " ('hablo', 13),\n",
       " ('jose', 13),\n",
       " ('lei', 13),\n",
       " ('mineiros', 13),\n",
       " ('ministro', 13),\n",
       " ('outros', 13),\n",
       " ('patrocinio', 13),\n",
       " ('rede', 13),\n",
       " ('seletivo', 13),\n",
       " ('sus', 13),\n",
       " ('tiene', 13),\n",
       " ('yo', 13),\n",
       " ('401', 12),\n",
       " ('ai', 12),\n",
       " ('alunos', 12),\n",
       " ('auxilio', 12),\n",
       " ('cada', 12),\n",
       " ('campanha', 12),\n",
       " ('carro', 12),\n",
       " ('celular', 12),\n",
       " ('cinco', 12),\n",
       " ('cunha', 12),\n",
       " ('decretou', 12),\n",
       " ('designacao', 12),\n",
       " ('desta', 12),\n",
       " ('detentos', 12),\n",
       " ('fb', 12),\n",
       " ('grupo', 12),\n",
       " ('historia', 12),\n",
       " ('leia', 12),\n",
       " ('neste', 12),\n",
       " ('noticia', 12),\n",
       " ('nunca', 12),\n",
       " ('oficial', 12),\n",
       " ('para', 12),\n",
       " ('pede', 12),\n",
       " ('polemica', 12),\n",
       " ('pq', 12),\n",
       " ('psdb', 12),\n",
       " ('quatro', 12),\n",
       " ('reuniao', 12),\n",
       " ('rs', 12),\n",
       " ('tiro', 12),\n",
       " ('trump', 12),\n",
       " ('unai', 12),\n",
       " ('6', 11),\n",
       " ('adolescente', 11),\n",
       " ('adolescentes', 11),\n",
       " ('apoio', 11),\n",
       " ('bandidos', 11),\n",
       " ('br', 11),\n",
       " ('celulares', 11),\n",
       " ('crime', 11),\n",
       " ('dados', 11),\n",
       " ('dar', 11),\n",
       " ('defesa', 11),\n",
       " ('dentro', 11),\n",
       " ('desse', 11),\n",
       " ('deste', 11),\n",
       " ('em_com', 11),\n",
       " ('exemplo', 11),\n",
       " ('folias', 11),\n",
       " ('he', 11),\n",
       " ('lugar', 11),\n",
       " ('malaria', 11),\n",
       " ('mantem', 11),\n",
       " ('meio', 11),\n",
       " ('ministerio', 11),\n",
       " ('mundo', 11),\n",
       " ('ni', 11),\n",
       " ('paga', 11),\n",
       " ('pagar', 11),\n",
       " ('pedro', 11),\n",
       " ('poe', 11),\n",
       " ('portugal', 11),\n",
       " ('preto', 11),\n",
       " ('profissionais', 11),\n",
       " ('retweeted', 11),\n",
       " ('s', 11),\n",
       " ('sistema', 11),\n",
       " ('trabalho', 11),\n",
       " ('transporte', 11),\n",
       " ('trio', 11),\n",
       " ('veja', 11),\n",
       " ('0', 10),\n",
       " ('01', 10),\n",
       " ('12', 10),\n",
       " ('14', 10),\n",
       " ('33', 10),\n",
       " ('7', 10),\n",
       " ('agentes', 10),\n",
       " ('agricultores', 10),\n",
       " ('alerta', 10),\n",
       " ('atendimento', 10),\n",
       " ('brasilia', 10),\n",
       " ('busca', 10),\n",
       " ('cargo', 10),\n",
       " ('chega', 10),\n",
       " ('comeca', 10),\n",
       " ('construcao', 10),\n",
       " ('deve', 10),\n",
       " ('dezembro', 10),\n",
       " ('ensino', 10),\n",
       " ('envia', 10),\n",
       " ('eso', 10),\n",
       " ('estar', 10),\n",
       " ('eua', 10),\n",
       " ('fazer', 10),\n",
       " ('fim', 10),\n",
       " ('flagrado', 10),\n",
       " ('fuga', 10),\n",
       " ('funk', 10),\n",
       " ('homicidio', 10),\n",
       " ('impede', 10),\n",
       " ('januaria', 10),\n",
       " ('lagoa', 10),\n",
       " ('luzia', 10),\n",
       " ('mineiro', 10),\n",
       " ('nada', 10),\n",
       " ('noticias', 10),\n",
       " ('pagamento', 10),\n",
       " ('pai', 10),\n",
       " ('parte', 10),\n",
       " ('partir', 10),\n",
       " ('plano', 10),\n",
       " ('policial', 10),\n",
       " ('pone', 10),\n",
       " ('professor', 10),\n",
       " ('puse', 10),\n",
       " ('rebeliao', 10),\n",
       " ('ribeirao', 10),\n",
       " ('situacao', 10),\n",
       " ('soares', 10),\n",
       " ('uberaba', 10),\n",
       " ('uniao', 10),\n",
       " ('veiculos', 10),\n",
       " ('verde', 10),\n",
       " ('vereador', 10),\n",
       " ('vez', 10),\n",
       " ('vida', 10),\n",
       " ('13', 9),\n",
       " ('200', 9),\n",
       " ('aeroporto', 9),\n",
       " ('amo', 9),\n",
       " ('asi', 9),\n",
       " ('atentado', 9),\n",
       " ('aumento', 9),\n",
       " ('bandido', 9),\n",
       " ('buenos', 9),\n",
       " ('carga', 9),\n",
       " ('caso', 9),\n",
       " ('chuva', 9),\n",
       " ('comprou', 9),\n",
       " ('coronel', 9),\n",
       " ('corpo', 9),\n",
       " ('corrupto', 9),\n",
       " ('custo', 9),\n",
       " ('dando', 9),\n",
       " ('di', 9),\n",
       " ('disputa', 9),\n",
       " ('distribui', 9),\n",
       " ('emergencia', 9),\n",
       " ('enquanto', 9),\n",
       " ('escolar', 9),\n",
       " ('estadual', 9),\n",
       " ('fazem', 9),\n",
       " ('htt', 9),\n",
       " ('iveco', 9),\n",
       " ('ja', 9),\n",
       " ('julio', 9),\n",
       " ('lula', 9),\n",
       " ('mao', 9),\n",
       " ('momento', 9),\n",
       " ('pc', 9),\n",
       " ('pena', 9),\n",
       " ('pero', 9),\n",
       " ('poder', 9),\n",
       " ('quantidade', 9),\n",
       " ('rapaz', 9),\n",
       " ('recupera', 9),\n",
       " ('salario', 9),\n",
       " ('segunda', 9),\n",
       " ('segundo', 9),\n",
       " ('semana', 9),\n",
       " ('ses', 9),\n",
       " ('shopping', 9),\n",
       " ('sigilo', 9),\n",
       " ('sim', 9),\n",
       " ('sin', 9),\n",
       " ('sucesso', 9),\n",
       " ('tarde', 9),\n",
       " ('tentar', 9),\n",
       " ('todas', 9),\n",
       " ('usou', 9),\n",
       " ('vacinar', 9),\n",
       " ('varginha', 9),\n",
       " ('ya', 9),\n",
       " ('000', 8),\n",
       " ('117', 8),\n",
       " ('16', 8),\n",
       " ('22', 8),\n",
       " ('9', 8),\n",
       " ('absurdo', 8),\n",
       " ('acaba', 8),\n",
       " ('acidente', 8),\n",
       " ('amanha', 8),\n",
       " ('amazonas', 8),\n",
       " ('amigo', 8),\n",
       " ('amigos', 8),\n",
       " ('amplia', 8),\n",
       " ('antes', 8),\n",
       " ('baile', 8),\n",
       " ('cargas', 8),\n",
       " ('comprando', 8),\n",
       " ('confirma', 8),\n",
       " ('continua', 8),\n",
       " ('convoca', 8),\n",
       " ('cultura', 8),\n",
       " ('decretar', 8),\n",
       " ('denuncia', 8),\n",
       " ('diamantina', 8),\n",
       " ('direito', 8),\n",
       " ('domingo', 8),\n",
       " ('donde', 8),\n",
       " ('doria', 8),\n",
       " ('escolares', 8),\n",
       " ('esperanca', 8),\n",
       " ('espirito', 8),\n",
       " ('estaduais', 8),\n",
       " ('fabriciano', 8),\n",
       " ('falta', 8),\n",
       " ('familiares', 8),\n",
       " ('farc', 8),\n",
       " ('fazenda', 8),\n",
       " ('ferias', 8),\n",
       " ('fez', 8),\n",
       " ('folha', 8),\n",
       " ('gestao', 8),\n",
       " ('globo', 8),\n",
       " ('golpe', 8),\n",
       " ('gov', 8),\n",
       " ('ht', 8),\n",
       " ('igual', 8),\n",
       " ('ilicito', 8),\n",
       " ('impedida', 8),\n",
       " ('inicio', 8),\n",
       " ('jaja', 8),\n",
       " ('kalil', 8),\n",
       " ('loja', 8),\n",
       " ('marco', 8),\n",
       " ('mario', 8),\n",
       " ('menores', 8),\n",
       " ('mes', 8),\n",
       " ('mexico', 8),\n",
       " ('mina', 8),\n",
       " ('morre', 8),\n",
       " ('morrem', 8),\n",
       " ('motoristas', 8),\n",
       " ('mudancas', 8),\n",
       " ('municipal', 8),\n",
       " ('municipio', 8),\n",
       " ('nesta', 8),\n",
       " ('nome', 8),\n",
       " ('obras', 8),\n",
       " ('olha', 8),\n",
       " ('onda', 8),\n",
       " ('onde', 8),\n",
       " ('pau', 8),\n",
       " ('pcc', 8),\n",
       " ('penitenciaria', 8),\n",
       " ('pilantrel', 8),\n",
       " ('pirapora', 8),\n",
       " ('pocos', 8),\n",
       " ('ponen', 8),\n",
       " ('posto', 8),\n",
       " ('prefeitos', 8),\n",
       " ('problema', 8),\n",
       " ('programa', 8),\n",
       " ('puso', 8),\n",
       " ('quadrilha', 8),\n",
       " ('queda', 8),\n",
       " ('reforma', 8),\n",
       " ('regulamenta', 8),\n",
       " ('rei', 8),\n",
       " ('residencia', 8),\n",
       " ('sabado', 8),\n",
       " ('saber', 8),\n",
       " ('salarios', 8),\n",
       " ('sendo', 8),\n",
       " ('sinteticas', 8),\n",
       " ('terca', 8),\n",
       " ('trabalham', 8),\n",
       " ('tratar', 8),\n",
       " ('vale', 8),\n",
       " ('vcs', 8),\n",
       " ('vereadores', 8),\n",
       " ('viaturas', 8),\n",
       " ('vice', 8),\n",
       " ('15', 7),\n",
       " ('18', 7),\n",
       " ('20', 7),\n",
       " ('23', 7),\n",
       " ('25', 7),\n",
       " ('30', 7),\n",
       " ('acordo', 7),\n",
       " ('am', 7),\n",
       " ('ambiental', 7),\n",
       " ('amor', 7),\n",
       " ('assalto', 7),\n",
       " ('aumenta', 7),\n",
       " ('azul', 7),\n",
       " ('balada', 7),\n",
       " ('betim', 7),\n",
       " ('brasileiro', 7),\n",
       " ('cachoeira', 7),\n",
       " ('confira', 7),\n",
       " ('cultural', 7),\n",
       " ('cursos', 7),\n",
       " ('de', 7),\n",
       " ('declinio', 7),\n",
       " ('deputado', 7),\n",
       " ('deveria', 7),\n",
       " ('divida', 7),\n",
       " ('duas', 7),\n",
       " ('eduardo', 7),\n",
       " ('eh', 7),\n",
       " ('encontra', 7),\n",
       " ('fala', 7),\n",
       " ('favor', 7),\n",
       " ('fundacao', 7),\n",
       " ('fundo', 7),\n",
       " ('goias', 7),\n",
       " ('gostou', 7),\n",
       " ('hablar', 7),\n",
       " ('identifica', 7),\n",
       " ('ind', 7),\n",
       " ('infantil', 7),\n",
       " ('internet', 7),\n",
       " ('jajajaja', 7),\n",
       " ('lagoas', 7),\n",
       " ('lixo', 7),\n",
       " ('llega', 7),\n",
       " ('manha', 7),\n",
       " ('medidas', 7),\n",
       " ('mim', 7),\n",
       " ('mira', 7),\n",
       " ('mora', 7),\n",
       " ('motorista', 7),\n",
       " ('muriae', 7),\n",
       " ('nao', 7),\n",
       " ('ne', 7),\n",
       " ('nota', 7),\n",
       " ('novas', 7),\n",
       " ('novembro', 7),\n",
       " ('paracatu', 7),\n",
       " ('partido', 7),\n",
       " ('passagem', 7),\n",
       " ('pe', 7),\n",
       " ('pedem', 7),\n",
       " ('pinheiro', 7),\n",
       " ('pompeu', 7),\n",
       " ('posse', 7),\n",
       " ('preve', 7),\n",
       " ('primeira', 7),\n",
       " ('produto', 7),\n",
       " ('quase', 7),\n",
       " ('quebrado', 7),\n",
       " ('quebrou', 7),\n",
       " ('querer', 7),\n",
       " ('reage', 7),\n",
       " ('receber', 7),\n",
       " ('reconhece', 7),\n",
       " ('reforco', 7),\n",
       " ('registra', 7),\n",
       " ('retomada', 7),\n",
       " ('segue', 7),\n",
       " ('seis', 7),\n",
       " ('serrana', 7),\n",
       " ('sociais', 7),\n",
       " ('son', 7),\n",
       " ('suspende', 7),\n",
       " ('tarifa', 7),\n",
       " ('tem', 7),\n",
       " ('tempo', 7),\n",
       " ('tipo', 7),\n",
       " ('tiroteio', 7),\n",
       " ('travam', 7),\n",
       " ('ufjf', 7),\n",
       " ('volta', 7),\n",
       " ('voy', 7),\n",
       " ('11', 6),\n",
       " ('1a', 6),\n",
       " ('27', 6),\n",
       " ('353', 6),\n",
       " ('628', 6),\n",
       " ('7o', 6),\n",
       " ('90', 6),\n",
       " ('agencia', 6),\n",
       " ('ahora', 6),\n",
       " ('ajudar', 6),\n",
       " ('alckmin', 6),\n",
       " ('alegre', 6),\n",
       " ('alemanha', 6),\n",
       " ('alias', 6),\n",
       " ('animo', 6),\n",
       " ('areas', 6),\n",
       " ('bar', 6),\n",
       " ('beneficiara', 6),\n",
       " ('bi', 6),\n",
       " ('bilhoes', 6),\n",
       " ('cabo', 6),\n",
       " ('caes', 6),\n",
       " ('cai', 6),\n",
       " ('capital', 6),\n",
       " ('carceraria', 6),\n",
       " ('cargos', 6),\n",
       " ('carmen', 6),\n",
       " ('carmo', 6),\n",
       " ('carnaval', 6),\n",
       " ('caro', 6),\n",
       " ('carregado', 6),\n",
       " ('centros', 6),\n",
       " ('clube', 6),\n",
       " ('comando', 6),\n",
       " ('combate', 6),\n",
       " ('convenio', 6),\n",
       " ('correios', 6),\n",
       " ('crack', 6),\n",
       " ('criado', 6),\n",
       " ('defende', 6),\n",
       " ('deixar', 6),\n",
       " ('democracia', 6),\n",
       " ('deputados', 6),\n",
       " ('desastre', 6),\n",
       " ('descanso', 6),\n",
       " ('dessa', 6),\n",
       " ('detran', 6),\n",
       " ('dilma', 6),\n",
       " ('discutem', 6),\n",
       " ('distrito', 6),\n",
       " ('eleicao', 6),\n",
       " ('emprego', 6),\n",
       " ('empresas', 6),\n",
       " ('encontrado', 6),\n",
       " ('encontram', 6),\n",
       " ('equipe', 6),\n",
       " ('esa', 6),\n",
       " ('estoy', 6),\n",
       " ('facebook', 6),\n",
       " ('falar', 6),\n",
       " ('fazendo', 6),\n",
       " ('folia', 6),\n",
       " ('garantir', 6),\n",
       " ('gastos', 6),\n",
       " ('grandes', 6),\n",
       " ('gratuidade', 6),\n",
       " ('hace', 6),\n",
       " ('hora', 6),\n",
       " ('hoy', 6),\n",
       " ('imprensa', 6),\n",
       " ('investigacao', 6),\n",
       " ('ipva', 6),\n",
       " ('jato', 6),\n",
       " ('lava', 6),\n",
       " ('logo', 6),\n",
       " ('mae', 6),\n",
       " ('marca', 6),\n",
       " ('material', 6),\n",
       " ('mental', 6),\n",
       " ('merece', 6),\n",
       " ('morreu', 6),\n",
       " ('morto', 6),\n",
       " ('movel', 6),\n",
       " ('msm', 6),\n",
       " ('muy', 6),\n",
       " ('oeste', 6),\n",
       " ('oscs', 6),\n",
       " ('outras', 6),\n",
       " ('pacientes', 6),\n",
       " ('pagou', 6),\n",
       " ('perto', 6),\n",
       " ('pmdb', 6),\n",
       " ('ppp', 6),\n",
       " ('primeiro', 6),\n",
       " ('projeto', 6),\n",
       " ('proxima', 6),\n",
       " ('proximo', 6),\n",
       " ('quarto', 6),\n",
       " ('quero', 6),\n",
       " ('re', 6),\n",
       " ('realizada', 6),\n",
       " ('recebem', 6),\n",
       " ('recebia', 6),\n",
       " ('recuperam', 6),\n",
       " ('redes', 6),\n",
       " ('reforca', 6),\n",
       " ('reforcar', 6),\n",
       " ('regulatorio', 6),\n",
       " ('risco', 6),\n",
       " ('rua', 6),\n",
       " ('sabara', 6),\n",
       " ('sabe', 6),\n",
       " ('sexual', 6),\n",
       " ('sorveteria', 6),\n",
       " ('tanto', 6),\n",
       " ('tao', 6),\n",
       " ('tatico', 6),\n",
       " ('to', 6),\n",
       " ('universidade', 6),\n",
       " ('valores', 6),\n",
       " ('vamos', 6),\n",
       " ('vi', 6),\n",
       " ('vicosa', 6),\n",
       " ('visita', 6),\n",
       " ('vivo', 6),\n",
       " ('vou', 6),\n",
       " ('08', 5),\n",
       " ('16a', 5),\n",
       " ('26', 5),\n",
       " ('2o', 5),\n",
       " ('308', 5),\n",
       " ('60obpm', 5),\n",
       " ('80', 5),\n",
       " ('92', 5),\n",
       " ('abuso', 5),\n",
       " ('acha', 5),\n",
       " ('aco', 5),\n",
       " ('algo', 5),\n",
       " ('alvos', 5),\n",
       " ('amamentacao', 5),\n",
       " ('ambulancias', 5),\n",
       " ('americano', 5),\n",
       " ('apesar', 5),\n",
       " ('aproximadamente', 5),\n",
       " ('aterro', 5),\n",
       " ('atletico', 5),\n",
       " ('atual', 5),\n",
       " ('aumentar', 5),\n",
       " ('b', 5),\n",
       " ('baleado', 5),\n",
       " ('barra', 5),\n",
       " ('basta', 5),\n",
       " ('brazil', 5),\n",
       " ('bueno', 5),\n",
       " ('cade', 5),\n",
       " ('caderno', 5),\n",
       " ('caldas', 5),\n",
       " ('caminhao', 5),\n",
       " ('caminhoneiro', 5),\n",
       " ('campo', 5),\n",
       " ('caratinga', 5),\n",
       " ('cavalo', 5),\n",
       " ('cidades', 5),\n",
       " ('codevasf', 5),\n",
       " ('completa', 5),\n",
       " ('completo', 5),\n",
       " ('condenado', 5),\n",
       " ('consciencia', 5),\n",
       " ('contratacao', 5),\n",
       " ('cooperacao', 5),\n",
       " ('corrego', 5),\n",
       " ('corrida', 5),\n",
       " ('criminosos', 5),\n",
       " ('criou', 5),\n",
       " ('cualquier', 5),\n",
       " ('cuando', 5),\n",
       " ('custaram', 5),\n",
       " ('dan', 5),\n",
       " ('demais', 5),\n",
       " ('desde', 5),\n",
       " ('desenvolvimento', 5),\n",
       " ('designados', 5),\n",
       " ('despues', 5),\n",
       " ('destaque', 5),\n",
       " ('deus', 5),\n",
       " ('dieron', 5),\n",
       " ('discutir', 5),\n",
       " ('divulga', 5),\n",
       " ('dobrar', 5),\n",
       " ('doenca', 5),\n",
       " ('dono', 5),\n",
       " ('edicao', 5),\n",
       " ('edital', 5),\n",
       " ('empresa', 5),\n",
       " ('encima', 5),\n",
       " ('entao', 5),\n",
       " ('esas', 5),\n",
       " ('escarnio', 5),\n",
       " ('estacoes', 5),\n",
       " ('estudo', 5),\n",
       " ('existe', 5),\n",
       " ('faccao', 5),\n",
       " ('falida', 5),\n",
       " ('falido', 5),\n",
       " ('fato', 5),\n",
       " ('fecha', 5),\n",
       " ('feita', 5),\n",
       " ('feito', 5),\n",
       " ('ferido', 5),\n",
       " ('fevereiro', 5),\n",
       " ('ficam', 5),\n",
       " ('ficar', 5),\n",
       " ('fino', 5),\n",
       " ('forjar', 5),\n",
       " ('forma', 5),\n",
       " ('formiga', 5),\n",
       " ('fotos', 5),\n",
       " ('francisco', 5),\n",
       " ('frente', 5),\n",
       " ('funcionamento', 5),\n",
       " ('gepar', 5),\n",
       " ('grave', 5),\n",
       " ('haber', 5),\n",
       " ('han', 5),\n",
       " ('havera', 5),\n",
       " ('hay', 5),\n",
       " ('idade', 5),\n",
       " ('ilegal', 5),\n",
       " ('infratores', 5),\n",
       " ('inocente', 5),\n",
       " ('instagram', 5),\n",
       " ('instituicao', 5),\n",
       " ('integrantes', 5),\n",
       " ('istoe', 5),\n",
       " ('ituiutaba', 5),\n",
       " ('jardim', 5),\n",
       " ('kg', 5),\n",
       " ('ladroes', 5),\n",
       " ('legal', 5),\n",
       " ('les', 5),\n",
       " ('leva', 5),\n",
       " ('levar', 5),\n",
       " ('liminar', 5),\n",
       " ('lourenco', 5),\n",
       " ('macacos', 5),\n",
       " ('mandou', 5),\n",
       " ('maria', 5),\n",
       " ('matar', 5),\n",
       " ('mato', 5),\n",
       " ('matou', 5),\n",
       " ('mercado', 5),\n",
       " ('min', 5),\n",
       " ('mis', 5),\n",
       " ('moraes', 5),\n",
       " ('mostra', 5),\n",
       " ('mutirao', 5),\n",
       " ('nadie', 5),\n",
       " ('nega', 5),\n",
       " ('nesse', 5),\n",
       " ('noite', 5),\n",
       " ('oferta', 5),\n",
       " ('oms', 5),\n",
       " ('onu', 5),\n",
       " ('organizado', 5),\n",
       " ('otro', 5),\n",
       " ('papai', 5),\n",
       " ('penitenciarios', 5),\n",
       " ('periodo', 5),\n",
       " ('personas', 5),\n",
       " ('pes', 5),\n",
       " ('pistola', 5),\n",
       " ('pmmg', 5),\n",
       " ('pongo', 5),\n",
       " ('populacao', 5),\n",
       " ('prata', 5),\n",
       " ('prazo', 5),\n",
       " ('preco', 5),\n",
       " ('preocupante', 5),\n",
       " ('prepara', 5),\n",
       " ('previdencia', 5),\n",
       " ('prisional', 5),\n",
       " ('prisoes', 5),\n",
       " ('pro', 5),\n",
       " ('propostas', 5),\n",
       " ('provoca', 5),\n",
       " ('publicas', 5),\n",
       " ('que', 5),\n",
       " ('radio', 5),\n",
       " ('recuperado', 5),\n",
       " ('restituicao', 5),\n",
       " ('rodoviario', 5),\n",
       " ('roubos', 5),\n",
       " ...]"
      ]
     },
     "execution_count": 199,
     "metadata": {},
     "output_type": "execute_result"
    }
   ],
   "source": [
    "bow.get_topn()"
   ]
  },
  {
   "cell_type": "code",
   "execution_count": 208,
   "metadata": {},
   "outputs": [
    {
     "data": {
      "text/plain": [
       "array([[0, 0, 0, 0, 0, 0, 0, 0, 0, 0, 0, 0, 0, 0, 0, 0, 0, 0, 0, 0, 0, 0,\n",
       "        0, 0, 0, 0, 0, 0, 0, 0, 0, 0, 0, 0, 0, 0, 0, 0, 0, 0, 0, 0, 0, 0,\n",
       "        0, 0, 0, 0, 0, 0, 0, 0, 0, 0, 0, 0, 0, 0, 0, 0, 0, 0, 0, 0, 0, 0,\n",
       "        0, 0, 0, 0, 0, 0, 0, 0, 0, 0, 0, 0, 0, 0, 0, 0, 0, 0, 0, 0, 0, 0,\n",
       "        0, 0, 0, 0, 0, 0, 0, 0, 0, 0, 0, 0, 0, 0, 0, 0, 0, 0, 0, 0, 0, 0,\n",
       "        0, 0, 0, 0, 0, 0, 0, 0, 0, 0, 0, 0, 0, 0, 0, 0, 0, 0, 0, 0, 0, 0,\n",
       "        0, 0, 0, 0, 0, 0, 0, 0, 0, 0, 0, 0, 0, 0, 0, 0, 0, 0, 0, 0, 0, 0,\n",
       "        0, 0, 0, 0, 0, 0, 0, 0, 0, 0, 0, 0, 0, 0, 0, 0, 0, 0, 0, 0, 0, 0,\n",
       "        0, 0, 0, 0, 0, 0, 0, 0, 0, 0, 0, 0, 0, 0, 0, 0, 0, 0, 0, 0, 0, 0,\n",
       "        0, 0, 0, 0, 0, 0, 0, 0, 0, 0, 0, 0, 0, 0, 0, 0, 0, 0, 0, 0, 0, 0,\n",
       "        0, 0, 0, 0, 0, 0, 0, 0, 0, 0, 0, 0, 0, 0, 0, 0, 0, 0, 0, 0, 0, 0,\n",
       "        0, 0, 0, 0, 0, 0, 0, 0, 0, 0, 0, 0, 0, 0, 0, 0, 0, 0, 0, 0, 0, 0,\n",
       "        0, 0, 0, 0, 0, 0, 0, 0, 0, 0, 0, 0, 0, 0, 0, 0, 0, 0, 0, 0, 0, 0,\n",
       "        0, 0, 0, 0, 0, 0, 0, 0, 0, 0, 0, 0, 0, 0, 0, 0, 0, 0, 0, 0, 0, 0,\n",
       "        0, 0, 0, 0, 0, 0, 0, 0, 0, 0, 0, 0, 0, 0, 0, 0, 0, 0, 0, 0, 0, 0,\n",
       "        0, 0, 0, 0, 0, 0, 0, 0, 0, 0, 0, 0, 0, 0, 0, 0, 0, 0, 0, 0, 0, 0,\n",
       "        0, 0, 0, 0, 0, 0, 0, 0, 0, 0, 0, 0, 0, 0, 0, 0, 0, 0, 0, 0, 0, 0,\n",
       "        0, 0, 0, 0, 0, 0, 0, 0, 0, 0, 0, 0, 0, 0, 0, 0, 0, 0, 0, 0, 0, 0,\n",
       "        0, 0, 0, 0, 0, 0, 0, 0, 0, 0, 0, 0, 0, 0, 0, 0, 0, 0, 0, 0, 0, 0,\n",
       "        0, 0, 0, 0, 0, 0, 0, 0, 0, 0, 0, 0, 0, 0, 0, 0, 0, 0, 0, 0, 0, 0,\n",
       "        0, 0, 0, 0, 0, 0, 0, 0, 0, 0, 0, 0, 0, 0, 0, 0, 0, 0, 0, 0, 0, 0,\n",
       "        0, 0, 0, 0, 0, 0, 0, 0, 0, 0, 0, 0, 0, 0, 0, 0, 0, 0, 0, 0, 0, 0,\n",
       "        0, 0, 0, 0, 0, 0, 0, 0, 0, 0, 0, 0, 0, 0, 0, 0, 0, 0, 0, 0, 0, 0,\n",
       "        0, 0, 0, 0, 0, 0, 0, 0, 0, 0, 0, 0, 0, 0, 0, 0, 0, 0, 0, 0, 0, 0,\n",
       "        0, 0, 0, 0, 0, 0, 0, 0, 0, 0, 0, 0, 0, 0, 0, 0, 0, 0, 0, 0, 0, 0,\n",
       "        0, 0, 0, 0, 0, 0, 0, 0, 0, 0, 0, 0, 0, 0, 0, 0, 0, 0, 0, 0, 0, 0,\n",
       "        0, 0, 0, 0, 0, 0, 0, 0, 0, 0, 0, 0, 0, 0, 0, 0, 0, 0, 0, 0, 0, 0,\n",
       "        0, 0, 0, 0, 0, 0, 0, 0, 0, 0, 0, 0, 0, 0, 0, 0, 0, 0, 0, 0, 0, 0,\n",
       "        0, 0, 0, 0, 0, 0, 0, 0, 0, 0, 0, 0, 0, 0, 0, 0, 0, 0, 0, 0, 0, 0,\n",
       "        0, 0, 0, 0, 0, 0, 0, 0, 0, 0, 0, 0, 0, 0, 0, 0, 0, 0, 0, 0, 0, 0,\n",
       "        0, 0, 0, 0, 0, 0, 0, 0, 0, 0, 0, 0, 0, 0, 0, 0, 0, 0, 0, 0, 0, 0,\n",
       "        0, 0, 0, 0, 0, 0, 0, 0, 0, 0, 0, 0, 0, 0, 0, 0, 0, 0, 0, 0, 0, 0,\n",
       "        0, 0, 0, 0, 0, 0, 0, 0, 0, 0, 0, 0, 0, 0, 0, 0, 0, 0, 0, 0, 0, 0,\n",
       "        0, 0, 0, 0, 1, 0, 0, 0, 0, 0, 0, 0, 0, 0, 0, 0, 0, 0, 0, 0, 0, 0,\n",
       "        0, 0, 0, 0, 0, 0, 0, 0, 0, 0, 0, 0, 0, 0, 0, 0, 0, 0, 0, 0, 0, 0,\n",
       "        0, 0, 0, 0, 0, 0, 0, 0, 0, 0, 0, 0, 0, 0, 0, 0, 0, 0, 0, 0, 0, 0,\n",
       "        0, 0, 0, 0, 0, 0, 0, 0, 0, 0, 0, 0, 0, 0, 0, 0, 0, 0, 0, 0, 0, 0,\n",
       "        0, 0, 0, 0, 0, 0, 0, 0, 0, 0, 0, 0, 0, 0, 0, 0, 0, 0, 0, 0, 0, 0,\n",
       "        0, 0, 0, 0, 0, 0, 0, 0, 0, 0, 0, 0, 0, 0, 0, 0, 0, 0, 0, 0, 0, 0,\n",
       "        0, 0, 0, 0, 0, 0, 0, 0, 0, 0, 0, 0, 0, 0, 0, 0, 0, 0, 0, 0, 0, 0,\n",
       "        0, 0, 0, 0, 0, 0, 0, 0, 0, 0, 0, 0, 0, 0, 0, 0, 0, 0, 0, 0, 0, 0,\n",
       "        0, 0, 0, 0, 0, 0, 0, 0, 0, 0, 0, 0, 0, 0, 0, 0, 0, 0, 0, 0, 0, 0,\n",
       "        0, 0, 0, 0, 0, 0, 0, 0, 0, 0, 0, 0, 0, 0, 0, 0, 0, 0, 0, 0, 0, 0,\n",
       "        0, 0, 0, 0, 0, 0, 0, 0, 0, 0, 0, 0, 0, 0, 0, 0, 0, 0, 0, 0, 0, 0,\n",
       "        0, 0, 0, 0, 0, 0, 0, 0, 0, 0, 0, 0, 0, 0, 0, 0, 0, 0, 0, 0, 0, 0,\n",
       "        0, 0, 0, 0, 0, 0, 0, 0, 0, 0, 0, 0, 0, 0, 0, 0, 0, 0, 0, 0, 0, 0,\n",
       "        0, 0, 0, 0, 0, 0, 0, 0, 0, 0, 0, 0, 0, 0, 0, 0, 0, 0, 0, 0, 0, 0,\n",
       "        0, 0, 0, 0, 0, 0, 0, 0, 0, 0, 0, 0, 0, 0, 0, 0, 0, 0, 0, 0, 0, 0,\n",
       "        0, 0, 0, 0, 0, 0, 0, 0, 0, 0, 0, 0, 0, 0, 0, 0, 0, 0, 0, 0, 0, 0,\n",
       "        0, 0, 0, 0, 0, 0, 0, 0, 0, 0, 0, 0, 0, 0, 0, 0, 0, 0, 0, 0, 0, 0,\n",
       "        0, 0, 0, 0, 0, 0, 0, 0, 0, 0, 0, 0, 0, 0, 0, 0, 0, 0, 0, 0, 0, 0,\n",
       "        0, 0, 0, 0, 0, 0, 0, 0, 0, 0, 0, 0, 0, 0, 0, 0, 0, 0, 0, 0, 0, 0,\n",
       "        0, 0, 0, 0, 0, 0, 0, 0, 0, 0, 0, 0, 0, 0, 0, 0, 0, 0, 0, 0, 0, 0,\n",
       "        0, 0, 0, 0, 0, 0, 0, 0, 0, 0, 0, 0, 0, 0, 0, 0, 0, 0, 0, 0, 0, 0,\n",
       "        0, 0, 0, 0, 0, 0, 0, 0, 0, 0, 0, 0, 0, 0, 0, 0, 0, 0, 0, 0, 0, 0,\n",
       "        0, 0, 0, 0, 0, 0, 0, 0, 0, 0, 0, 0, 0, 0, 0, 0, 0, 0, 0, 0, 0, 0,\n",
       "        0, 0, 0, 0, 0, 0, 0, 0, 0, 0, 0, 0]])"
      ]
     },
     "execution_count": 208,
     "metadata": {},
     "output_type": "execute_result"
    }
   ],
   "source": [
    "# Imprimir a matriz de representação a palavra \"minas\"\n",
    "bow_negativa.transform('minas').toarray()"
   ]
  },
  {
   "cell_type": "markdown",
   "metadata": {},
   "source": [
    "## TF-IDF"
   ]
  },
  {
   "cell_type": "markdown",
   "metadata": {},
   "source": [
    "O TF-IDF(*term frequency–inverse document frequency*) é um fator de importância de uma palavra dentro do corpo de texto ou corpus linguístico. O fator de uma determinada palavra aumenta a medida que a frequência dela é maior.\n",
    "\n",
    "**Vantagems**:\n",
    "* É usado como base para muitos modelos\n",
    "* Modela a importância de cada palavras dentro do texto\n",
    "\n",
    "**Desvantagems**:\n",
    "* As mesmas do Bag of Words"
   ]
  },
  {
   "cell_type": "code",
   "execution_count": 209,
   "metadata": {},
   "outputs": [],
   "source": [
    "from sklearn.feature_extraction.text import TfidfVectorizer"
   ]
  },
  {
   "cell_type": "code",
   "execution_count": 210,
   "metadata": {},
   "outputs": [],
   "source": [
    "class Tfidf:\n",
    "    def __init__(self, documentos, ngram=1):\n",
    "        self.vectorizer = TfidfVectorizer(\n",
    "            analyzer=\"word\",\n",
    "            tokenizer=prep.tokenizador, \n",
    "            ngram_range=(ngram, ngram), \n",
    "            max_df=0.9, \n",
    "#             norm=None,\n",
    "            use_idf=True\n",
    "        )\n",
    "        self.corpus = self.vectorizer.fit_transform(documentos)\n",
    "        self.word_freq = None\n",
    "        \n",
    "    def get_topn(self, topn=100):\n",
    "        if not self.word_freq:\n",
    "            result = {}\n",
    "            for palavra, total in zip(self.vectorizer.get_feature_names(), sum(self.corpus.toarray())):\n",
    "                result[palavra] = total\n",
    "        else:\n",
    "            result = self.word_freq\n",
    "        return sorted(result.items(), key=lambda x: x[1], reverse=True)\n",
    "    \n",
    "    def transform(self, texto):\n",
    "        if type(texto) is str:\n",
    "            return self.vectorizer.transform([texto])\n",
    "        elif type(texto) is list:\n",
    "            return self.vectorizer.transform(texto)"
   ]
  },
  {
   "cell_type": "code",
   "execution_count": 211,
   "metadata": {},
   "outputs": [],
   "source": [
    "tfidf = Tfidf(df_tratado['Text tratado'].values, ngram=1)"
   ]
  },
  {
   "cell_type": "code",
   "execution_count": 212,
   "metadata": {
    "scrolled": true
   },
   "outputs": [
    {
     "data": {
      "text/plain": [
       "[('minas', 141.2686116567849),\n",
       " ('estado', 123.65789996381403),\n",
       " ('mg', 104.71587270147812),\n",
       " ('rt', 90.05501135809683),\n",
       " ('drogas', 79.72354168179108),\n",
       " ('gerais', 78.94444388045143),\n",
       " ('governo', 76.52453646889327),\n",
       " ('governador', 62.782044732399775),\n",
       " ('trafico', 43.40339054687168),\n",
       " ('pm', 41.872811074812965),\n",
       " ('roubo', 40.134579166262505),\n",
       " ('amarela', 40.055244271283634),\n",
       " ('febre', 40.055244271283634),\n",
       " ('helicopteros', 38.62256630977135),\n",
       " ('valadares', 37.22134852097469),\n",
       " ('policia', 37.03330399650605),\n",
       " ('pimentel', 36.95880243849609),\n",
       " ('preso', 35.33603565172994),\n",
       " ('dois', 34.19696118074897),\n",
       " ('contra', 31.572829650053745),\n",
       " ('prende', 31.249478564939576),\n",
       " ('calamidade', 31.14973695402672),\n",
       " ('apreende', 30.261433361087068),\n",
       " ('compra', 29.23791438537391),\n",
       " ('financeira', 28.51227697313363),\n",
       " ('politica', 27.656793542552858),\n",
       " ('in', 27.041882445269614),\n",
       " ('via', 26.1562790169652),\n",
       " ('new', 25.224140661985732),\n",
       " ('post', 25.224140661985732),\n",
       " ('presidio', 25.187580164131056),\n",
       " ('apos', 24.917625882828663),\n",
       " ('i', 24.693551712712676),\n",
       " ('m', 24.648643032481992),\n",
       " ('r', 24.23352187161043),\n",
       " ('presos', 24.169143342017037),\n",
       " ('at', 24.125781451615293),\n",
       " ('y', 24.100447792325756),\n",
       " ('brasil', 21.238555855543428),\n",
       " ('militar', 20.970623408727235),\n",
       " ('en', 20.12567374021153),\n",
       " ('nacional', 19.799522841243487),\n",
       " ('helicoptero', 19.782661786955778),\n",
       " ('anos', 19.278104467826413),\n",
       " ('le', 19.197993759485758),\n",
       " ('homem', 19.18903716387688),\n",
       " ('justica', 19.132242220732337),\n",
       " ('fernando', 19.07322160247895),\n",
       " ('el', 18.67206272358949),\n",
       " ('pt', 18.297926279191213),\n",
       " ('autores', 17.695872282200828),\n",
       " ('autor', 16.814248140192415),\n",
       " ('la', 16.475789076299467),\n",
       " ('sobre', 16.381150299901975),\n",
       " ('mi', 16.373069302809),\n",
       " ('tres', 16.158921999051287),\n",
       " ('filho', 16.022394408926232),\n",
       " ('suspeito', 15.958745836214984),\n",
       " ('2', 15.930660691826901),\n",
       " ('juiz', 15.774685216348534),\n",
       " ('bh', 15.764809815885627),\n",
       " ('recursos', 15.462103661688948),\n",
       " ('bb', 15.441790021637125),\n",
       " ('bairro', 15.31967315102082),\n",
       " ('armas', 15.280623674420443),\n",
       " ('menor', 15.094843584294193),\n",
       " ('suspeitos', 15.029447052513135),\n",
       " ('secretaria', 14.820833857470355),\n",
       " ('1', 14.809634277752428),\n",
       " ('un', 14.75839878925628),\n",
       " ('militares', 14.594253197907715),\n",
       " ('rio', 14.569656172823631),\n",
       " ('ser', 14.077383552509831),\n",
       " ('apreensao', 14.04755520968723),\n",
       " ('q', 13.967685319898113),\n",
       " ('vacinacao', 13.826637509316702),\n",
       " ('diz', 13.646858299219023),\n",
       " ('casos', 13.626467188506913),\n",
       " ('civil', 13.54431732639706),\n",
       " ('educacao', 13.327623817174702),\n",
       " ('novo', 13.322916342130911),\n",
       " ('conta', 13.256431633801894),\n",
       " ('avisa', 13.134603147804672),\n",
       " ('judiciais', 13.132871362482673),\n",
       " ('temer', 12.906303624948487),\n",
       " ('depositos', 12.48914457672151),\n",
       " ('2017', 12.46921955194161),\n",
       " ('saude', 12.35511018870008),\n",
       " ('pra', 12.349442421286543),\n",
       " ('dia', 12.177024858554864),\n",
       " ('milhoes', 12.140421552460667),\n",
       " ('arma', 11.971036683103957),\n",
       " ('belo', 11.741947138069007),\n",
       " ('onibus', 11.625270024411789),\n",
       " ('furto', 11.604790235569702),\n",
       " ('8', 11.514049669748674),\n",
       " ('judicial', 11.354241417460768),\n",
       " ('50', 11.201316328121209),\n",
       " ('horizonte', 11.160277234331527),\n",
       " ('municipios', 11.144483676927244),\n",
       " ('vai', 11.09560340589059),\n",
       " ('mil', 10.93446653576702),\n",
       " ('faz', 10.887841638505577),\n",
       " ('melhor', 10.788210817811715),\n",
       " ('presidios', 10.685003907492545),\n",
       " ('uberlandia', 10.643234348558876),\n",
       " ('prefeitura', 10.640872557519598),\n",
       " ('traficante', 10.622084073509994),\n",
       " ('privado', 10.349692452229174),\n",
       " ('seguranca', 10.306074404638636),\n",
       " ('presa', 10.304403530318059),\n",
       " ('homens', 10.273625651675378),\n",
       " ('claros', 10.217004908734648),\n",
       " ('montes', 10.217004908734648),\n",
       " ('prisao', 10.083479393272956),\n",
       " ('w', 10.053014470776748),\n",
       " ('crise', 10.02558683119806),\n",
       " ('recebe', 10.025232382043843),\n",
       " ('zona', 10.000719351223813),\n",
       " ('forca', 9.972478858604667),\n",
       " ('durante', 9.898129702342882),\n",
       " ('dinheiro', 9.828303701636505),\n",
       " ('rural', 9.740509946980499),\n",
       " ('bpm', 9.632189276341611),\n",
       " ('jovem', 9.618623196158127),\n",
       " ('5', 9.443409043709151),\n",
       " ('banco', 9.410320739778536),\n",
       " ('modelo', 9.219317147026288),\n",
       " ('los', 9.188719086239665),\n",
       " ('apreendido', 9.137743311397788),\n",
       " ('bom', 9.115147727479552),\n",
       " ('nova', 9.10088742676744),\n",
       " ('economia', 9.048802100305673),\n",
       " ('con', 9.00008657133567),\n",
       " ('fogo', 8.984452498108663),\n",
       " ('menos', 8.948408714099598),\n",
       " ('operacao', 8.841797306729678),\n",
       " ('presidente', 8.694094678170849),\n",
       " ('entrega', 8.655557231185641),\n",
       " ('rebelioes', 8.49665913170365),\n",
       " ('al', 8.44780355289251),\n",
       " ('buscar', 8.393167182420521),\n",
       " ('es', 8.367772250825148),\n",
       " ('anuncia', 8.365332588803106),\n",
       " ('del', 8.262092342886492),\n",
       " ('processo', 8.090369526448153),\n",
       " ('g1', 8.08939036953139),\n",
       " ('grande', 8.060800892306657),\n",
       " ('60', 8.026347695385391),\n",
       " ('cobra', 7.959957625513465),\n",
       " ('manaus', 7.926486823851931),\n",
       " ('todo', 7.913779595791267),\n",
       " ('petista', 7.863505126952235),\n",
       " ('maior', 7.850488699518563),\n",
       " ('aqui', 7.832193190461118),\n",
       " ('casa', 7.831573437686051),\n",
       " ('p', 7.816869793005707),\n",
       " ('acoes', 7.782813306168456),\n",
       " ('divisa', 7.7248892592694505),\n",
       " ('las', 7.639251868042431),\n",
       " ('massacre', 7.627782187781432),\n",
       " ('cia', 7.60122545528286),\n",
       " ('ainda', 7.549861352369215),\n",
       " ('uso', 7.5402947448612005),\n",
       " ('tt', 7.5028862879935865),\n",
       " ('abre', 7.452856972615064),\n",
       " ('vacinas', 7.438106779675188),\n",
       " ('ipatinga', 7.429478118389464),\n",
       " ('lo', 7.3388691345169645),\n",
       " ('envolvimento', 7.301065537848324),\n",
       " ('araxa', 7.2992858601222075),\n",
       " ('festa', 7.2107663564537905),\n",
       " ('dupla', 7.203863012561927),\n",
       " ('uol', 7.144530899010341),\n",
       " ('2016', 7.02791173390165),\n",
       " ('pais', 7.016875824329556),\n",
       " ('ex', 6.949318067874875),\n",
       " ('mata', 6.93794832912646),\n",
       " ('4', 6.908470701423003),\n",
       " ('21', 6.897037152562075),\n",
       " ('surto', 6.856389549173079),\n",
       " ('prevencao', 6.828323305979352),\n",
       " ('vacina', 6.797999287759562),\n",
       " ('apresenta', 6.784932811416974),\n",
       " ('municoes', 6.771883883688404),\n",
       " ('bilhao', 6.7673701987062005),\n",
       " ('apreendem', 6.722603082876949),\n",
       " ('povo', 6.688641034785409),\n",
       " ('afirma', 6.673176552633451),\n",
       " ('norte', 6.641467195606023),\n",
       " ('quer', 6.639086918801717),\n",
       " ('maconha', 6.633614249208316),\n",
       " ('tentativa', 6.631881878103442),\n",
       " ('dias', 6.612046118757987),\n",
       " ('doses', 6.6065866317058894),\n",
       " ('adota', 6.591723136781059),\n",
       " ('publico', 6.558673841794567),\n",
       " ('ouro', 6.558468276413958),\n",
       " ('estados', 6.553265056546827),\n",
       " ('3', 6.551084219528116),\n",
       " ('detido', 6.544403959611328),\n",
       " ('ajuda', 6.527482712222393),\n",
       " ('secretario', 6.521363700627877),\n",
       " ('si', 6.4897401453414725),\n",
       " ('prendem', 6.4804297901913825),\n",
       " ('ter', 6.459365941057883),\n",
       " ('ano', 6.429688351348239),\n",
       " ('paulo', 6.422664905358932),\n",
       " ('ta', 6.419079416673365),\n",
       " ('janeiro', 6.412559273068159),\n",
       " ('consegue', 6.375173208768806),\n",
       " ('recuperar', 6.3682575010015094),\n",
       " ('veiculo', 6.360455608669492),\n",
       " ('rj', 6.357336386389879),\n",
       " ('novos', 6.356462494424852),\n",
       " ('gasta', 6.331952745473494),\n",
       " ('interior', 6.320868052440078),\n",
       " ('federal', 6.307564493280369),\n",
       " ('10', 6.3074735766347265),\n",
       " ('vergonha', 6.276632953441229),\n",
       " ('bloqueio', 6.269515054783722),\n",
       " ('fica', 6.2627278527586085),\n",
       " ('realiza', 6.241636894120867),\n",
       " ('patos', 6.179320004530545),\n",
       " ('dio', 6.17126817074169),\n",
       " ('sete', 6.1511107539970284),\n",
       " ('sul', 6.149332435289379),\n",
       " ('hoje', 6.071371384075071),\n",
       " ('decreta', 6.057862133107638),\n",
       " ('pessoas', 6.055190693767802),\n",
       " ('policiais', 6.051190837976194),\n",
       " ('investiga', 5.9162317958152455),\n",
       " ('jovens', 5.89632796829194),\n",
       " ('vao', 5.887167671723181),\n",
       " ('violencia', 5.8682549268715425),\n",
       " ('agora', 5.864923496212326),\n",
       " ('santa', 5.862412225930886),\n",
       " ('contagem', 5.837397263770017),\n",
       " ('reis', 5.80463451809145),\n",
       " ('servidores', 5.7880880753792106),\n",
       " ('suspeita', 5.72981943221138),\n",
       " ('apreendidos', 5.710314916956267),\n",
       " ('divinopolis', 5.662445841948143),\n",
       " ('unai', 5.638628483521517),\n",
       " ('cara', 5.589321308703935),\n",
       " ('neves', 5.586282437399682),\n",
       " ('mulher', 5.57146133135396),\n",
       " ('cidade', 5.555384429799933),\n",
       " ('gente', 5.53273529078015),\n",
       " ('internacional', 5.53090572396723),\n",
       " ('reveillon', 5.50866052116847),\n",
       " ('prefeito', 5.495629396080918),\n",
       " ('intensificada', 5.458244177935617),\n",
       " ('usa', 5.399122315860134),\n",
       " ('tudo', 5.395058814211624),\n",
       " ('auxilio', 5.39017522904627),\n",
       " ('mariana', 5.3832662513585365),\n",
       " ('su', 5.325389971058076),\n",
       " ('aecio', 5.315098027626376),\n",
       " ('acao', 5.301200353856895),\n",
       " ('by', 5.300053747853647),\n",
       " ('mortos', 5.259723164478904),\n",
       " ('publica', 5.192138704618411),\n",
       " ('patrocinio', 5.184139262031356),\n",
       " ('patrimonio', 5.161328128280863),\n",
       " ('ese', 5.146397502562845),\n",
       " ('pode', 5.137887777188294),\n",
       " ('contas', 5.1163350406613475),\n",
       " ('deixa', 5.105609564088459),\n",
       " ('roraima', 5.071143552323092),\n",
       " ('outro', 5.034387088755226),\n",
       " ('una', 5.0290204631295135),\n",
       " ('maia', 5.020871013878609),\n",
       " ('video', 5.009805457402922),\n",
       " ('mal', 5.008936048206882),\n",
       " ('saiba', 5.001425750164911),\n",
       " ('detidos', 4.980160732606654),\n",
       " ('da', 4.963056618514704),\n",
       " ('mortes', 4.954321252528705),\n",
       " ('numero', 4.939213600517269),\n",
       " ('capa', 4.937875804169445),\n",
       " ('ver', 4.932849616899031),\n",
       " ('professores', 4.931727667734007),\n",
       " ('adolescente', 4.913733287847854),\n",
       " ('imaterial', 4.9029437471592905),\n",
       " ('morte', 4.894721644009661),\n",
       " ('500', 4.862392855684798),\n",
       " ('jornal', 4.845028831478347),\n",
       " ('vc', 4.8400108495847585),\n",
       " ('seletivo', 4.788981685663907),\n",
       " ('cadeia', 4.788162525519639),\n",
       " ('camara', 4.774755414533202),\n",
       " ('voos', 4.767117865849742),\n",
       " ('todos', 4.755865062825002),\n",
       " ('assim', 4.750085299345096),\n",
       " ('stf', 4.745737855024446),\n",
       " ('familia', 4.736428006571432),\n",
       " ('comprar', 4.733685094898337),\n",
       " ('quatro', 4.725767471469654),\n",
       " ('joao', 4.7247194959340035),\n",
       " ('atencao', 4.720417082878713),\n",
       " ('regiao', 4.699286721487198),\n",
       " ('nomeia', 4.698609542135181),\n",
       " ('expulsa', 4.689089213287272),\n",
       " ('n', 4.685348907498515),\n",
       " ('celular', 4.682066714103789),\n",
       " ('campanha', 4.672189310647744),\n",
       " ('d', 4.6616007611036565),\n",
       " ('transito', 4.6563312570617885),\n",
       " ('sus', 4.642585784559992),\n",
       " ('bem', 4.629405088724093),\n",
       " ('malaria', 4.604228636667533),\n",
       " ('polemica', 4.56279701329637),\n",
       " ('corrupcao', 4.554467634101637),\n",
       " ('sp', 4.507798497095129),\n",
       " ('vagas', 4.48785519877209),\n",
       " ('decretou', 4.451531391136599),\n",
       " ('maduro', 4.444307592879047),\n",
       " ('boa', 4.43418609880513),\n",
       " ('historia', 4.412242490571647),\n",
       " ('preto', 4.406245274135143),\n",
       " ('jose', 4.386194125800162),\n",
       " ('reuniao', 4.38337002551726),\n",
       " ('ministro', 4.377514657011212),\n",
       " ('designacao', 4.365055413393893),\n",
       " ('adolescentes', 4.345210510947156),\n",
       " ('folias', 4.342161135500783),\n",
       " ('estacionamento', 4.3381561787932785),\n",
       " ('escola', 4.293778918300168),\n",
       " ('401', 4.2852127016738555),\n",
       " ('em_com', 4.284057240207924),\n",
       " ('porque', 4.278395345356302),\n",
       " ('mantem', 4.271348034186468),\n",
       " ('profissionais', 4.25306576699947),\n",
       " ('mas', 4.250814536787278),\n",
       " ('agricultores', 4.240215425766753),\n",
       " ('para', 4.222227084338328),\n",
       " ('noticia', 4.216488755475888),\n",
       " ('faccoes', 4.216280338343601),\n",
       " ('cinco', 4.1752269119401),\n",
       " ('trio', 4.168214243700554),\n",
       " ('oficial', 4.1545899401663124),\n",
       " ('feira', 4.137449173341042),\n",
       " ('grupo', 4.1337204917085835),\n",
       " ('celulares', 4.128488871038314),\n",
       " ('fuga', 4.0510614114984556),\n",
       " ('mineiros', 4.050045368966685),\n",
       " ('rede', 4.040213625643494),\n",
       " ('centro', 4.033037333266844),\n",
       " ('cunha', 4.014712770325851),\n",
       " ('defesa', 4.002527254272744),\n",
       " ('deve', 3.998420714317248),\n",
       " ('noticias', 3.9961150334575586),\n",
       " ('meio', 3.9851690466544194),\n",
       " ('trabalho', 3.9832997546356177),\n",
       " ('exemplo', 3.9832428148003154),\n",
       " ('retweeted', 3.9767893006147927),\n",
       " ('crime', 3.9766556753518434),\n",
       " ('deste', 3.954302548029834),\n",
       " ('dentro', 3.94351308241178),\n",
       " ('lei', 3.939909011969764),\n",
       " ('portugal', 3.93938887855738),\n",
       " ('leia', 3.9362671403904206),\n",
       " ('outros', 3.9233770035244024),\n",
       " ('pede', 3.910533906718678),\n",
       " ('rs', 3.909161183986217),\n",
       " ('distribui', 3.8951574360347667),\n",
       " ('nunca', 3.8761575487994406),\n",
       " ('ha', 3.8742942900063984),\n",
       " ('januaria', 3.86270967692443),\n",
       " ('homicidio', 3.8555365380916475),\n",
       " ('100', 3.832189477946703),\n",
       " ('transporte', 3.8282674961734546),\n",
       " ('mora', 3.825686978727141),\n",
       " ('foto', 3.81762741627424),\n",
       " ('ribeirao', 3.815911880643968),\n",
       " ('poe', 3.8006444668859922),\n",
       " ('coronel', 3.798929993132291),\n",
       " ('lagoa', 3.7979848223072428),\n",
       " ('ministerio', 3.797115311588965),\n",
       " ('detentos', 3.7702217471047983),\n",
       " ('plano', 3.7619816475083994),\n",
       " ('ai', 3.752899684402607),\n",
       " ('policial', 3.7479565881427437),\n",
       " ('busca', 3.7453060632957373),\n",
       " ('14', 3.743895109454263),\n",
       " ('neste', 3.7325660785362684),\n",
       " ('luzia', 3.7308331873230203),\n",
       " ('vacinar', 3.7277389391761444),\n",
       " ('veja', 3.706433132615457),\n",
       " ('desta', 3.7015405572999343),\n",
       " ('flagrado', 3.699679394411685),\n",
       " ('pirapora', 3.69564783005739),\n",
       " ('12', 3.6939570843602096),\n",
       " ('vida', 3.68605454192451),\n",
       " ('alunos', 3.685006862115425),\n",
       " ('dados', 3.670062237491149),\n",
       " ('carro', 3.656797199997505),\n",
       " ('trump', 3.6551455924728513),\n",
       " ('uberaba', 3.6298079582585263),\n",
       " ('diamantina', 3.6253693153438293),\n",
       " ('uniao', 3.616266685399762),\n",
       " ('nota', 3.6158609995151934),\n",
       " ('soares', 3.610115528445049),\n",
       " ('situacao', 3.6086614587688333),\n",
       " ('agentes', 3.593390686827187),\n",
       " ('viaturas', 3.586216356345686),\n",
       " ('varginha', 3.583155649367785),\n",
       " ('disputa', 3.577839476630309),\n",
       " ('fabriciano', 3.5713780690343047),\n",
       " ('brasilia', 3.5550243951475853),\n",
       " ('apoio', 3.54976581206554),\n",
       " ('alerta', 3.547588507906424),\n",
       " ('professor', 3.542286262319296),\n",
       " ('envia', 3.5391573455835537),\n",
       " ('residencia', 3.529940071381738),\n",
       " ('psdb', 3.5267840979633776),\n",
       " ('iveco', 3.525467735132294),\n",
       " ('verde', 3.5127471872457883),\n",
       " ('hablo', 3.5037465199665947),\n",
       " ('impede', 3.491086285690301),\n",
       " ('usou', 3.485447608560554),\n",
       " ('cada', 3.4784792903369834),\n",
       " ('amo', 3.4694167211366165),\n",
       " ('escolar', 3.4644939414356077),\n",
       " ('br', 3.4610091365473425),\n",
       " ('construcao', 3.4575571404471876),\n",
       " ('tiene', 3.443708730192271),\n",
       " ('ses', 3.4403780101511505),\n",
       " ('tiro', 3.4295384121464005),\n",
       " ('carga', 3.424141694452919),\n",
       " ('veiculos', 3.4223215677116094),\n",
       " ('cargo', 3.4217960716559586),\n",
       " ('c', 3.419646114146528),\n",
       " ('pagar', 3.4100074516142804),\n",
       " ('22', 3.4055499552522357),\n",
       " ('denuncia', 3.4046418254825364),\n",
       " ('vereador', 3.4043985951732627),\n",
       " ('paga', 3.397681544098629),\n",
       " ('sim', 3.3869078823028835),\n",
       " ('quadrilha', 3.3692347903947812),\n",
       " ('funk', 3.3633610456751017),\n",
       " ('tentar', 3.3610028586810623),\n",
       " ('impedida', 3.360097097776811),\n",
       " ('desse', 3.3552932501968895),\n",
       " ('menores', 3.331938876416572),\n",
       " ('regulamenta', 3.331523096867001),\n",
       " ('recupera', 3.330222806290405),\n",
       " ('amplia', 3.320128824793357),\n",
       " ('ni', 3.320067493678989),\n",
       " ('salario', 3.316648519479706),\n",
       " ('bandidos', 3.316532941902818),\n",
       " ('lugar', 3.315322450981419),\n",
       " ('rapaz', 3.3145294810559505),\n",
       " ('sistema', 3.3110383669879666),\n",
       " ('cargas', 3.3063829851230815),\n",
       " ('comeca', 3.2998539169329577),\n",
       " ('pilantrel', 3.2975077911663524),\n",
       " ('33', 3.2921331464794976),\n",
       " ('fb', 3.282864791105285),\n",
       " ('ensino', 3.2809752731706263),\n",
       " ('pc', 3.266749281149056),\n",
       " ('loja', 3.2636832407612593),\n",
       " ('pq', 3.254947413870967),\n",
       " ('produto', 3.251937582982936),\n",
       " ('declinio', 3.2517487572883397),\n",
       " ('convoca', 3.251166454046943),\n",
       " ('s', 3.2416637232009013),\n",
       " ('quantidade', 3.240118382753877),\n",
       " ('pai', 3.237673369025212),\n",
       " ('familiares', 3.2372122259069105),\n",
       " ('rebeliao', 3.235261729736526),\n",
       " ('ilicito', 3.2224777964370124),\n",
       " ('aumento', 3.2199886992177404),\n",
       " ('fazenda', 3.2199631557112234),\n",
       " ('sigilo', 3.2163599749257816),\n",
       " ('117', 3.2104738475108228),\n",
       " ('eua', 3.2087256458339923),\n",
       " ('absurdo', 3.206864747640542),\n",
       " ('emergencia', 3.2045486795280937),\n",
       " ('sabado', 3.203623412476462),\n",
       " ('mes', 3.1997151421011214),\n",
       " ('chuva', 3.1918515266245175),\n",
       " ('tratar', 3.1898996073399415),\n",
       " ('enquanto', 3.189462611528117),\n",
       " ('shopping', 3.1852180961406615),\n",
       " ('mundo', 3.1831247641099916),\n",
       " ('pedro', 3.178450005346466),\n",
       " ('pagamento', 3.1646663050029566),\n",
       " ('trabalham', 3.160382358792304),\n",
       " ('custo', 3.155551885352158),\n",
       " ('confirma', 3.1544819119725287),\n",
       " ('chega', 3.1435002398169036),\n",
       " ('continua', 3.1314882177004635),\n",
       " ('morrem', 3.1279832522474176),\n",
       " ('esperanca', 3.1228918095016063),\n",
       " ('vez', 3.11884731646078),\n",
       " ('fim', 3.1087892993420487),\n",
       " ('estar', 3.1034806682340537),\n",
       " ('penitenciaria', 3.099964165163545),\n",
       " ('atendimento', 3.083257282269347),\n",
       " ('mineiro', 3.0719291568162803),\n",
       " ('cultura', 3.053341612116677),\n",
       " ('01', 3.049519675143669),\n",
       " ('travam', 3.0478517555626725),\n",
       " ('aeroporto', 3.044470588189597),\n",
       " ('7', 3.0376856261010166),\n",
       " ('corrupto', 3.026458093496548),\n",
       " ('fazer', 3.023675101970235),\n",
       " ('lourenco', 3.019581583227611),\n",
       " ('posto', 3.0157762990869283),\n",
       " ('quebrou', 3.012573791785404),\n",
       " ('lagoas', 3.01207434344552),\n",
       " ('6', 3.0059337991650694),\n",
       " ('estaduais', 3.0047316469779752),\n",
       " ('corpo', 3.0020660041279177),\n",
       " ('sinteticas', 2.993946372286566),\n",
       " ('dar', 2.9812027969978714),\n",
       " ('atentado', 2.9750097115086787),\n",
       " ('reforca', 2.9740199269020993),\n",
       " ('pocos', 2.9715920765642303),\n",
       " ('13', 2.970386406412376),\n",
       " ('partir', 2.9676104043950384),\n",
       " ('comprou', 2.964869043967473),\n",
       " ('nada', 2.9634154122058467),\n",
       " ('pau', 2.9617826872058877),\n",
       " ('23', 2.953188440400905),\n",
       " ('gov', 2.9458166445314746),\n",
       " ('yo', 2.9429863303273525),\n",
       " ('estadual', 2.938740643595951),\n",
       " ('vereadores', 2.9301820284127755),\n",
       " ('marco', 2.9298473440632193),\n",
       " ('mario', 2.9255404167104424),\n",
       " ('sucesso', 2.9253225475972755),\n",
       " ('fazem', 2.9167942415495456),\n",
       " ('reconhece', 2.9140494486260056),\n",
       " ('acaba', 2.913723196043321),\n",
       " ('identifica', 2.910024543077066),\n",
       " ('registra', 2.90811148777603),\n",
       " ('terca', 2.897483115343188),\n",
       " ('inicio', 2.897168704591463),\n",
       " ('pompeu', 2.8954075289679153),\n",
       " ('lula', 2.8925963305231894),\n",
       " ('dezembro', 2.8899247854988785),\n",
       " ('parte', 2.887902998410076),\n",
       " ('segundo', 2.8707869949293796),\n",
       " ('bandido', 2.8647465641167793),\n",
       " ('decretar', 2.8470101505807257),\n",
       " ('novas', 2.8443565242888704),\n",
       " ('baile', 2.8424750528157885),\n",
       " ('htt', 2.8394126100902426),\n",
       " ('ja', 2.8349146091146724),\n",
       " ('betim', 2.8299999329559453),\n",
       " ('muriae', 2.8282368108468887),\n",
       " ('vale', 2.821224323476033),\n",
       " ('direito', 2.8131615449674277),\n",
       " ('antes', 2.809461791392227),\n",
       " ('200', 2.8091038880047488),\n",
       " ('serrana', 2.8080923950595236),\n",
       " ('semana', 2.805898587808011),\n",
       " ('pcc', 2.7990115244803144),\n",
       " ('traficantes', 2.7940162231822314),\n",
       " ('nesta', 2.790631035560347),\n",
       " ('carmo', 2.789592601376799),\n",
       " ('paracatu', 2.7832055115554972),\n",
       " ('0', 2.773169809282126),\n",
       " ('caso', 2.771781527418221),\n",
       " ('amazonas', 2.763914754922092),\n",
       " ('divida', 2.7628375501973097),\n",
       " ('quebrado', 2.7625571155767616),\n",
       " ('julio', 2.757006745329163),\n",
       " ('problema', 2.75667617708208),\n",
       " ('espirito', 2.7532954205793017),\n",
       " ('rei', 2.749719068619349),\n",
       " ('suspende', 2.749112408986242),\n",
       " ('segunda', 2.740412339740857),\n",
       " ('dando', 2.7347984228526636),\n",
       " ('globo', 2.724761103869926),\n",
       " ('asi', 2.717583838981203),\n",
       " ('retomada', 2.714420588685323),\n",
       " ('gestao', 2.7136732317988974),\n",
       " ('acidente', 2.712250112381631),\n",
       " ('mudancas', 2.7107384632698093),\n",
       " ('nome', 2.70790760002353),\n",
       " ('tarde', 2.707264254561764),\n",
       " ('salarios', 2.7056161720646976),\n",
       " ('ferias', 2.705194418230413),\n",
       " ('motoristas', 2.703704167511653),\n",
       " ('di', 2.6990798233053432),\n",
       " ('morre', 2.6953126592598444),\n",
       " ('golpe', 2.6924461775771515),\n",
       " ('escolares', 2.6867289535855834),\n",
       " ('internet', 2.686314330143622),\n",
       " ('poder', 2.6841244713461903),\n",
       " ('16', 2.683294663605773),\n",
       " ('oscs', 2.6828941143740024),\n",
       " ('goias', 2.674882792768979),\n",
       " ('segue', 2.6747993932727985),\n",
       " ('comprando', 2.667691981943552),\n",
       " ('domingo', 2.664425060920125),\n",
       " ('sorveteria', 2.6582803334263594),\n",
       " ('vice', 2.6547474815787417),\n",
       " ('pena', 2.6512646659325974),\n",
       " ('mira', 2.649404741849055),\n",
       " ('pinheiro', 2.64846481784686),\n",
       " ('doria', 2.647726053468945),\n",
       " ('reforma', 2.638879631620157),\n",
       " ('he', 2.6341629810304865),\n",
       " ('encontra', 2.632546479527563),\n",
       " ('sendo', 2.632381789714816),\n",
       " ('infantil', 2.6305012443411444),\n",
       " ('18', 2.622639735670835),\n",
       " ('fundo', 2.6214113613806593),\n",
       " ('mao', 2.613475861898971),\n",
       " ('balada', 2.606581096477441),\n",
       " ('farc', 2.6046731347498735),\n",
       " ('buenos', 2.5897304858087704),\n",
       " ('duas', 2.589694375697479),\n",
       " ('beneficiara', 2.586031659514996),\n",
       " ('amigos', 2.58311960859408),\n",
       " ('de', 2.5818647658000526),\n",
       " ('gostou', 2.5818647658000526),\n",
       " ('reforco', 2.5797260377540274),\n",
       " ('partido', 2.5755375272659684),\n",
       " ('igual', 2.5701272794995687),\n",
       " ('sabara', 2.566064703498237),\n",
       " ('cachoeira', 2.549040645588278),\n",
       " ('prefeitos', 2.5489258776372186),\n",
       " ('kalil', 2.545982527490607),\n",
       " ('30', 2.5450000952237737),\n",
       " ('am', 2.5436518813604927),\n",
       " ('entao', 2.5408820608353215),\n",
       " ('onde', 2.5345226430260155),\n",
       " ('seis', 2.529370159123114),\n",
       " ('realizada', 2.527960085400359),\n",
       " ('cursos', 2.5266464541206126),\n",
       " ('descanso', 2.517415303292614),\n",
       " ('ambiental', 2.5141956429192174),\n",
       " ('falta', 2.513628942191505),\n",
       " ('pero', 2.5124894450820667),\n",
       " ('municipal', 2.5106670679702465),\n",
       " ('buritis', 2.5026270743459165),\n",
       " ('todas', 2.502321755536216),\n",
       " ('regulatorio', 2.501940138201903),\n",
       " ('designados', 2.501580889069002),\n",
       " ('9', 2.501305918909774),\n",
       " ('acordo', 2.5007608146252487),\n",
       " ('ufjf', 2.49571958628785),\n",
       " ('tiroteio', 2.494867504346571),\n",
       " ('bar', 2.494856373718331),\n",
       " ('momento', 2.4941153116859156),\n",
       " ('clube', 2.4910009751214237),\n",
       " ('obras', 2.4892703492771853),\n",
       " ('sociais', 2.4848727778820905),\n",
       " ('eso', 2.484825256660034),\n",
       " ('motorista', 2.4837958213374396),\n",
       " ('fez', 2.483579810145536),\n",
       " ('combate', 2.4817058388354414),\n",
       " ('falido', 2.4805648594736645),\n",
       " ('7o', 2.4773261717315207),\n",
       " ('saber', 2.4754047988262964),\n",
       " ('amigo', 2.4682486644778434),\n",
       " ('folha', 2.4656341977180465),\n",
       " ('amanha', 2.4580002517725092),\n",
       " ('onda', 2.455513787897279),\n",
       " ('eduardo', 2.450130873903343),\n",
       " ('gratuidade', 2.4490884106618442),\n",
       " ('confira', 2.4475351878848963),\n",
       " ('tem', 2.4473497595960327),\n",
       " ('15', 2.4402118338340193),\n",
       " ('pone', 2.4325120878457085),\n",
       " ('preve', 2.427400806806156),\n",
       " ('vicosa', 2.426863878455873),\n",
       " ('pedem', 2.425393522702289),\n",
       " ('20', 2.420572343204509),\n",
       " ('crack', 2.4184108581386954),\n",
       " ('ya', 2.4168755280943435),\n",
       " ('puse', 2.4113809839931206),\n",
       " ('mexico', 2.4101373041548837),\n",
       " ('perto', 2.409971026389567),\n",
       " ('logo', 2.406321984609862),\n",
       " ('ht', 2.403611013568052),\n",
       " ('infratores', 2.3952921333965382),\n",
       " ('reage', 2.3939044650228136),\n",
       " ('programa', 2.388219063576135),\n",
       " ('ne', 2.3878541844082637),\n",
       " ('27', 2.3872144626682092),\n",
       " ('tarifa', 2.3851527745261567),\n",
       " ('movel', 2.3843885755504033),\n",
       " ('tatico', 2.3843885755504033),\n",
       " ('primeira', 2.3796142874054067),\n",
       " ('olha', 2.378121358531343),\n",
       " ('garantir', 2.3767976882179154),\n",
       " ('353', 2.3733828414207863),\n",
       " ('carregado', 2.3733828414207863),\n",
       " ('msm', 2.372977338417035),\n",
       " ('000', 2.3685629613452446),\n",
       " ('sabe', 2.3676787737001947),\n",
       " ('amor', 2.367664086431232),\n",
       " ('cultural', 2.3653660201577633),\n",
       " ('municipio', 2.3645223272365024),\n",
       " ('risco', 2.3616951375000452),\n",
       " ('discutem', 2.36045564794959),\n",
       " ('queda', 2.360212412684249),\n",
       " ('manha', 2.356772777235374),\n",
       " ('quase', 2.350228622203341),\n",
       " ('quarto', 2.349763348470582),\n",
       " ('vcs', 2.348398963098396),\n",
       " ('mutirao', 2.34606072645572),\n",
       " ('medidas', 2.3430463668083785),\n",
       " ('fundos', 2.3380259826246643),\n",
       " ('25', 2.3377832410637915),\n",
       " ('mantena', 2.337252614822279),\n",
       " ('posse', 2.3365404193705634),\n",
       " ('recuperado', 2.333484672436075),\n",
       " ('distrito', 2.317957435026823),\n",
       " ('caes', 2.31394268393299),\n",
       " ('encontram', 2.31394268393299),\n",
       " ('convenio', 2.3137859488163017),\n",
       " ('correios', 2.313040063366938),\n",
       " ('recebia', 2.313040063366938),\n",
       " ('ind', 2.310645373036628),\n",
       " ('fino', 2.307596147960004),\n",
       " ('visita', 2.3028427551248383),\n",
       " ('avanca', 2.301666111887617),\n",
       " ('sexual', 2.2956000475249136),\n",
       " ('morto', 2.294729458283208),\n",
       " ('puso', 2.294141147798593),\n",
       " ('nao', 2.293990788242345),\n",
       " ('favor', 2.286325734374952),\n",
       " ('detran', 2.2822128499016787),\n",
       " ('assalto', 2.2799324338678693),\n",
       " ('azul', 2.277756190631594),\n",
       " ('deputado', 2.2751896573563366),\n",
       " ('tempo', 2.2732848537534256),\n",
       " ('hora', 2.272176993063389),\n",
       " ('encontrado', 2.269917466624702),\n",
       " ('aumenta', 2.2698546049238275),\n",
       " ('alegre', 2.2597913535579672),\n",
       " ('mina', 2.257460538337062),\n",
       " ('628', 2.2574363720857518),\n",
       " ('papai', 2.2510188998974607),\n",
       " ('deixar', 2.2465426002880378),\n",
       " ('centros', 2.24354060536478),\n",
       " ('material', 2.243427307882108),\n",
       " ('fala', 2.236516578585728),\n",
       " ('dessa', 2.233323398390828),\n",
       " ('jardim', 2.2297799487943513),\n",
       " ('lixo', 2.2290618696141755),\n",
       " ('defende', 2.225051307340301),\n",
       " ('idade', 2.219880932968346),\n",
       " ('60obpm', 2.2138506534097697),\n",
       " ('pe', 2.211691134242719),\n",
       " ('jajajaja', 2.211462708493244),\n",
       " ('caminhao', 2.209032992301328),\n",
       " ('areas', 2.2081137726670494),\n",
       " ('reforcar', 2.205618265569392),\n",
       " ('empresas', 2.205599400265903),\n",
       " ('volta', 2.200491500322206),\n",
       " ('hablar', 2.1954483761438364),\n",
       " ('to', 2.195143086144464),\n",
       " ('jaja', 2.191826119280063),\n",
       " ('dobrar', 2.191731125666971),\n",
       " ('estudo', 2.191731125666971),\n",
       " ('oferta', 2.191731125666971),\n",
       " ('pes', 2.189572430230199),\n",
       " ('novembro', 2.1860698239687935),\n",
       " ('emprego', 2.1785359154617088),\n",
       " ('criado', 2.176632635137163),\n",
       " ('folia', 2.174967321117113),\n",
       " ('imprensa', 2.1732892316234937),\n",
       " ('recuperam', 2.171931835849603),\n",
       " ('tanto', 2.1710453981280455),\n",
       " ('receber', 2.1707667408300364),\n",
       " ('custaram', 2.165057457185066),\n",
       " ('escroto', 2.1632440099217307),\n",
       " ('recebem', 2.162974478222368),\n",
       " ('animo', 2.1617158122338123),\n",
       " ('11', 2.156273842620105),\n",
       " ('ferido', 2.1552213759361485),\n",
       " ('carceraria', 2.1500877909906397),\n",
       " ('desastre', 2.149702165690739),\n",
       " ('passagem', 2.1480558688053546),\n",
       " ('comando', 2.148052460618542),\n",
       " ('falar', 2.1475145942732663),\n",
       " ('amamentacao', 2.1417358706319916),\n",
       " ('tao', 2.1386886654032393),\n",
       " ('capital', 2.135980209868746),\n",
       " ('caldas', 2.1358739380597935),\n",
       " ('voy', 2.130986592022168),\n",
       " ('tipo', 2.1273727739334087),\n",
       " ('formiga', 2.1269566557418087),\n",
       " ('alemanha', 2.124139733590038),\n",
       " ('agencia', 2.115823411884956),\n",
       " ('pacientes', 2.114523005844544),\n",
       " ('dilma', 2.1097451976058315),\n",
       " ('divulga', 2.108447945281033),\n",
       " ('maria', 2.1060880457394893),\n",
       " ('corrida', 2.105318359119308),\n",
       " ('provoca', 2.1024317013651967),\n",
       " ('fevereiro', 2.1019430544414197),\n",
       " ('fazendo', 2.0996711382050357),\n",
       " ('caro', 2.099320867091319),\n",
       " ('pagou', 2.0986451036704863),\n",
       " ('carmen', 2.0982004646320527),\n",
       " ('outras', 2.0932855786457893),\n",
       " ('sin', 2.086358782832554),\n",
       " ('grandes', 2.085044308138987),\n",
       " ('macacos', 2.078610996049889),\n",
       " ('prepara', 2.0782161810364435),\n",
       " ('universidade', 2.0781810232951305),\n",
       " ('llega', 2.0761659660083067),\n",
       " ('vermelho', 2.068246888494908),\n",
       " ('caminhoneiro', 2.067364158339604),\n",
       " ('forjar', 2.067364158339604),\n",
       " ('ficar', 2.067115734318453),\n",
       " ('proxima', 2.0624692318746005),\n",
       " ('brasileiro', 2.0619598704137023),\n",
       " ('big', 2.0588757845398606),\n",
       " ('valores', 2.0577633665271304),\n",
       " ('eh', 2.0558543217695613),\n",
       " ('transportar', 2.049110101034662),\n",
       " ('vacinados', 2.04782214773918),\n",
       " ('abuso', 2.047198943754799),\n",
       " ('terminal', 2.0448207377989602),\n",
       " ('baleado', 2.041266840945813),\n",
       " ('jato', 2.040279360115564),\n",
       " ('lava', 2.040279360115564),\n",
       " ('deputados', 2.038331403907698),\n",
       " ('deveria', 2.0372129221667143),\n",
       " ('ituiutaba', 2.036273058913853),\n",
       " ('alckmin', 2.0349010562993604),\n",
       " ('organizado', 2.032771616007654),\n",
       " ('oeste', 2.031854618078746),\n",
       " ('mental', 2.0295440290937634),\n",
       " ('pistola', 2.0260556326650163),\n",
       " ('bilhoes', 2.025352313932593),\n",
       " ('ambulancias', 2.024927623887482),\n",
       " ('uba', 2.0232028687592964),\n",
       " ('quero', 2.0228363188445346),\n",
       " ('ipva', 2.0224021065845195),\n",
       " ('fundacao', 2.022132790944261),\n",
       " ('trabalhadores', 2.022084837914612),\n",
       " ('prata', 2.019607490976622),\n",
       " ('liminar', 2.019383851667766),\n",
       " ('redes', 2.017152421365971),\n",
       " ('corrego', 2.0155956339408734),\n",
       " ('feito', 2.0138208957281964),\n",
       " ('bi', 2.006755884044243),\n",
       " ('carnaval', 2.0037207768041467),\n",
       " ('90', 2.0036960807789836),\n",
       " ('ppp', 1.9978118416753319),\n",
       " ('cabo', 1.9965961605016789),\n",
       " ('merece', 1.9951442909712567),\n",
       " ('gastos', 1.9913943210850544),\n",
       " ('marca', 1.9886209889240232),\n",
       " ('16a', 1.9845550707404425),\n",
       " ('eleicao', 1.9824168849193873),\n",
       " ('morreu', 1.9814338338968263),\n",
       " ('codevasf', 1.9785602581532558),\n",
       " ('assassinatos', 1.978480795217206),\n",
       " ('destaque', 1.977498568164733),\n",
       " ('democracia', 1.976925634307158),\n",
       " ('equipe', 1.9733756585429256),\n",
       " ('ufmg', 1.9719400273836651),\n",
       " ('pmdb', 1.966827032739247),\n",
       " ('venezuela', 1.9666427540226321),\n",
       " ('mim', 1.9640355279239143),\n",
       " ('barra', 1.9640157770341284),\n",
       " ('penitenciarios', 1.9568040768679174),\n",
       " ('26', 1.9551807584965895),\n",
       " ('japonvar', 1.955084119730828),\n",
       " ('projeto', 1.95382302920902),\n",
       " ('cao', 1.9530607858087394),\n",
       " ('preocupante', 1.9490804339698338),\n",
       " ('bando', 1.948398402053264),\n",
       " ('rua', 1.9475403466129757),\n",
       " ('investigacao', 1.9471654654126072),\n",
       " ('francisco', 1.9436893499028183),\n",
       " ('ajudar', 1.9417520394918961),\n",
       " ('cargos', 1.9313439272497994),\n",
       " ('escarnio', 1.926647190355014),\n",
       " ('cavalo', 1.9259617625260406),\n",
       " ('municao', 1.9238529039135568),\n",
       " ('mae', 1.9212116041706102),\n",
       " ('bancos', 1.9191967569620387),\n",
       " ('leva', 1.917174512982269),\n",
       " ('sobrando', 1.9162191272017997),\n",
       " ('2o', 1.914045222272427),\n",
       " ('criminosos', 1.9115118831388325),\n",
       " ('caratinga', 1.9102481785660812),\n",
       " ('roubos', 1.9089365023193348),\n",
       " ('contratacao', 1.9087863395251043),\n",
       " ('fecha', 1.9083177349365306),\n",
       " ('governadores', 1.907116366284723),\n",
       " ('matar', 1.9061271717249726),\n",
       " ('sudeste', 1.904694343045917),\n",
       " ('quente', 1.9005559611864777),\n",
       " ('aco', 1.90033081886181),\n",
       " ('alias', 1.8981698154608777),\n",
       " ('moraes', 1.888384566663731),\n",
       " ('paraiso', 1.8879970887087238),\n",
       " ('perola', 1.886744111915441),\n",
       " ('legal', 1.8867360336961472),\n",
       " ('caderno', 1.8859993852924888),\n",
       " ('kg', 1.8841569525608857),\n",
       " ('rodoviario', 1.8824780756143031),\n",
       " ('safado', 1.8812135168344142),\n",
       " ('primeiro', 1.8786525945096828),\n",
       " ('cooperacao', 1.8780671696541615),\n",
       " ('brazil', 1.8767866170745786),\n",
       " ('publicas', 1.8749450852765923),\n",
       " ('istoe', 1.8722287194365557),\n",
       " ('donde', 1.869525665480057),\n",
       " ('21kg', 1.8671789340225604),\n",
       " ('apreendidas', 1.8668171273858198),\n",
       " ('92', 1.8661390280123158),\n",
       " ('son', 1.8593917048885547),\n",
       " ('administrativa', 1.8578690190330196),\n",
       " ('aimores', 1.8578690190330196),\n",
       " ('restituicao', 1.854999187639438),\n",
       " ('leste', 1.8537156056587818),\n",
       " ('onu', 1.8525974978365891),\n",
       " ('vivo', 1.8522386789716294),\n",
       " ('ponen', 1.85201901850982),\n",
       " ('serio', 1.8475497594390295),\n",
       " ('casal', 1.8472895399763087),\n",
       " ('proximo', 1.843958539257586),\n",
       " ('cidades', 1.841466697146554),\n",
       " ('dono', 1.838687280743904),\n",
       " ('vamos', 1.8367632635351627),\n",
       " ('integrantes', 1.8330609366639523),\n",
       " ('pior', 1.832038363707934),\n",
       " ('balanca', 1.8307631208156407),\n",
       " ('precisao', 1.8307631208156407),\n",
       " ('jaiba', 1.8287466758127788),\n",
       " ('gepar', 1.8285598038166373),\n",
       " ('farmacia', 1.8269925814270414),\n",
       " ('vespasiano', 1.82332680457316),\n",
       " ('radio', 1.821325226530862),\n",
       " ('parar', 1.820438354577366),\n",
       " ('metro', 1.8192511993977538),\n",
       " ('1a', 1.8188403993020141),\n",
       " ('vindo', 1.8159582937075678),\n",
       " ('existe', 1.8152421826252165),\n",
       " ('reconhecidas', 1.8121768198881285),\n",
       " ('faccao', 1.8094736936676012),\n",
       " ('cai', 1.805503843182911),\n",
       " ('ilegal', 1.8043982073398346),\n",
       " ('anel', 1.8024739716232159),\n",
       " ('americano', 1.8002452588034177),\n",
       " ('populacao', 1.7990198887885487),\n",
       " ('308', 1.7973657481573835),\n",
       " ('palavra', 1.7958693833549866),\n",
       " ('esa', 1.7930960612274784),\n",
       " ('barreiro', 1.78773056370436),\n",
       " ('sei', 1.785119320193206),\n",
       " ('min', 1.7845891119598243),\n",
       " ('inocente', 1.7844591487282757),\n",
       " ('discutir', 1.7825906599798906),\n",
       " ('acucena', 1.7805133083689277),\n",
       " ('empresa', 1.7751574227354638),\n",
       " ('querer', 1.772302157348257),\n",
       " ('adquire', 1.7679134411904778),\n",
       " ('bombeiros', 1.7679134411904778),\n",
       " ('confessa', 1.7672018209779283),\n",
       " ('apesar', 1.7655921528569323),\n",
       " ('motocicleta', 1.763729055362338),\n",
       " ('atividades', 1.7629765368861905),\n",
       " ('tv', 1.7601374506716683),\n",
       " ('alvos', 1.7591591097832673),\n",
       " ('08', 1.7586502667093473),\n",
       " ('ladroes', 1.7552594668720893),\n",
       " ('feita', 1.7546460867058709),\n",
       " ('mostra', 1.7543431048964837),\n",
       " ('mercado', 1.7539785920500681),\n",
       " ('sob', 1.7526594113074936),\n",
       " ('torrando', 1.7521397839598567),\n",
       " ('tira', 1.7502928461760454),\n",
       " ('levar', 1.749619702662892),\n",
       " ('condenado', 1.7489464082499584),\n",
       " ('tecnologia', 1.7467204172840691),\n",
       " ('prazo', 1.745233098409126),\n",
       " ('entregam', 1.7448570732863429),\n",
       " ('melhora', 1.7419230559319343),\n",
       " ('convocacao', 1.7415874698215341),\n",
       " ('criou', 1.7405706854233158),\n",
       " ('ilicitas', 1.7383386592994532),\n",
       " ('doenca', 1.7366471866967392),\n",
       " ('fixacao', 1.7352689650488462),\n",
       " ('vem', 1.7315724802040953),\n",
       " ('vou', 1.7309646689389984),\n",
       " ('edital', 1.7302024685531483),\n",
       " ('servidor', 1.7284904241798067),\n",
       " ('pmmg', 1.7257701001977845),\n",
       " ('basta', 1.7237210440816568),\n",
       " ('nesse', 1.722432057561746),\n",
       " ('completa', 1.7207781987142736),\n",
       " ('funcionamento', 1.7197616896567032),\n",
       " ('reforcada', 1.7192752227005128),\n",
       " ...]"
      ]
     },
     "execution_count": 212,
     "metadata": {},
     "output_type": "execute_result"
    }
   ],
   "source": [
    "tfidf.get_topn()"
   ]
  },
  {
   "cell_type": "code",
   "execution_count": 213,
   "metadata": {},
   "outputs": [],
   "source": [
    "corpus = ['eu tenho um gato de estimação', 'meu gato odeia cachorro de rua','meu gato e meu cachorro foram na rua']"
   ]
  },
  {
   "cell_type": "code",
   "execution_count": 214,
   "metadata": {},
   "outputs": [],
   "source": [
    "tfidf = Tfidf(corpus, ngram=1)"
   ]
  },
  {
   "cell_type": "code",
   "execution_count": 215,
   "metadata": {},
   "outputs": [
    {
     "data": {
      "text/plain": [
       "['cachorro',\n",
       " 'de',\n",
       " 'e',\n",
       " 'estimação',\n",
       " 'eu',\n",
       " 'foram',\n",
       " 'meu',\n",
       " 'na',\n",
       " 'odeia',\n",
       " 'rua',\n",
       " 'tenho',\n",
       " 'um']"
      ]
     },
     "execution_count": 215,
     "metadata": {},
     "output_type": "execute_result"
    }
   ],
   "source": [
    "tfidf.vectorizer.get_feature_names()"
   ]
  },
  {
   "cell_type": "code",
   "execution_count": 216,
   "metadata": {},
   "outputs": [
    {
     "data": {
      "text/plain": [
       "[('meu', 1.0157645071142873),\n",
       " ('de', 0.7732282388228763),\n",
       " ('cachorro', 0.7167801390433731),\n",
       " ('rua', 0.7167801390433731),\n",
       " ('odeia', 0.5493512310263033),\n",
       " ('estimação', 0.4673509818107163),\n",
       " ('eu', 0.4673509818107163),\n",
       " ('tenho', 0.4673509818107163),\n",
       " ('um', 0.4673509818107163),\n",
       " ('e', 0.39312851414239275),\n",
       " ('foram', 0.39312851414239275),\n",
       " ('na', 0.39312851414239275)]"
      ]
     },
     "execution_count": 216,
     "metadata": {},
     "output_type": "execute_result"
    }
   ],
   "source": [
    "tfidf.get_topn()"
   ]
  },
  {
   "cell_type": "code",
   "execution_count": 217,
   "metadata": {
    "scrolled": true
   },
   "outputs": [
    {
     "data": {
      "text/plain": [
       "array([[1., 0., 0., 0., 0., 0., 0., 0., 0., 0., 0., 0.],\n",
       "       [0., 0., 0., 0., 0., 0., 0., 0., 0., 0., 0., 0.]])"
      ]
     },
     "execution_count": 217,
     "metadata": {},
     "output_type": "execute_result"
    }
   ],
   "source": [
    "tfidf.transform(['cachorro', 'gato']).toarray()"
   ]
  },
  {
   "cell_type": "markdown",
   "metadata": {},
   "source": [
    "## Modelagem de tópicos - LSA"
   ]
  },
  {
   "cell_type": "markdown",
   "metadata": {},
   "source": [
    "O Análise Semântico Latente (LSA) é uma técnica não supervisionada utilizada para reducir a dimensionalidade do TF-IDF. Utiliza-se da decomposição em valores singulares (SVD) para reducir o número de linhas do TF-IDF ao mesmo tempo que preserva uma similaridade entre as colunas. Valores próximos ao 1 indicam elevada semelhança entre os documentos."
   ]
  },
  {
   "cell_type": "code",
   "execution_count": 218,
   "metadata": {},
   "outputs": [],
   "source": [
    "from sklearn.decomposition import TruncatedSVD"
   ]
  },
  {
   "cell_type": "code",
   "execution_count": 219,
   "metadata": {},
   "outputs": [],
   "source": [
    "class ModelagemTopicos:\n",
    "    def __init__(self, train_data, num_components=10):\n",
    "        # Create SVD object\n",
    "        self.lsa = TruncatedSVD(n_components=num_components, n_iter=100, random_state=42)\n",
    "\n",
    "        # Fit SVD model on data\n",
    "        self.corpus = self.lsa.fit_transform(train_data)\n",
    "        \n",
    "    def extrair_topicos(self, terms, topn=10):\n",
    "\n",
    "        for index, component in enumerate(self.lsa.components_):\n",
    "            zipped = zip(terms, component)\n",
    "            top_terms_key=sorted(zipped, key = lambda t: t[1], reverse=True)[:topn]\n",
    "            top_terms_list=list(dict(top_terms_key).keys())\n",
    "            print(\"Topic \"+str(index)+\": \",top_terms_list)"
   ]
  },
  {
   "cell_type": "code",
   "execution_count": 220,
   "metadata": {},
   "outputs": [],
   "source": [
    "model_topic = ModelagemTopicos(tfidf.corpus, num_components=3)"
   ]
  },
  {
   "cell_type": "code",
   "execution_count": 221,
   "metadata": {},
   "outputs": [
    {
     "name": "stdout",
     "output_type": "stream",
     "text": [
      "Topic 0:  ['meu', 'rua', 'cachorro', 'odeia', 'de', 'e', 'foram', 'na', 'estimação', 'eu']\n",
      "Topic 1:  ['estimação', 'eu', 'tenho', 'um', 'de', 'odeia', 'cachorro', 'rua', 'e', 'foram']\n",
      "Topic 2:  ['odeia', 'de', 'cachorro', 'rua', 'estimação', 'eu', 'tenho', 'um', 'meu', 'e']\n"
     ]
    }
   ],
   "source": [
    "model_topic.extrair_topicos(tfidf.vectorizer.get_feature_names())"
   ]
  },
  {
   "cell_type": "code",
   "execution_count": 222,
   "metadata": {},
   "outputs": [
    {
     "data": {
      "text/plain": [
       "array([[0.29757422, 0.34070401, 0.32348987]])"
      ]
     },
     "execution_count": 222,
     "metadata": {},
     "output_type": "execute_result"
    }
   ],
   "source": [
    "model_topic.lsa.transform(tfidf.transform('assaltante roubou mulher no ponto de onibus'))"
   ]
  },
  {
   "cell_type": "markdown",
   "metadata": {},
   "source": [
    "## LDA"
   ]
  },
  {
   "cell_type": "markdown",
   "metadata": {},
   "source": [
    "A Alocação Latente de Dirichlet (LDA) é um modelo estadistico generativo que asume que cada documento é uma mistura de tópicos e que cada palavra pode ser modelada para representar cada um desses tópicos. Serve principalmente para descobrir tópicos em cada documento."
   ]
  },
  {
   "cell_type": "code",
   "execution_count": 223,
   "metadata": {},
   "outputs": [],
   "source": [
    "from sklearn.decomposition import LatentDirichletAllocation"
   ]
  },
  {
   "cell_type": "code",
   "execution_count": 224,
   "metadata": {},
   "outputs": [],
   "source": [
    "class LDA:\n",
    "    def __init__(self, train_data, n_components=10):\n",
    "\n",
    "        self.lda = LatentDirichletAllocation(n_components=n_components, random_state=42)\n",
    "\n",
    "        self.corpus = self.lda.fit_transform(train_data)\n",
    "        \n",
    "    def extrair_topicos(self, terms, topn=10):\n",
    "\n",
    "        for index, component in enumerate(self.lda.components_):\n",
    "            zipped = zip(terms, component)\n",
    "            top_terms_key=sorted(zipped, key = lambda t: t[1], reverse=True)[:topn]\n",
    "            top_terms_list=list(dict(top_terms_key).keys())\n",
    "            print(\"Topic \"+str(index)+\": \",top_terms_list)"
   ]
  },
  {
   "cell_type": "code",
   "execution_count": 225,
   "metadata": {},
   "outputs": [],
   "source": [
    "lda = LDA(tfidf.corpus, n_components=20)"
   ]
  },
  {
   "cell_type": "code",
   "execution_count": 226,
   "metadata": {},
   "outputs": [
    {
     "name": "stdout",
     "output_type": "stream",
     "text": [
      "Topic 0:  ['cachorro', 'rua', 'de', 'meu', 'e', 'foram', 'na', 'estimação', 'eu', 'odeia']\n",
      "Topic 1:  ['cachorro', 'rua', 'de', 'meu', 'e', 'foram', 'na', 'estimação', 'eu', 'odeia']\n",
      "Topic 2:  ['cachorro', 'rua', 'de', 'meu', 'e', 'foram', 'na', 'estimação', 'eu', 'odeia']\n",
      "Topic 3:  ['cachorro', 'rua', 'de', 'meu', 'e', 'foram', 'na', 'estimação', 'eu', 'odeia']\n",
      "Topic 4:  ['cachorro', 'rua', 'de', 'meu', 'e', 'foram', 'na', 'estimação', 'eu', 'odeia']\n",
      "Topic 5:  ['cachorro', 'rua', 'de', 'meu', 'e', 'foram', 'na', 'estimação', 'eu', 'odeia']\n",
      "Topic 6:  ['cachorro', 'rua', 'de', 'meu', 'e', 'foram', 'na', 'estimação', 'eu', 'odeia']\n",
      "Topic 7:  ['cachorro', 'rua', 'de', 'meu', 'e', 'foram', 'na', 'estimação', 'eu', 'odeia']\n",
      "Topic 8:  ['estimação', 'tenho', 'um', 'eu', 'de', 'cachorro', 'meu', 'rua', 'e', 'foram']\n",
      "Topic 9:  ['cachorro', 'rua', 'de', 'meu', 'e', 'foram', 'na', 'estimação', 'eu', 'odeia']\n",
      "Topic 10:  ['odeia', 'cachorro', 'rua', 'de', 'meu', 'e', 'estimação', 'eu', 'foram', 'na']\n",
      "Topic 11:  ['cachorro', 'rua', 'de', 'meu', 'e', 'foram', 'na', 'estimação', 'eu', 'odeia']\n",
      "Topic 12:  ['cachorro', 'rua', 'de', 'meu', 'e', 'foram', 'na', 'estimação', 'eu', 'odeia']\n",
      "Topic 13:  ['cachorro', 'rua', 'de', 'meu', 'e', 'foram', 'na', 'estimação', 'eu', 'odeia']\n",
      "Topic 14:  ['cachorro', 'rua', 'de', 'meu', 'e', 'foram', 'na', 'estimação', 'eu', 'odeia']\n",
      "Topic 15:  ['meu', 'e', 'foram', 'na', 'cachorro', 'rua', 'de', 'estimação', 'eu', 'odeia']\n",
      "Topic 16:  ['cachorro', 'rua', 'de', 'meu', 'e', 'foram', 'na', 'estimação', 'eu', 'odeia']\n",
      "Topic 17:  ['cachorro', 'rua', 'de', 'meu', 'e', 'foram', 'na', 'estimação', 'eu', 'odeia']\n",
      "Topic 18:  ['cachorro', 'rua', 'de', 'meu', 'e', 'foram', 'na', 'estimação', 'eu', 'odeia']\n",
      "Topic 19:  ['cachorro', 'rua', 'de', 'meu', 'e', 'foram', 'na', 'estimação', 'eu', 'odeia']\n"
     ]
    }
   ],
   "source": [
    "lda.extrair_topicos(tfidf.vectorizer.get_feature_names())"
   ]
  },
  {
   "cell_type": "code",
   "execution_count": 227,
   "metadata": {},
   "outputs": [
    {
     "data": {
      "text/plain": [
       "array([[0.025, 0.025, 0.025, 0.025, 0.025, 0.025, 0.025, 0.025, 0.025,\n",
       "        0.025, 0.525, 0.025, 0.025, 0.025, 0.025, 0.025, 0.025, 0.025,\n",
       "        0.025, 0.025]])"
      ]
     },
     "execution_count": 227,
     "metadata": {},
     "output_type": "execute_result"
    }
   ],
   "source": [
    "lda.lda.transform(tfidf.transform('homem foi preso por trafico de drogas no estado de minas gerais mg'))"
   ]
  },
  {
   "cell_type": "markdown",
   "metadata": {},
   "source": [
    "## BM25"
   ]
  },
  {
   "cell_type": "markdown",
   "metadata": {},
   "source": [
    "A BM25 é um algoritmo de ranking que ajuda na recuperação de informação. Se baseia no TF-IDF e pode ser usado para indexar dados e mostrar a relevância de um termo de busca (entrada) em cada um dos documentos."
   ]
  },
  {
   "cell_type": "code",
   "execution_count": 228,
   "metadata": {},
   "outputs": [],
   "source": [
    "import numpy"
   ]
  },
  {
   "cell_type": "code",
   "execution_count": 229,
   "metadata": {},
   "outputs": [],
   "source": [
    "class BM25:\n",
    "    def __init__(self, train_data, b=0.75, k1=1.6):\n",
    "        self.corpus = train_data\n",
    "        self.vectorizer = TfidfVectorizer(norm=None, smooth_idf=False)\n",
    "        self.vectorizer.fit(train_data)\n",
    "        self.corpus_bow = super(TfidfVectorizer, self.vectorizer).transform(train_data)\n",
    "        self.len_X = self.corpus_bow.sum(1).A1\n",
    "        self.avdl = self.corpus_bow.sum(1).mean()\n",
    "        self.b = b\n",
    "        self.k1 = k1\n",
    "    \n",
    "    def transform(self, q):\n",
    "        \"\"\" Calculate BM25 between query q and corpus\"\"\"\n",
    "        b, k1, avdl = self.b, self.k1, self.avdl\n",
    "        len_X, avdl = self.len_X, self.avdl\n",
    "        q, = super(TfidfVectorizer, self.vectorizer).transform([q])\n",
    "\n",
    "        # convert to csc for better column slicing\n",
    "        X = self.corpus_bow.tocsc()[:, q.indices]\n",
    "        \n",
    "        denom = X + (k1 * (1 - b + b * len_X / avdl))[:, None]\n",
    "        # idf(t) = log [ n / df(t) ] + 1 in sklearn, so it need to be coneverted\n",
    "        # to idf(t) = log [ n / df(t) ] with minus 1\n",
    "        idf = self.vectorizer._tfidf.idf_[None, q.indices] - 1.\n",
    "        numer = X.multiply(numpy.broadcast_to(idf, X.shape)) * (k1 + 1)\n",
    "        self.denom = denom\n",
    "        self.numer = numer\n",
    "        return (numer / denom).sum(1).A1\n",
    "    \n",
    "    def similar(self, q, topn=5):\n",
    "        resp = self.transform(q)\n",
    "        self.max_inds = numpy.argpartition(resp, -topn)[-topn:]\n",
    "        most_similar = [(resp[ind], self.corpus[ind])  for ind in self.max_inds]\n",
    "        return sorted(most_similar, key=lambda x: x[0], reverse=True)\n",
    "        "
   ]
  },
  {
   "cell_type": "code",
   "execution_count": 230,
   "metadata": {},
   "outputs": [],
   "source": [
    "bm25 = BM25(df_tratado['Text tratado'].values)"
   ]
  },
  {
   "cell_type": "code",
   "execution_count": 231,
   "metadata": {},
   "outputs": [
    {
     "data": {
      "text/plain": [
       "[(6.0472184119834544, 'mata verde 21kg drogas apreendidos pm'),\n",
       " (5.717376024132451, '44obpm mata verde 21kg drogas apreendidos pm'),\n",
       " (5.717376024132451, 'prisao trafico drogas carmo mata mg via'),\n",
       " (5.717376024132451, 'homem preso carmo mata mg trafico drogas'),\n",
       " (5.717376024132451, 'noticias mata verde mg 21kg drogas apreend'),\n",
       " (5.4216546849081375, 'atentado suicida bagda mata doze pessoas estado minas'),\n",
       " (5.4216546849081375, 'motorista passageira presos 21kg drogas mata verde mg'),\n",
       " (5.1550202222760895,\n",
       "  'tt atentado suicida bagda mata doze pessoas estado minas'),\n",
       " (4.913382356975536,\n",
       "  'atirador mata cinco fere oito aeroporto fort lauderdale estado minas'),\n",
       " (4.913382356975536,\n",
       "  'pm mata criminoso apos roubo testemunha filma tiroteio presidente olegario')]"
      ]
     },
     "execution_count": 231,
     "metadata": {},
     "output_type": "execute_result"
    }
   ],
   "source": [
    "bm25.similar(\"mata\", topn=10)"
   ]
  },
  {
   "cell_type": "code",
   "execution_count": 232,
   "metadata": {},
   "outputs": [
    {
     "data": {
      "text/plain": [
       "array([ 388, 3014, 1862,  386, 2784, 2535, 2804, 2846, 2481, 2856])"
      ]
     },
     "execution_count": 232,
     "metadata": {},
     "output_type": "execute_result"
    }
   ],
   "source": [
    "bm25.max_inds"
   ]
  },
  {
   "cell_type": "code",
   "execution_count": 233,
   "metadata": {},
   "outputs": [
    {
     "data": {
      "text/plain": [
       "[(388, matrix([[4.91338236]])),\n",
       " (3014, matrix([[4.91338236]])),\n",
       " (1862, matrix([[5.15502022]])),\n",
       " (386, matrix([[5.42165468]])),\n",
       " (2784, matrix([[5.71737602]])),\n",
       " (2535, matrix([[5.71737602]])),\n",
       " (2804, matrix([[6.04721841]])),\n",
       " (2846, matrix([[5.42165468]])),\n",
       " (2481, matrix([[5.71737602]])),\n",
       " (2856, matrix([[5.71737602]]))]"
      ]
     },
     "execution_count": 233,
     "metadata": {},
     "output_type": "execute_result"
    }
   ],
   "source": [
    "[(x, (bm25.numer / bm25.denom)[x].sum(1)) for x in bm25.max_inds]"
   ]
  },
  {
   "cell_type": "code",
   "execution_count": 234,
   "metadata": {},
   "outputs": [
    {
     "ename": "NameError",
     "evalue": "name 'resp' is not defined",
     "output_type": "error",
     "traceback": [
      "\u001b[0;31m---------------------------------------------------------------------------\u001b[0m",
      "\u001b[0;31mNameError\u001b[0m                                 Traceback (most recent call last)",
      "\u001b[0;32m/tmp/ipykernel_10472/493138261.py\u001b[0m in \u001b[0;36m<module>\u001b[0;34m\u001b[0m\n\u001b[0;32m----> 1\u001b[0;31m \u001b[0mlen\u001b[0m\u001b[0;34m(\u001b[0m\u001b[0mresp\u001b[0m\u001b[0;34m)\u001b[0m\u001b[0;34m\u001b[0m\u001b[0;34m\u001b[0m\u001b[0m\n\u001b[0m",
      "\u001b[0;31mNameError\u001b[0m: name 'resp' is not defined"
     ]
    }
   ],
   "source": [
    "len(resp)"
   ]
  },
  {
   "cell_type": "code",
   "execution_count": 235,
   "metadata": {},
   "outputs": [
    {
     "ename": "NameError",
     "evalue": "name 'resp' is not defined",
     "output_type": "error",
     "traceback": [
      "\u001b[0;31m---------------------------------------------------------------------------\u001b[0m",
      "\u001b[0;31mNameError\u001b[0m                                 Traceback (most recent call last)",
      "\u001b[0;32m/tmp/ipykernel_10472/898818102.py\u001b[0m in \u001b[0;36m<module>\u001b[0;34m\u001b[0m\n\u001b[0;32m----> 1\u001b[0;31m \u001b[0mnumpy\u001b[0m\u001b[0;34m.\u001b[0m\u001b[0margpartition\u001b[0m\u001b[0;34m(\u001b[0m\u001b[0mresp\u001b[0m\u001b[0;34m,\u001b[0m \u001b[0;34m-\u001b[0m\u001b[0;36m5\u001b[0m\u001b[0;34m)\u001b[0m\u001b[0;34m[\u001b[0m\u001b[0;34m-\u001b[0m\u001b[0;36m5\u001b[0m\u001b[0;34m:\u001b[0m\u001b[0;34m]\u001b[0m\u001b[0;34m\u001b[0m\u001b[0;34m\u001b[0m\u001b[0m\n\u001b[0m",
      "\u001b[0;31mNameError\u001b[0m: name 'resp' is not defined"
     ]
    }
   ],
   "source": [
    "numpy.argpartition(resp, -5)[-5:]"
   ]
  },
  {
   "cell_type": "code",
   "execution_count": null,
   "metadata": {},
   "outputs": [],
   "source": [
    "resp.argmax()"
   ]
  },
  {
   "cell_type": "code",
   "execution_count": 89,
   "metadata": {},
   "outputs": [
    {
     "data": {
      "text/plain": [
       "'@PMMG190 - MATA VERDE \\x96 Mais de 21kg de drogas são apreendidos pela PM https://t.co/AA5Z6SPeHu'"
      ]
     },
     "execution_count": 89,
     "metadata": {},
     "output_type": "execute_result"
    }
   ],
   "source": [
    "df_tratado['Text'].values[2804]"
   ]
  },
  {
   "cell_type": "code",
   "execution_count": null,
   "metadata": {},
   "outputs": [],
   "source": [
    "resp[280]"
   ]
  },
  {
   "cell_type": "markdown",
   "metadata": {},
   "source": [
    "## Criar modelo"
   ]
  },
  {
   "cell_type": "code",
   "execution_count": 236,
   "metadata": {},
   "outputs": [],
   "source": [
    "from sklearn.naive_bayes import MultinomialNB\n",
    "from sklearn import svm\n",
    "from sklearn import metrics\n",
    "from sklearn.model_selection import cross_val_predict"
   ]
  },
  {
   "cell_type": "code",
   "execution_count": 237,
   "metadata": {},
   "outputs": [],
   "source": [
    "class Modelo:\n",
    "    def _init(self, path= None):\n",
    "        if path:\n",
    "            self.load(path)\n",
    "            \n",
    "    def train(self, X:list, Y:list):\n",
    "        self.model = MultinomialNB()\n",
    "        self.model.fit(X, Y)\n",
    "        resultados = cross_val_predict(self.model, X, Y, cv=10)\n",
    "        print(metrics.accuracy_score(Y, resultados))\n",
    "        print(metrics.classification_report(Y, resultados))\n",
    "        \n",
    "    def predict(self, X):\n",
    "        result = self.model.predict_proba(X)[0]\n",
    "\n",
    "        print(f'Negativo {result[0]:.2f}')\n",
    "        print(f'Neutro {result[1]:.2f}')        \n",
    "        print(f'Positivo {result[2]:.2f}')        \n",
    "        return self.model.predict(X)[0]"
   ]
  },
  {
   "cell_type": "code",
   "execution_count": 238,
   "metadata": {},
   "outputs": [],
   "source": [
    "modelo = Modelo()"
   ]
  },
  {
   "cell_type": "code",
   "execution_count": null,
   "metadata": {},
   "outputs": [],
   "source": []
  },
  {
   "cell_type": "code",
   "execution_count": 239,
   "metadata": {},
   "outputs": [
    {
     "name": "stdout",
     "output_type": "stream",
     "text": [
      "0.8494271685761048\n",
      "              precision    recall  f1-score   support\n",
      "\n",
      "    Negativo       0.65      0.88      0.75       494\n",
      "      Neutro       0.89      0.83      0.86      1419\n",
      "    Positivo       0.93      0.86      0.89      1142\n",
      "\n",
      "    accuracy                           0.85      3055\n",
      "   macro avg       0.82      0.86      0.83      3055\n",
      "weighted avg       0.86      0.85      0.85      3055\n",
      "\n"
     ]
    }
   ],
   "source": [
    "modelo.train(bow.corpus, df_tratado['Classificacao'].values)"
   ]
  },
  {
   "cell_type": "code",
   "execution_count": 240,
   "metadata": {},
   "outputs": [
    {
     "ename": "ValueError",
     "evalue": "dimension mismatch",
     "output_type": "error",
     "traceback": [
      "\u001b[0;31m---------------------------------------------------------------------------\u001b[0m",
      "\u001b[0;31mValueError\u001b[0m                                Traceback (most recent call last)",
      "\u001b[0;32m/tmp/ipykernel_10472/4211708944.py\u001b[0m in \u001b[0;36m<module>\u001b[0;34m\u001b[0m\n\u001b[0;32m----> 1\u001b[0;31m \u001b[0mmodelo\u001b[0m\u001b[0;34m.\u001b[0m\u001b[0mpredict\u001b[0m\u001b[0;34m(\u001b[0m\u001b[0mtfidf\u001b[0m\u001b[0;34m.\u001b[0m\u001b[0mtransform\u001b[0m\u001b[0;34m(\u001b[0m\u001b[0;34m[\u001b[0m\u001b[0mprep\u001b[0m\u001b[0;34m.\u001b[0m\u001b[0mrun\u001b[0m\u001b[0;34m(\u001b[0m\u001b[0;34m'pimental pt'\u001b[0m\u001b[0;34m)\u001b[0m\u001b[0;34m]\u001b[0m\u001b[0;34m)\u001b[0m\u001b[0;34m)\u001b[0m\u001b[0;34m\u001b[0m\u001b[0;34m\u001b[0m\u001b[0m\n\u001b[0m",
      "\u001b[0;32m/tmp/ipykernel_10472/2532263877.py\u001b[0m in \u001b[0;36mpredict\u001b[0;34m(self, X)\u001b[0m\n\u001b[1;32m     12\u001b[0m \u001b[0;34m\u001b[0m\u001b[0m\n\u001b[1;32m     13\u001b[0m     \u001b[0;32mdef\u001b[0m \u001b[0mpredict\u001b[0m\u001b[0;34m(\u001b[0m\u001b[0mself\u001b[0m\u001b[0;34m,\u001b[0m \u001b[0mX\u001b[0m\u001b[0;34m)\u001b[0m\u001b[0;34m:\u001b[0m\u001b[0;34m\u001b[0m\u001b[0;34m\u001b[0m\u001b[0m\n\u001b[0;32m---> 14\u001b[0;31m         \u001b[0mresult\u001b[0m \u001b[0;34m=\u001b[0m \u001b[0mself\u001b[0m\u001b[0;34m.\u001b[0m\u001b[0mmodel\u001b[0m\u001b[0;34m.\u001b[0m\u001b[0mpredict_proba\u001b[0m\u001b[0;34m(\u001b[0m\u001b[0mX\u001b[0m\u001b[0;34m)\u001b[0m\u001b[0;34m[\u001b[0m\u001b[0;36m0\u001b[0m\u001b[0;34m]\u001b[0m\u001b[0;34m\u001b[0m\u001b[0;34m\u001b[0m\u001b[0m\n\u001b[0m\u001b[1;32m     15\u001b[0m \u001b[0;34m\u001b[0m\u001b[0m\n\u001b[1;32m     16\u001b[0m         \u001b[0mprint\u001b[0m\u001b[0;34m(\u001b[0m\u001b[0;34mf'Negativo {result[0]:.2f}'\u001b[0m\u001b[0;34m)\u001b[0m\u001b[0;34m\u001b[0m\u001b[0;34m\u001b[0m\u001b[0m\n",
      "\u001b[0;32m~/.local/lib/python3.9/site-packages/sklearn/naive_bayes.py\u001b[0m in \u001b[0;36mpredict_proba\u001b[0;34m(self, X)\u001b[0m\n\u001b[1;32m    113\u001b[0m             \u001b[0morder\u001b[0m\u001b[0;34m,\u001b[0m \u001b[0;32mas\u001b[0m \u001b[0mthey\u001b[0m \u001b[0mappear\u001b[0m \u001b[0;32min\u001b[0m \u001b[0mthe\u001b[0m \u001b[0mattribute\u001b[0m \u001b[0;34m:\u001b[0m\u001b[0mterm\u001b[0m\u001b[0;34m:\u001b[0m\u001b[0;31m`\u001b[0m\u001b[0mclasses_\u001b[0m\u001b[0;31m`\u001b[0m\u001b[0;34m.\u001b[0m\u001b[0;34m\u001b[0m\u001b[0;34m\u001b[0m\u001b[0m\n\u001b[1;32m    114\u001b[0m         \"\"\"\n\u001b[0;32m--> 115\u001b[0;31m         \u001b[0;32mreturn\u001b[0m \u001b[0mnp\u001b[0m\u001b[0;34m.\u001b[0m\u001b[0mexp\u001b[0m\u001b[0;34m(\u001b[0m\u001b[0mself\u001b[0m\u001b[0;34m.\u001b[0m\u001b[0mpredict_log_proba\u001b[0m\u001b[0;34m(\u001b[0m\u001b[0mX\u001b[0m\u001b[0;34m)\u001b[0m\u001b[0;34m)\u001b[0m\u001b[0;34m\u001b[0m\u001b[0;34m\u001b[0m\u001b[0m\n\u001b[0m\u001b[1;32m    116\u001b[0m \u001b[0;34m\u001b[0m\u001b[0m\n\u001b[1;32m    117\u001b[0m \u001b[0;34m\u001b[0m\u001b[0m\n",
      "\u001b[0;32m~/.local/lib/python3.9/site-packages/sklearn/naive_bayes.py\u001b[0m in \u001b[0;36mpredict_log_proba\u001b[0;34m(self, X)\u001b[0m\n\u001b[1;32m     93\u001b[0m         \u001b[0mcheck_is_fitted\u001b[0m\u001b[0;34m(\u001b[0m\u001b[0mself\u001b[0m\u001b[0;34m)\u001b[0m\u001b[0;34m\u001b[0m\u001b[0;34m\u001b[0m\u001b[0m\n\u001b[1;32m     94\u001b[0m         \u001b[0mX\u001b[0m \u001b[0;34m=\u001b[0m \u001b[0mself\u001b[0m\u001b[0;34m.\u001b[0m\u001b[0m_check_X\u001b[0m\u001b[0;34m(\u001b[0m\u001b[0mX\u001b[0m\u001b[0;34m)\u001b[0m\u001b[0;34m\u001b[0m\u001b[0;34m\u001b[0m\u001b[0m\n\u001b[0;32m---> 95\u001b[0;31m         \u001b[0mjll\u001b[0m \u001b[0;34m=\u001b[0m \u001b[0mself\u001b[0m\u001b[0;34m.\u001b[0m\u001b[0m_joint_log_likelihood\u001b[0m\u001b[0;34m(\u001b[0m\u001b[0mX\u001b[0m\u001b[0;34m)\u001b[0m\u001b[0;34m\u001b[0m\u001b[0;34m\u001b[0m\u001b[0m\n\u001b[0m\u001b[1;32m     96\u001b[0m         \u001b[0;31m# normalize by P(x) = P(f_1, ..., f_n)\u001b[0m\u001b[0;34m\u001b[0m\u001b[0;34m\u001b[0m\u001b[0m\n\u001b[1;32m     97\u001b[0m         \u001b[0mlog_prob_x\u001b[0m \u001b[0;34m=\u001b[0m \u001b[0mlogsumexp\u001b[0m\u001b[0;34m(\u001b[0m\u001b[0mjll\u001b[0m\u001b[0;34m,\u001b[0m \u001b[0maxis\u001b[0m\u001b[0;34m=\u001b[0m\u001b[0;36m1\u001b[0m\u001b[0;34m)\u001b[0m\u001b[0;34m\u001b[0m\u001b[0;34m\u001b[0m\u001b[0m\n",
      "\u001b[0;32m~/.local/lib/python3.9/site-packages/sklearn/naive_bayes.py\u001b[0m in \u001b[0;36m_joint_log_likelihood\u001b[0;34m(self, X)\u001b[0m\n\u001b[1;32m    783\u001b[0m     \u001b[0;32mdef\u001b[0m \u001b[0m_joint_log_likelihood\u001b[0m\u001b[0;34m(\u001b[0m\u001b[0mself\u001b[0m\u001b[0;34m,\u001b[0m \u001b[0mX\u001b[0m\u001b[0;34m)\u001b[0m\u001b[0;34m:\u001b[0m\u001b[0;34m\u001b[0m\u001b[0;34m\u001b[0m\u001b[0m\n\u001b[1;32m    784\u001b[0m         \u001b[0;34m\"\"\"Calculate the posterior log probability of the samples X\"\"\"\u001b[0m\u001b[0;34m\u001b[0m\u001b[0;34m\u001b[0m\u001b[0m\n\u001b[0;32m--> 785\u001b[0;31m         return (safe_sparse_dot(X, self.feature_log_prob_.T) +\n\u001b[0m\u001b[1;32m    786\u001b[0m                 self.class_log_prior_)\n\u001b[1;32m    787\u001b[0m \u001b[0;34m\u001b[0m\u001b[0m\n",
      "\u001b[0;32m~/.local/lib/python3.9/site-packages/sklearn/utils/validation.py\u001b[0m in \u001b[0;36minner_f\u001b[0;34m(*args, **kwargs)\u001b[0m\n\u001b[1;32m     61\u001b[0m             \u001b[0mextra_args\u001b[0m \u001b[0;34m=\u001b[0m \u001b[0mlen\u001b[0m\u001b[0;34m(\u001b[0m\u001b[0margs\u001b[0m\u001b[0;34m)\u001b[0m \u001b[0;34m-\u001b[0m \u001b[0mlen\u001b[0m\u001b[0;34m(\u001b[0m\u001b[0mall_args\u001b[0m\u001b[0;34m)\u001b[0m\u001b[0;34m\u001b[0m\u001b[0;34m\u001b[0m\u001b[0m\n\u001b[1;32m     62\u001b[0m             \u001b[0;32mif\u001b[0m \u001b[0mextra_args\u001b[0m \u001b[0;34m<=\u001b[0m \u001b[0;36m0\u001b[0m\u001b[0;34m:\u001b[0m\u001b[0;34m\u001b[0m\u001b[0;34m\u001b[0m\u001b[0m\n\u001b[0;32m---> 63\u001b[0;31m                 \u001b[0;32mreturn\u001b[0m \u001b[0mf\u001b[0m\u001b[0;34m(\u001b[0m\u001b[0;34m*\u001b[0m\u001b[0margs\u001b[0m\u001b[0;34m,\u001b[0m \u001b[0;34m**\u001b[0m\u001b[0mkwargs\u001b[0m\u001b[0;34m)\u001b[0m\u001b[0;34m\u001b[0m\u001b[0;34m\u001b[0m\u001b[0m\n\u001b[0m\u001b[1;32m     64\u001b[0m \u001b[0;34m\u001b[0m\u001b[0m\n\u001b[1;32m     65\u001b[0m             \u001b[0;31m# extra_args > 0\u001b[0m\u001b[0;34m\u001b[0m\u001b[0;34m\u001b[0m\u001b[0m\n",
      "\u001b[0;32m~/.local/lib/python3.9/site-packages/sklearn/utils/extmath.py\u001b[0m in \u001b[0;36msafe_sparse_dot\u001b[0;34m(a, b, dense_output)\u001b[0m\n\u001b[1;32m    150\u001b[0m             \u001b[0mret\u001b[0m \u001b[0;34m=\u001b[0m \u001b[0mnp\u001b[0m\u001b[0;34m.\u001b[0m\u001b[0mdot\u001b[0m\u001b[0;34m(\u001b[0m\u001b[0ma\u001b[0m\u001b[0;34m,\u001b[0m \u001b[0mb\u001b[0m\u001b[0;34m)\u001b[0m\u001b[0;34m\u001b[0m\u001b[0;34m\u001b[0m\u001b[0m\n\u001b[1;32m    151\u001b[0m     \u001b[0;32melse\u001b[0m\u001b[0;34m:\u001b[0m\u001b[0;34m\u001b[0m\u001b[0;34m\u001b[0m\u001b[0m\n\u001b[0;32m--> 152\u001b[0;31m         \u001b[0mret\u001b[0m \u001b[0;34m=\u001b[0m \u001b[0ma\u001b[0m \u001b[0;34m@\u001b[0m \u001b[0mb\u001b[0m\u001b[0;34m\u001b[0m\u001b[0;34m\u001b[0m\u001b[0m\n\u001b[0m\u001b[1;32m    153\u001b[0m \u001b[0;34m\u001b[0m\u001b[0m\n\u001b[1;32m    154\u001b[0m     if (sparse.issparse(a) and sparse.issparse(b)\n",
      "\u001b[0;32m~/.local/lib/python3.9/site-packages/scipy/sparse/base.py\u001b[0m in \u001b[0;36m__matmul__\u001b[0;34m(self, other)\u001b[0m\n\u001b[1;32m    558\u001b[0m             raise ValueError(\"Scalar operands are not allowed, \"\n\u001b[1;32m    559\u001b[0m                              \"use '*' instead\")\n\u001b[0;32m--> 560\u001b[0;31m         \u001b[0;32mreturn\u001b[0m \u001b[0mself\u001b[0m\u001b[0;34m.\u001b[0m\u001b[0m__mul__\u001b[0m\u001b[0;34m(\u001b[0m\u001b[0mother\u001b[0m\u001b[0;34m)\u001b[0m\u001b[0;34m\u001b[0m\u001b[0;34m\u001b[0m\u001b[0m\n\u001b[0m\u001b[1;32m    561\u001b[0m \u001b[0;34m\u001b[0m\u001b[0m\n\u001b[1;32m    562\u001b[0m     \u001b[0;32mdef\u001b[0m \u001b[0m__rmatmul__\u001b[0m\u001b[0;34m(\u001b[0m\u001b[0mself\u001b[0m\u001b[0;34m,\u001b[0m \u001b[0mother\u001b[0m\u001b[0;34m)\u001b[0m\u001b[0;34m:\u001b[0m\u001b[0;34m\u001b[0m\u001b[0;34m\u001b[0m\u001b[0m\n",
      "\u001b[0;32m~/.local/lib/python3.9/site-packages/scipy/sparse/base.py\u001b[0m in \u001b[0;36m__mul__\u001b[0;34m(self, other)\u001b[0m\n\u001b[1;32m    514\u001b[0m \u001b[0;34m\u001b[0m\u001b[0m\n\u001b[1;32m    515\u001b[0m             \u001b[0;32mif\u001b[0m \u001b[0mother\u001b[0m\u001b[0;34m.\u001b[0m\u001b[0mshape\u001b[0m\u001b[0;34m[\u001b[0m\u001b[0;36m0\u001b[0m\u001b[0;34m]\u001b[0m \u001b[0;34m!=\u001b[0m \u001b[0mself\u001b[0m\u001b[0;34m.\u001b[0m\u001b[0mshape\u001b[0m\u001b[0;34m[\u001b[0m\u001b[0;36m1\u001b[0m\u001b[0;34m]\u001b[0m\u001b[0;34m:\u001b[0m\u001b[0;34m\u001b[0m\u001b[0;34m\u001b[0m\u001b[0m\n\u001b[0;32m--> 516\u001b[0;31m                 \u001b[0;32mraise\u001b[0m \u001b[0mValueError\u001b[0m\u001b[0;34m(\u001b[0m\u001b[0;34m'dimension mismatch'\u001b[0m\u001b[0;34m)\u001b[0m\u001b[0;34m\u001b[0m\u001b[0;34m\u001b[0m\u001b[0m\n\u001b[0m\u001b[1;32m    517\u001b[0m \u001b[0;34m\u001b[0m\u001b[0m\n\u001b[1;32m    518\u001b[0m             \u001b[0mresult\u001b[0m \u001b[0;34m=\u001b[0m \u001b[0mself\u001b[0m\u001b[0;34m.\u001b[0m\u001b[0m_mul_multivector\u001b[0m\u001b[0;34m(\u001b[0m\u001b[0mnp\u001b[0m\u001b[0;34m.\u001b[0m\u001b[0masarray\u001b[0m\u001b[0;34m(\u001b[0m\u001b[0mother\u001b[0m\u001b[0;34m)\u001b[0m\u001b[0;34m)\u001b[0m\u001b[0;34m\u001b[0m\u001b[0;34m\u001b[0m\u001b[0m\n",
      "\u001b[0;31mValueError\u001b[0m: dimension mismatch"
     ]
    }
   ],
   "source": [
    "modelo.predict(tfidf.transform([prep.run('pimental pt')]))"
   ]
  },
  {
   "cell_type": "code",
   "execution_count": 241,
   "metadata": {},
   "outputs": [
    {
     "data": {
      "text/plain": [
       "(3055, 5)"
      ]
     },
     "execution_count": 241,
     "metadata": {},
     "output_type": "execute_result"
    }
   ],
   "source": [
    "df_tratado.shape"
   ]
  },
  {
   "cell_type": "code",
   "execution_count": null,
   "metadata": {},
   "outputs": [],
   "source": []
  }
 ],
 "metadata": {
  "kernelspec": {
   "display_name": "Python 3 (ipykernel)",
   "language": "python",
   "name": "python3"
  },
  "language_info": {
   "codemirror_mode": {
    "name": "ipython",
    "version": 3
   },
   "file_extension": ".py",
   "mimetype": "text/x-python",
   "name": "python",
   "nbconvert_exporter": "python",
   "pygments_lexer": "ipython3",
   "version": "3.9.7"
  }
 },
 "nbformat": 4,
 "nbformat_minor": 4
}
