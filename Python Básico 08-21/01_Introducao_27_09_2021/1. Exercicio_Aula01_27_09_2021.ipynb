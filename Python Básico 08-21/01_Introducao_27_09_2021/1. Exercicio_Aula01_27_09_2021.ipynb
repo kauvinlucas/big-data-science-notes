{
 "cells": [
  {
   "cell_type": "markdown",
   "id": "1842eec0",
   "metadata": {},
   "source": [
    "### Resumo\n",
    "Este notebook tem o objetivo de exercitar os conteúdos básicos da Aula 01, que se refere aos fundamentos da programação em Python"
   ]
  },
  {
   "cell_type": "markdown",
   "id": "354988c2",
   "metadata": {},
   "source": [
    "### Questão 1 - Importe a função randint da biblioteca numpy"
   ]
  },
  {
   "cell_type": "code",
   "execution_count": null,
   "id": "1bd23723",
   "metadata": {},
   "outputs": [],
   "source": [
    "!pip install numpy"
   ]
  },
  {
   "cell_type": "code",
   "execution_count": 1,
   "id": "4e270301",
   "metadata": {},
   "outputs": [],
   "source": [
    "from numpy.random import randint as rand"
   ]
  },
  {
   "cell_type": "markdown",
   "id": "81da0940",
   "metadata": {},
   "source": [
    "### Questão 2 e 3 - Crie uma lista de números 15 números aleatórios inteiros, que estejam entre 0 e 10, usando a função randint e o método append de uma lista."
   ]
  },
  {
   "cell_type": "code",
   "execution_count": 13,
   "id": "bc4d39ed",
   "metadata": {},
   "outputs": [
    {
     "name": "stdout",
     "output_type": "stream",
     "text": [
      "[9, 2, 5, 8, 5, 2, 9, 6, 5, 4, 3, 0, 5, 2, 2]\n"
     ]
    }
   ],
   "source": [
    "lista = []\n",
    "for i in range(15):\n",
    "    lista.append(rand(10))\n",
    "print(lista)"
   ]
  },
  {
   "cell_type": "markdown",
   "id": "b86dd01c",
   "metadata": {},
   "source": [
    "Adicione o comando %%timeit no topo da célula que você criou para a função 2, ele irá calcular o tempo médio de execução do seu código"
   ]
  },
  {
   "cell_type": "code",
   "execution_count": 17,
   "id": "ae90896e",
   "metadata": {},
   "outputs": [
    {
     "name": "stdout",
     "output_type": "stream",
     "text": [
      "108 µs ± 22.1 µs per loop (mean ± std. dev. of 7 runs, 10000 loops each)\n"
     ]
    }
   ],
   "source": [
    "%%timeit\n",
    "lista = []\n",
    "for i in range(15):\n",
    "    lista.append(rand(10))"
   ]
  },
  {
   "cell_type": "markdown",
   "id": "6f54754a",
   "metadata": {},
   "source": [
    "### Questão 4 - Use os argumentos size e type na função randint para repetir a questão 2."
   ]
  },
  {
   "cell_type": "code",
   "execution_count": 15,
   "id": "177c90a2",
   "metadata": {},
   "outputs": [
    {
     "data": {
      "text/plain": [
       "array([8, 1, 8, 8, 3, 9, 8, 1, 3, 0, 4, 1, 0, 9, 8])"
      ]
     },
     "execution_count": 15,
     "metadata": {},
     "output_type": "execute_result"
    }
   ],
   "source": [
    "rand(0, 10, 15)"
   ]
  },
  {
   "cell_type": "markdown",
   "id": "8c93f80d",
   "metadata": {},
   "source": [
    "### Questão 5 - Calcule o tempo do código feito na questão 4. É menor que o da questão 03?"
   ]
  },
  {
   "cell_type": "code",
   "execution_count": 16,
   "id": "e9fff344",
   "metadata": {},
   "outputs": [
    {
     "name": "stdout",
     "output_type": "stream",
     "text": [
      "36.3 µs ± 1.08 µs per loop (mean ± std. dev. of 7 runs, 10000 loops each)\n"
     ]
    }
   ],
   "source": [
    "%%timeit\n",
    "list(rand(0, 10, 15))"
   ]
  },
  {
   "cell_type": "markdown",
   "id": "56507093",
   "metadata": {},
   "source": [
    "### Questão 6 - Faça uma função com apenas for,range,len, while, if, else, break para ordenar a lista que você criou na questão 04 do menor para o maior número."
   ]
  },
  {
   "cell_type": "code",
   "execution_count": 187,
   "id": "b6d8bbb1",
   "metadata": {},
   "outputs": [],
   "source": [
    "def ordenar(rand):\n",
    "    lista = []\n",
    "    for i in range(len(rand)):\n",
    "        num = rand[i]\n",
    "        if i == 0:\n",
    "            lista.append(num)\n",
    "        else:\n",
    "            if num >= lista[i-1]:\n",
    "                lista.append(num)\n",
    "            else:\n",
    "                trigger = False\n",
    "                for x in range(len(lista)):\n",
    "                    if trigger == False:\n",
    "                        var = lista[x]\n",
    "                        if num <= var:\n",
    "                            lista.append(0)\n",
    "                            for a in range(len(lista)-1, x, -1):\n",
    "                                lista[a] = lista[a-1]\n",
    "                            if len(lista)==2:\n",
    "                                lista[x-2] = num\n",
    "                            else:\n",
    "                                lista[x] = num\n",
    "                            trigger = True\n",
    "                        else:\n",
    "                            continue\n",
    "    return lista"
   ]
  },
  {
   "cell_type": "code",
   "execution_count": 201,
   "id": "698852dd",
   "metadata": {},
   "outputs": [
    {
     "name": "stdout",
     "output_type": "stream",
     "text": [
      "Números aleatórios: [7, 0, 3, 9, 4, 5, 7, 4, 9, 8, 2, 8, 2, 7, 2]\n",
      "Números aleatórios ordenados: [0, 2, 2, 2, 3, 4, 4, 5, 7, 7, 7, 8, 8, 9, 9]\n"
     ]
    }
   ],
   "source": [
    "lst_rand = list(rand(0, 10, 15))\n",
    "print(\"Números aleatórios: {}\".format(lst_rand))\n",
    "lista = ordenar(lst_rand)\n",
    "print(\"Números aleatórios ordenados: {}\".format(lista))"
   ]
  },
  {
   "cell_type": "markdown",
   "id": "283a92e3",
   "metadata": {},
   "source": [
    "### Questão 7 - Use a função sorted para refazer a questão 06"
   ]
  },
  {
   "cell_type": "code",
   "execution_count": 203,
   "id": "fc8e329c",
   "metadata": {},
   "outputs": [
    {
     "name": "stdout",
     "output_type": "stream",
     "text": [
      "Números aleatórios ordenados: [0, 2, 2, 2, 3, 4, 4, 5, 7, 7, 7, 8, 8, 9, 9]\n"
     ]
    }
   ],
   "source": [
    "print(\"Números aleatórios ordenados: {}\".format(sorted(lst_rand)))"
   ]
  },
  {
   "cell_type": "markdown",
   "id": "9265dca0",
   "metadata": {},
   "source": [
    "### Questão 8 - Calcule o tempo da questão 6 e da questão 07"
   ]
  },
  {
   "cell_type": "code",
   "execution_count": 197,
   "id": "7d49445c",
   "metadata": {},
   "outputs": [],
   "source": [
    "lst_rand = list(rand(0, 10, 15))"
   ]
  },
  {
   "cell_type": "code",
   "execution_count": 198,
   "id": "1b1578a0",
   "metadata": {},
   "outputs": [
    {
     "name": "stdout",
     "output_type": "stream",
     "text": [
      "28.6 µs ± 306 ns per loop (mean ± std. dev. of 7 runs, 10000 loops each)\n"
     ]
    }
   ],
   "source": [
    "%%timeit\n",
    "lista = ordenar(lst_rand)"
   ]
  },
  {
   "cell_type": "code",
   "execution_count": 199,
   "id": "44f7e5ea",
   "metadata": {},
   "outputs": [
    {
     "name": "stdout",
     "output_type": "stream",
     "text": [
      "1.48 µs ± 9.74 ns per loop (mean ± std. dev. of 7 runs, 1000000 loops each)\n"
     ]
    }
   ],
   "source": [
    "%%timeit\n",
    "sorted(lst_rand)"
   ]
  },
  {
   "cell_type": "code",
   "execution_count": null,
   "id": "0ead78c5",
   "metadata": {},
   "outputs": [],
   "source": []
  }
 ],
 "metadata": {
  "kernelspec": {
   "display_name": "Python 3 (ipykernel)",
   "language": "python",
   "name": "python3"
  },
  "language_info": {
   "codemirror_mode": {
    "name": "ipython",
    "version": 3
   },
   "file_extension": ".py",
   "mimetype": "text/x-python",
   "name": "python",
   "nbconvert_exporter": "python",
   "pygments_lexer": "ipython3",
   "version": "3.9.7"
  }
 },
 "nbformat": 4,
 "nbformat_minor": 5
}
