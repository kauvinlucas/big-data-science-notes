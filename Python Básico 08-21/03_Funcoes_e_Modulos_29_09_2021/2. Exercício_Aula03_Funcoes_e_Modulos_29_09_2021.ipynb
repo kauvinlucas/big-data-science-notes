{
 "cells": [
  {
   "cell_type": "markdown",
   "metadata": {},
   "source": [
    "**Autor** : Kauvin Lucas\n",
    "\n",
    "**e-mail**: "
   ]
  },
  {
   "cell_type": "markdown",
   "metadata": {},
   "source": [
    "#  <a name=\"resumo\"> RESUMO </a>"
   ]
  },
  {
   "cell_type": "markdown",
   "metadata": {},
   "source": [
    "Este notebook tem o objetivo de mostrar como criamos nossos módulos customizados e o uso deles nos códigos"
   ]
  },
  {
   "cell_type": "markdown",
   "metadata": {},
   "source": [
    "#  <a name=\"indice\">  Índice </a>"
   ]
  },
  {
   "cell_type": "markdown",
   "metadata": {
    "tags": [
     "indice"
    ]
   },
   "source": [
    "* [Resumo](#resumo)\n",
    "* [Índice](#indice)\n",
    "* [Questão 1 - Crie uma função que encontra filtra os números ímpares de uma lista de inteiros e depois os multiplica por 3.](#secao_1)\n",
    "* [Questão 2 - Crie um módulo que contenha essa função e depois faça o import.](#secao_2)\n",
    "* [Questão 3 - Crie testes unitários para as funções.](#secao_3)\n",
    "* [Questão 4 - Faça com que o módulo gere logs e registre em arquivo.](#secao_4)\n",
    "* [Questão 5 - Use Decorators para incluir mensagens de logs nas funções criadas.](#secao_5)\n",
    "* [Conclusão](#conclusao)"
   ]
  },
  {
   "cell_type": "markdown",
   "metadata": {},
   "source": [
    "#  <a name=\"secao_1\"> Questão 1 - Crie uma função que encontra filtra os números ímpares de uma lista de inteiros e depois os multiplica por 3.</a>\n",
    "[Voltar ao índice](#indice)"
   ]
  },
  {
   "cell_type": "code",
   "execution_count": 1,
   "metadata": {},
   "outputs": [],
   "source": [
    "from numpy.random import randint\n",
    "from importlib import reload"
   ]
  },
  {
   "cell_type": "code",
   "execution_count": 2,
   "metadata": {},
   "outputs": [],
   "source": [
    "inteiros_15 = list(randint(10,size=15))"
   ]
  },
  {
   "cell_type": "code",
   "execution_count": 3,
   "metadata": {},
   "outputs": [
    {
     "data": {
      "text/plain": [
       "[3, 0, 0, 4, 4, 6, 7, 4, 2, 4, 2, 3, 8, 7, 3]"
      ]
     },
     "execution_count": 3,
     "metadata": {},
     "output_type": "execute_result"
    }
   ],
   "source": [
    "inteiros_15"
   ]
  },
  {
   "cell_type": "code",
   "execution_count": 12,
   "metadata": {},
   "outputs": [],
   "source": [
    "def filtr_n_mult(lista, factor = 3):\n",
    "    impares = [a for a in lista if a%2 !=0]\n",
    "    por_tres = [n*factor for n in impares]\n",
    "    return por_tres"
   ]
  },
  {
   "cell_type": "code",
   "execution_count": 13,
   "metadata": {},
   "outputs": [
    {
     "data": {
      "text/plain": [
       "[9, 21, 9, 21, 9]"
      ]
     },
     "execution_count": 13,
     "metadata": {},
     "output_type": "execute_result"
    }
   ],
   "source": [
    "filtr_n_mult(inteiros_15, factor=3)"
   ]
  },
  {
   "cell_type": "markdown",
   "metadata": {},
   "source": [
    "#  <a name=\"secao_2\"> Questão 2 - Crie um módulo que contenha essa função e depois faça o import.</a>\n",
    "[Voltar ao índice](#indice)"
   ]
  },
  {
   "cell_type": "code",
   "execution_count": 14,
   "metadata": {},
   "outputs": [],
   "source": [
    "from main_module import filtr_n_mult as fm"
   ]
  },
  {
   "cell_type": "code",
   "execution_count": 15,
   "metadata": {},
   "outputs": [
    {
     "data": {
      "text/plain": [
       "['__annotations__',\n",
       " '__call__',\n",
       " '__class__',\n",
       " '__closure__',\n",
       " '__code__',\n",
       " '__defaults__',\n",
       " '__delattr__',\n",
       " '__dict__',\n",
       " '__dir__',\n",
       " '__doc__',\n",
       " '__eq__',\n",
       " '__format__',\n",
       " '__ge__',\n",
       " '__get__',\n",
       " '__getattribute__',\n",
       " '__globals__',\n",
       " '__gt__',\n",
       " '__hash__',\n",
       " '__init__',\n",
       " '__init_subclass__',\n",
       " '__kwdefaults__',\n",
       " '__le__',\n",
       " '__lt__',\n",
       " '__module__',\n",
       " '__name__',\n",
       " '__ne__',\n",
       " '__new__',\n",
       " '__qualname__',\n",
       " '__reduce__',\n",
       " '__reduce_ex__',\n",
       " '__repr__',\n",
       " '__setattr__',\n",
       " '__sizeof__',\n",
       " '__str__',\n",
       " '__subclasshook__']"
      ]
     },
     "execution_count": 15,
     "metadata": {},
     "output_type": "execute_result"
    }
   ],
   "source": [
    "dir(fm)"
   ]
  },
  {
   "cell_type": "code",
   "execution_count": 16,
   "metadata": {},
   "outputs": [
    {
     "data": {
      "text/plain": [
       "[9, 21, 9, 21, 9]"
      ]
     },
     "execution_count": 16,
     "metadata": {},
     "output_type": "execute_result"
    }
   ],
   "source": [
    "fm(inteiros_15)"
   ]
  },
  {
   "cell_type": "markdown",
   "metadata": {},
   "source": [
    "#  <a name=\"secao_3\"> Questão 3 - Crie testes unitários para as funções. </a>\n",
    "[Voltar ao índice](#indice)"
   ]
  },
  {
   "cell_type": "markdown",
   "metadata": {},
   "source": [
    "Ref: https://docs.python.org/pt-br/3/howto/logging.html"
   ]
  },
  {
   "cell_type": "code",
   "execution_count": 25,
   "metadata": {
    "scrolled": true
   },
   "outputs": [
    {
     "name": "stdout",
     "output_type": "stream",
     "text": [
      ".\r\n",
      "----------------------------------------------------------------------\r\n",
      "Ran 1 test in 0.000s\r\n",
      "\r\n",
      "OK\r\n"
     ]
    }
   ],
   "source": [
    "! python -m unittest test_main_module.Filtr_n_Mult"
   ]
  },
  {
   "cell_type": "markdown",
   "metadata": {},
   "source": [
    "#  <a name=\"secao_4\"> Questão 4 - Faça com que o módulo gere logs e registre em arquivo.</a>\n",
    "[Voltar ao índice](#indice)"
   ]
  },
  {
   "cell_type": "code",
   "execution_count": 60,
   "metadata": {},
   "outputs": [],
   "source": [
    "import main_module as fm"
   ]
  },
  {
   "cell_type": "code",
   "execution_count": 64,
   "metadata": {},
   "outputs": [],
   "source": [
    "import logging\n",
    "logging.basicConfig()"
   ]
  },
  {
   "cell_type": "code",
   "execution_count": 74,
   "metadata": {},
   "outputs": [
    {
     "data": {
      "text/plain": [
       "[9, 21, 9, 21, 9]"
      ]
     },
     "execution_count": 74,
     "metadata": {},
     "output_type": "execute_result"
    }
   ],
   "source": [
    "# Mostrar logs Error (sem erro)\n",
    "logging.getLogger().setLevel(logging.ERROR)\n",
    "fm.filtr_n_mult(inteiros_15)"
   ]
  },
  {
   "cell_type": "code",
   "execution_count": 75,
   "metadata": {},
   "outputs": [
    {
     "name": "stderr",
     "output_type": "stream",
     "text": [
      "ERROR:main_module:Error executing the function\n"
     ]
    }
   ],
   "source": [
    "# Mostrar logs Error (com erro)\n",
    "logging.getLogger().setLevel(logging.ERROR)\n",
    "fm.filtr_n_mult(['as']) # Erro"
   ]
  },
  {
   "cell_type": "code",
   "execution_count": 57,
   "metadata": {},
   "outputs": [
    {
     "name": "stderr",
     "output_type": "stream",
     "text": [
      "WARNING:main_module:Only uneven integers are filtered!\n"
     ]
    },
    {
     "data": {
      "text/plain": [
       "[9, 21, 9, 21, 9]"
      ]
     },
     "execution_count": 57,
     "metadata": {},
     "output_type": "execute_result"
    }
   ],
   "source": [
    "# Mostrar logs de Warning\n",
    "logging.getLogger().setLevel(logging.WARNING)\n",
    "fm.filtr_n_mult(inteiros_15)"
   ]
  },
  {
   "cell_type": "code",
   "execution_count": 56,
   "metadata": {},
   "outputs": [
    {
     "name": "stderr",
     "output_type": "stream",
     "text": [
      "INFO:main_module:Function has completed executing\n",
      "WARNING:main_module:Only uneven integers are filtered!\n"
     ]
    },
    {
     "data": {
      "text/plain": [
       "[9, 21, 9, 21, 9]"
      ]
     },
     "execution_count": 56,
     "metadata": {},
     "output_type": "execute_result"
    }
   ],
   "source": [
    "# Mostrar logs de info e Warning\n",
    "logging.getLogger().setLevel(logging.INFO)\n",
    "fm.filtr_n_mult(inteiros_15)"
   ]
  },
  {
   "cell_type": "code",
   "execution_count": 58,
   "metadata": {},
   "outputs": [
    {
     "name": "stderr",
     "output_type": "stream",
     "text": [
      "INFO:main_module:Function has completed executing\n",
      "WARNING:main_module:Only uneven integers are filtered!\n",
      "DEBUG:main_module:Factor is set to 3 by default\n"
     ]
    },
    {
     "data": {
      "text/plain": [
       "[9, 21, 9, 21, 9]"
      ]
     },
     "execution_count": 58,
     "metadata": {},
     "output_type": "execute_result"
    }
   ],
   "source": [
    "# Mostrar logs de Info, Warning e Debug\n",
    "logging.getLogger().setLevel(logging.DEBUG)\n",
    "fm.filtr_n_mult(inteiros_15)"
   ]
  },
  {
   "cell_type": "markdown",
   "metadata": {},
   "source": [
    "#  <a name=\"secao_5\"> Questão 5 - Use Decorators para incluir mensagens de logs nas funções criadas. </a>\n",
    "[Voltar ao índice](#indice)"
   ]
  },
  {
   "cell_type": "markdown",
   "metadata": {},
   "source": [
    "Ref: https://dev.to/aldo/implementing-logging-in-python-via-decorators-1gje"
   ]
  },
  {
   "cell_type": "code",
   "execution_count": 76,
   "metadata": {},
   "outputs": [],
   "source": [
    "import logging\n",
    "import functools\n",
    "\n",
    "\n",
    "def _generate_log(path):\n",
    "    \"\"\"\n",
    "    Create a logger object\n",
    "    :param path: Path of the log file.\n",
    "    :return: Logger object.\n",
    "    \"\"\"\n",
    "    # Create a logger and set the level.\n",
    "    logger = logging.getLogger('LogError')\n",
    "    logger.setLevel(logging.ERROR)\n",
    "\n",
    "    # Create file handler, log format and add the format to file handler\n",
    "    file_handler = logging.FileHandler(path)\n",
    "\n",
    "    # See https://docs.python.org/3/library/logging.html#logrecord-attributes\n",
    "    # for log format attributes.\n",
    "    log_format = '%(levelname)s %(asctime)s %(message)s'\n",
    "    formatter = logging.Formatter(log_format)\n",
    "    file_handler.setFormatter(formatter)\n",
    "\n",
    "    logger.addHandler(file_handler)\n",
    "    return logger\n",
    "\n",
    "\n",
    "def log_error(path='log.error.log'):\n",
    "    \"\"\"\n",
    "    We create a parent function to take arguments\n",
    "    :param path:\n",
    "    :return:\n",
    "    \"\"\"\n",
    "\n",
    "    def error_log(func):\n",
    "\n",
    "        @functools.wraps(func)\n",
    "        def wrapper(*args, **kwargs):\n",
    "\n",
    "            try:\n",
    "                # Execute the called function, in this case `divide()`.\n",
    "                # If it throws an error `Exception` will be called.\n",
    "                # Otherwise it will be execute successfully.\n",
    "                return func(*args, **kwargs)\n",
    "            except Exception as e:\n",
    "                logger = _generate_log(path)\n",
    "                error_msg = 'And error has occurred at /' + func.__name__ + '\\n'\n",
    "                logger.exception(error_msg)\n",
    "\n",
    "                return e  # Or whatever message you want.\n",
    "\n",
    "        return wrapper\n",
    "\n",
    "    return error_log"
   ]
  },
  {
   "cell_type": "code",
   "execution_count": 77,
   "metadata": {},
   "outputs": [
    {
     "name": "stderr",
     "output_type": "stream",
     "text": [
      "ERROR:LogError:And error has occurred at /divide\n",
      "Traceback (most recent call last):\n",
      "  File \"/tmp/ipykernel_14562/1587134262.py\", line 44, in wrapper\n",
      "    return func(*args, **kwargs)\n",
      "  File \"/tmp/ipykernel_14562/2516426464.py\", line 3, in divide\n",
      "    return num1 / num2\n",
      "ZeroDivisionError: division by zero\n"
     ]
    },
    {
     "name": "stdout",
     "output_type": "stream",
     "text": [
      "division by zero\n"
     ]
    }
   ],
   "source": [
    "@log_error()\n",
    "def divide(num1, num2):\n",
    "    return num1 / num2\n",
    "\n",
    "\n",
    "if __name__ == '__main__':\n",
    "    result = divide(10, 0)\n",
    "    print(result)"
   ]
  },
  {
   "cell_type": "markdown",
   "metadata": {},
   "source": [
    "#  <a name=\"conclusao\"> Conclusão </a>\n",
    "[Voltar ao índice](#indice)"
   ]
  },
  {
   "cell_type": "markdown",
   "metadata": {},
   "source": [
    "Neste notebook vimos que é importante ter um estrutura no notebook para facilitar o desenvolvimento e divulgação do conhecimento"
   ]
  },
  {
   "cell_type": "code",
   "execution_count": null,
   "metadata": {},
   "outputs": [],
   "source": []
  }
 ],
 "metadata": {
  "hide_input": false,
  "kernelspec": {
   "display_name": "Python 3 (ipykernel)",
   "language": "python",
   "name": "python3"
  },
  "language_info": {
   "codemirror_mode": {
    "name": "ipython",
    "version": 3
   },
   "file_extension": ".py",
   "mimetype": "text/x-python",
   "name": "python",
   "nbconvert_exporter": "python",
   "pygments_lexer": "ipython3",
   "version": "3.9.7"
  },
  "toc": {
   "base_numbering": 1,
   "nav_menu": {
    "height": "294px",
    "width": "216px"
   },
   "number_sections": true,
   "sideBar": true,
   "skip_h1_title": false,
   "title_cell": "Table of Contents",
   "title_sidebar": "Contents",
   "toc_cell": false,
   "toc_position": {},
   "toc_section_display": true,
   "toc_window_display": false
  },
  "varInspector": {
   "cols": {
    "lenName": 16,
    "lenType": 16,
    "lenVar": 40
   },
   "kernels_config": {
    "python": {
     "delete_cmd_postfix": "",
     "delete_cmd_prefix": "del ",
     "library": "var_list.py",
     "varRefreshCmd": "print(var_dic_list())"
    },
    "r": {
     "delete_cmd_postfix": ") ",
     "delete_cmd_prefix": "rm(",
     "library": "var_list.r",
     "varRefreshCmd": "cat(var_dic_list()) "
    }
   },
   "types_to_exclude": [
    "module",
    "function",
    "builtin_function_or_method",
    "instance",
    "_Feature"
   ],
   "window_display": false
  }
 },
 "nbformat": 4,
 "nbformat_minor": 2
}
